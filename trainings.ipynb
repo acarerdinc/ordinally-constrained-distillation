{
 "cells": [
  {
   "cell_type": "markdown",
   "metadata": {},
   "source": [
    "### Distilling the Knowledge in a Neural Network\n",
    "\n",
    "https://arxiv.org/pdf/1503.02531.pdf"
   ]
  },
  {
   "cell_type": "code",
   "execution_count": 2,
   "metadata": {},
   "outputs": [
    {
     "name": "stderr",
     "output_type": "stream",
     "text": [
      "Using TensorFlow backend.\n"
     ]
    }
   ],
   "source": [
    "from importlib import reload\n",
    "import models\n",
    "reload(models)\n",
    "from __future__ import print_function\n",
    "import keras\n",
    "from keras.datasets import mnist, cifar10\n",
    "from keras.models import Sequential\n",
    "from keras.layers import Dense, Dropout, Flatten\n",
    "from keras.layers import Conv2D, MaxPooling2D\n",
    "from keras import backend as K\n",
    "from keras import optimizers\n",
    "import numpy as np\n",
    "from keras.callbacks import ModelCheckpoint  \n"
   ]
  },
  {
   "cell_type": "code",
   "execution_count": 3,
   "metadata": {},
   "outputs": [
    {
     "name": "stdout",
     "output_type": "stream",
     "text": [
      "x_train shape: (60000, 28, 28, 1)\n",
      "60000 train samples\n",
      "10000 test samples\n"
     ]
    }
   ],
   "source": [
    "batch_size = 1000\n",
    "num_classes = 10\n",
    "epochs = 60\n",
    "\n",
    "# input image dimensions\n",
    "img_rows, img_cols = 28, 28\n",
    "\n",
    "# the data, split between train and test sets\n",
    "(x_train, y_train), (x_test, y_test) = mnist.load_data()\n",
    "\n",
    "if K.image_data_format() == 'channels_first':\n",
    "    x_train = x_train.reshape(x_train.shape[0], 1, img_rows, img_cols)\n",
    "    x_test = x_test.reshape(x_test.shape[0], 1, img_rows, img_cols)\n",
    "    input_shape = (1, img_rows, img_cols)\n",
    "else:\n",
    "    x_train = x_train.reshape(x_train.shape[0], img_rows, img_cols, 1)\n",
    "    x_test = x_test.reshape(x_test.shape[0], img_rows, img_cols, 1)\n",
    "    input_shape = (img_rows, img_cols, 1)\n",
    "\n",
    "x_train = x_train.astype('float32')\n",
    "x_test = x_test.astype('float32')\n",
    "x_train /= 255\n",
    "x_test /= 255\n",
    "print('x_train shape:', x_train.shape)\n",
    "print(x_train.shape[0], 'train samples')\n",
    "print(x_test.shape[0], 'test samples')\n",
    "\n",
    "# convert class vectors to binary class matrices\n",
    "y_train = keras.utils.to_categorical(y_train, num_classes)\n",
    "y_test = keras.utils.to_categorical(y_test, num_classes)"
   ]
  },
  {
   "cell_type": "code",
   "execution_count": 4,
   "metadata": {},
   "outputs": [],
   "source": [
    "from keras.preprocessing.image import ImageDataGenerator\n",
    "\n",
    "train_datagen = ImageDataGenerator(width_shift_range=0.1, \n",
    "                             height_shift_range=0.1,\n",
    "                             shear_range=0.1,\n",
    "                             zoom_range=0.1,\n",
    "                            )\n",
    "\n",
    "test_datagen = ImageDataGenerator()\n",
    "\n",
    "train_datagen.fit(x_train)\n",
    "#test_datagen.fit(x_test)"
   ]
  },
  {
   "cell_type": "code",
   "execution_count": 5,
   "metadata": {},
   "outputs": [],
   "source": [
    "model = dict()\n",
    "hist = dict()\n",
    "score = dict()\n",
    "preds = dict()"
   ]
  },
  {
   "cell_type": "code",
   "execution_count": 6,
   "metadata": {},
   "outputs": [
    {
     "name": "stderr",
     "output_type": "stream",
     "text": [
      "WARNING: Logging before flag parsing goes to stderr.\n",
      "W0930 20:05:20.835141 140488202495808 deprecation_wrapper.py:119] From /home/acar/.virtualenvs/mask_rcnn/lib/python3.6/site-packages/keras/backend/tensorflow_backend.py:74: The name tf.get_default_graph is deprecated. Please use tf.compat.v1.get_default_graph instead.\n",
      "\n",
      "W0930 20:05:20.872389 140488202495808 deprecation_wrapper.py:119] From /home/acar/.virtualenvs/mask_rcnn/lib/python3.6/site-packages/keras/backend/tensorflow_backend.py:517: The name tf.placeholder is deprecated. Please use tf.compat.v1.placeholder instead.\n",
      "\n",
      "W0930 20:05:20.880152 140488202495808 deprecation_wrapper.py:119] From /home/acar/.virtualenvs/mask_rcnn/lib/python3.6/site-packages/keras/backend/tensorflow_backend.py:4138: The name tf.random_uniform is deprecated. Please use tf.random.uniform instead.\n",
      "\n",
      "W0930 20:05:20.951750 140488202495808 deprecation_wrapper.py:119] From /home/acar/.virtualenvs/mask_rcnn/lib/python3.6/site-packages/keras/backend/tensorflow_backend.py:3976: The name tf.nn.max_pool is deprecated. Please use tf.nn.max_pool2d instead.\n",
      "\n",
      "W0930 20:05:20.957339 140488202495808 deprecation_wrapper.py:119] From /home/acar/.virtualenvs/mask_rcnn/lib/python3.6/site-packages/keras/backend/tensorflow_backend.py:133: The name tf.placeholder_with_default is deprecated. Please use tf.compat.v1.placeholder_with_default instead.\n",
      "\n",
      "W0930 20:05:20.976952 140488202495808 deprecation.py:506] From /home/acar/.virtualenvs/mask_rcnn/lib/python3.6/site-packages/keras/backend/tensorflow_backend.py:3445: calling dropout (from tensorflow.python.ops.nn_ops) with keep_prob is deprecated and will be removed in a future version.\n",
      "Instructions for updating:\n",
      "Please use `rate` instead of `keep_prob`. Rate should be set to `rate = 1 - keep_prob`.\n",
      "W0930 20:05:21.170324 140488202495808 deprecation_wrapper.py:119] From /home/acar/.virtualenvs/mask_rcnn/lib/python3.6/site-packages/keras/optimizers.py:790: The name tf.train.Optimizer is deprecated. Please use tf.compat.v1.train.Optimizer instead.\n",
      "\n",
      "W0930 20:05:21.220181 140488202495808 deprecation_wrapper.py:119] From /home/acar/.virtualenvs/mask_rcnn/lib/python3.6/site-packages/keras/backend/tensorflow_backend.py:3295: The name tf.log is deprecated. Please use tf.math.log instead.\n",
      "\n"
     ]
    },
    {
     "name": "stdout",
     "output_type": "stream",
     "text": [
      "_________________________________________________________________\n",
      "Layer (type)                 Output Shape              Param #   \n",
      "=================================================================\n",
      "input_1 (InputLayer)         (None, 28, 28, 1)         0         \n",
      "_________________________________________________________________\n",
      "conv2d_1 (Conv2D)            (None, 26, 26, 128)       1280      \n",
      "_________________________________________________________________\n",
      "conv2d_2 (Conv2D)            (None, 24, 24, 128)       147584    \n",
      "_________________________________________________________________\n",
      "max_pooling2d_1 (MaxPooling2 (None, 12, 12, 128)       0         \n",
      "_________________________________________________________________\n",
      "dropout_1 (Dropout)          (None, 12, 12, 128)       0         \n",
      "_________________________________________________________________\n",
      "flatten_1 (Flatten)          (None, 18432)             0         \n",
      "_________________________________________________________________\n",
      "dense_1 (Dense)              (None, 1024)              18875392  \n",
      "_________________________________________________________________\n",
      "dropout_2 (Dropout)          (None, 1024)              0         \n",
      "_________________________________________________________________\n",
      "dense_2 (Dense)              (None, 1024)              1049600   \n",
      "_________________________________________________________________\n",
      "dropout_3 (Dropout)          (None, 1024)              0         \n",
      "_________________________________________________________________\n",
      "dense_3 (Dense)              (None, 10)                10250     \n",
      "_________________________________________________________________\n",
      "activation_1 (Activation)    (None, 10)                0         \n",
      "=================================================================\n",
      "Total params: 20,084,106\n",
      "Trainable params: 20,084,106\n",
      "Non-trainable params: 0\n",
      "_________________________________________________________________\n"
     ]
    }
   ],
   "source": [
    "reload(models)\n",
    "model['teacher'] = models.TeacherModel(input_shape, num_classes)\n",
    "\n",
    "model['teacher'].compile(loss=keras.losses.categorical_crossentropy,\n",
    "              optimizer='Adam',\n",
    "              metrics=['accuracy'])\n",
    "model['teacher'].summary()"
   ]
  },
  {
   "cell_type": "code",
   "execution_count": 11,
   "metadata": {
    "collapsed": true,
    "jupyter": {
     "outputs_hidden": true
    }
   },
   "outputs": [
    {
     "name": "stderr",
     "output_type": "stream",
     "text": [
      "W0930 14:14:53.959012 140318191400768 deprecation.py:323] From /home/acar/.virtualenvs/mask_rcnn/lib/python3.6/site-packages/tensorflow/python/ops/math_grad.py:1250: add_dispatch_support.<locals>.wrapper (from tensorflow.python.ops.array_ops) is deprecated and will be removed in a future version.\n",
      "Instructions for updating:\n",
      "Use tf.where in 2.0, which has the same broadcast rule as np.where\n"
     ]
    },
    {
     "name": "stdout",
     "output_type": "stream",
     "text": [
      "Epoch 1/100\n",
      "60/60 [==============================] - 27s 447ms/step - loss: 0.5800 - acc: 0.8056 - val_loss: 0.0629 - val_acc: 0.9779\n",
      "\n",
      "Epoch 00001: val_loss improved from inf to 0.06294, saving model to saved_models/weights.best.teacher.hdf5\n",
      "Epoch 2/100\n",
      "60/60 [==============================] - 22s 366ms/step - loss: 0.1244 - acc: 0.9618 - val_loss: 0.0320 - val_acc: 0.9894\n",
      "\n",
      "Epoch 00002: val_loss improved from 0.06294 to 0.03200, saving model to saved_models/weights.best.teacher.hdf5\n",
      "Epoch 3/100\n",
      "60/60 [==============================] - 23s 388ms/step - loss: 0.0915 - acc: 0.9720 - val_loss: 0.0289 - val_acc: 0.9903\n",
      "\n",
      "Epoch 00003: val_loss improved from 0.03200 to 0.02891, saving model to saved_models/weights.best.teacher.hdf5\n",
      "Epoch 4/100\n",
      "60/60 [==============================] - 23s 381ms/step - loss: 0.0729 - acc: 0.9783 - val_loss: 0.0277 - val_acc: 0.9903\n",
      "\n",
      "Epoch 00004: val_loss improved from 0.02891 to 0.02767, saving model to saved_models/weights.best.teacher.hdf5\n",
      "Epoch 5/100\n",
      "60/60 [==============================] - 23s 383ms/step - loss: 0.0677 - acc: 0.9782 - val_loss: 0.0258 - val_acc: 0.9908\n",
      "\n",
      "Epoch 00005: val_loss improved from 0.02767 to 0.02584, saving model to saved_models/weights.best.teacher.hdf5\n",
      "Epoch 6/100\n",
      "60/60 [==============================] - 22s 367ms/step - loss: 0.0611 - acc: 0.9816 - val_loss: 0.0299 - val_acc: 0.9896\n",
      "\n",
      "Epoch 00006: val_loss did not improve from 0.02584\n",
      "Epoch 7/100\n",
      "60/60 [==============================] - 23s 376ms/step - loss: 0.0544 - acc: 0.9836 - val_loss: 0.0209 - val_acc: 0.9925\n",
      "\n",
      "Epoch 00007: val_loss improved from 0.02584 to 0.02087, saving model to saved_models/weights.best.teacher.hdf5\n",
      "Epoch 8/100\n",
      "60/60 [==============================] - 23s 382ms/step - loss: 0.0498 - acc: 0.9847 - val_loss: 0.0207 - val_acc: 0.9931\n",
      "\n",
      "Epoch 00008: val_loss improved from 0.02087 to 0.02074, saving model to saved_models/weights.best.teacher.hdf5\n",
      "Epoch 9/100\n",
      "60/60 [==============================] - 23s 387ms/step - loss: 0.0477 - acc: 0.9852 - val_loss: 0.0194 - val_acc: 0.9932\n",
      "\n",
      "Epoch 00009: val_loss improved from 0.02074 to 0.01939, saving model to saved_models/weights.best.teacher.hdf5\n",
      "Epoch 10/100\n",
      "60/60 [==============================] - 24s 393ms/step - loss: 0.0455 - acc: 0.9862 - val_loss: 0.0197 - val_acc: 0.9940\n",
      "\n",
      "Epoch 00010: val_loss did not improve from 0.01939\n",
      "Epoch 11/100\n",
      "60/60 [==============================] - 24s 392ms/step - loss: 0.0424 - acc: 0.9872 - val_loss: 0.0187 - val_acc: 0.9934\n",
      "\n",
      "Epoch 00011: val_loss improved from 0.01939 to 0.01868, saving model to saved_models/weights.best.teacher.hdf5\n",
      "Epoch 12/100\n",
      "60/60 [==============================] - 23s 391ms/step - loss: 0.0392 - acc: 0.9880 - val_loss: 0.0210 - val_acc: 0.9928\n",
      "\n",
      "Epoch 00012: val_loss did not improve from 0.01868\n",
      "Epoch 13/100\n",
      "60/60 [==============================] - 23s 389ms/step - loss: 0.0369 - acc: 0.9879 - val_loss: 0.0197 - val_acc: 0.9934\n",
      "\n",
      "Epoch 00013: val_loss did not improve from 0.01868\n",
      "Epoch 14/100\n",
      "60/60 [==============================] - 23s 381ms/step - loss: 0.0382 - acc: 0.9880 - val_loss: 0.0195 - val_acc: 0.9935\n",
      "\n",
      "Epoch 00014: val_loss did not improve from 0.01868\n",
      "Epoch 15/100\n",
      "60/60 [==============================] - 24s 392ms/step - loss: 0.0353 - acc: 0.9889 - val_loss: 0.0246 - val_acc: 0.9920\n",
      "\n",
      "Epoch 00015: val_loss did not improve from 0.01868\n",
      "Epoch 16/100\n",
      "60/60 [==============================] - 24s 395ms/step - loss: 0.0359 - acc: 0.9892 - val_loss: 0.0161 - val_acc: 0.9947\n",
      "\n",
      "Epoch 00016: val_loss improved from 0.01868 to 0.01613, saving model to saved_models/weights.best.teacher.hdf5\n",
      "Epoch 17/100\n",
      "60/60 [==============================] - 24s 394ms/step - loss: 0.0347 - acc: 0.9897 - val_loss: 0.0177 - val_acc: 0.9945\n",
      "\n",
      "Epoch 00017: val_loss did not improve from 0.01613\n",
      "Epoch 18/100\n",
      "60/60 [==============================] - 23s 391ms/step - loss: 0.0319 - acc: 0.9903 - val_loss: 0.0172 - val_acc: 0.9949\n",
      "\n",
      "Epoch 00018: val_loss did not improve from 0.01613\n",
      "Epoch 19/100\n",
      "60/60 [==============================] - 24s 396ms/step - loss: 0.0295 - acc: 0.9908 - val_loss: 0.0188 - val_acc: 0.9944\n",
      "\n",
      "Epoch 00019: val_loss did not improve from 0.01613\n",
      "Epoch 20/100\n",
      "60/60 [==============================] - 24s 398ms/step - loss: 0.0295 - acc: 0.9910 - val_loss: 0.0179 - val_acc: 0.9940\n",
      "\n",
      "Epoch 00020: val_loss did not improve from 0.01613\n",
      "Epoch 21/100\n",
      "60/60 [==============================] - 24s 407ms/step - loss: 0.0286 - acc: 0.9913 - val_loss: 0.0160 - val_acc: 0.9945\n",
      "\n",
      "Epoch 00021: val_loss improved from 0.01613 to 0.01598, saving model to saved_models/weights.best.teacher.hdf5\n",
      "Epoch 22/100\n",
      "60/60 [==============================] - 24s 404ms/step - loss: 0.0290 - acc: 0.9905 - val_loss: 0.0141 - val_acc: 0.9953\n",
      "\n",
      "Epoch 00022: val_loss improved from 0.01598 to 0.01409, saving model to saved_models/weights.best.teacher.hdf5\n",
      "Epoch 23/100\n",
      "60/60 [==============================] - 24s 404ms/step - loss: 0.0260 - acc: 0.9918 - val_loss: 0.0186 - val_acc: 0.9939\n",
      "\n",
      "Epoch 00023: val_loss did not improve from 0.01409\n",
      "Epoch 24/100\n",
      "60/60 [==============================] - 24s 408ms/step - loss: 0.0278 - acc: 0.9918 - val_loss: 0.0162 - val_acc: 0.9951\n",
      "\n",
      "Epoch 00024: val_loss did not improve from 0.01409\n",
      "Epoch 25/100\n",
      "60/60 [==============================] - 26s 436ms/step - loss: 0.0261 - acc: 0.9918 - val_loss: 0.0194 - val_acc: 0.9942\n",
      "\n",
      "Epoch 00025: val_loss did not improve from 0.01409\n",
      "Epoch 26/100\n",
      "60/60 [==============================] - 25s 420ms/step - loss: 0.0254 - acc: 0.9923 - val_loss: 0.0143 - val_acc: 0.9956\n",
      "\n",
      "Epoch 00026: val_loss did not improve from 0.01409\n",
      "Epoch 27/100\n",
      "60/60 [==============================] - 23s 388ms/step - loss: 0.0250 - acc: 0.9923 - val_loss: 0.0153 - val_acc: 0.9951\n",
      "\n",
      "Epoch 00027: val_loss did not improve from 0.01409\n",
      "Epoch 28/100\n",
      "60/60 [==============================] - 26s 430ms/step - loss: 0.0250 - acc: 0.9926 - val_loss: 0.0174 - val_acc: 0.9944\n",
      "\n",
      "Epoch 00028: val_loss did not improve from 0.01409\n",
      "Epoch 29/100\n",
      "60/60 [==============================] - 26s 433ms/step - loss: 0.0230 - acc: 0.9934 - val_loss: 0.0157 - val_acc: 0.9952\n",
      "\n",
      "Epoch 00029: val_loss did not improve from 0.01409\n",
      "Epoch 30/100\n",
      "60/60 [==============================] - 25s 417ms/step - loss: 0.0247 - acc: 0.9925 - val_loss: 0.0172 - val_acc: 0.9942\n",
      "\n",
      "Epoch 00030: val_loss did not improve from 0.01409\n",
      "Epoch 31/100\n",
      "60/60 [==============================] - 24s 406ms/step - loss: 0.0244 - acc: 0.9922 - val_loss: 0.0143 - val_acc: 0.9948\n",
      "\n",
      "Epoch 00031: val_loss did not improve from 0.01409\n",
      "Epoch 32/100\n",
      "60/60 [==============================] - 24s 408ms/step - loss: 0.0227 - acc: 0.9927 - val_loss: 0.0164 - val_acc: 0.9946\n",
      "\n",
      "Epoch 00032: val_loss did not improve from 0.01409\n",
      "Epoch 33/100\n",
      "60/60 [==============================] - 25s 420ms/step - loss: 0.0220 - acc: 0.9933 - val_loss: 0.0143 - val_acc: 0.9959\n",
      "\n",
      "Epoch 00033: val_loss did not improve from 0.01409\n",
      "Epoch 34/100\n",
      "60/60 [==============================] - 26s 440ms/step - loss: 0.0204 - acc: 0.9935 - val_loss: 0.0150 - val_acc: 0.9957\n",
      "\n",
      "Epoch 00034: val_loss did not improve from 0.01409\n",
      "Epoch 35/100\n",
      "60/60 [==============================] - 24s 400ms/step - loss: 0.0204 - acc: 0.9941 - val_loss: 0.0147 - val_acc: 0.9948\n",
      "\n",
      "Epoch 00035: val_loss did not improve from 0.01409\n",
      "Epoch 36/100\n",
      "60/60 [==============================] - 25s 419ms/step - loss: 0.0216 - acc: 0.9935 - val_loss: 0.0141 - val_acc: 0.9954\n",
      "\n",
      "Epoch 00036: val_loss improved from 0.01409 to 0.01407, saving model to saved_models/weights.best.teacher.hdf5\n",
      "Epoch 37/100\n",
      "14/60 [======>.......................] - ETA: 19s - loss: 0.0207 - acc: 0.9929"
     ]
    },
    {
     "ename": "KeyboardInterrupt",
     "evalue": "",
     "output_type": "error",
     "traceback": [
      "\u001b[0;31m---------------------------------------------------------------------------\u001b[0m",
      "\u001b[0;31mKeyboardInterrupt\u001b[0m                         Traceback (most recent call last)",
      "\u001b[0;32m<ipython-input-11-2af87d3cf1cc>\u001b[0m in \u001b[0;36m<module>\u001b[0;34m()\u001b[0m\n\u001b[1;32m     10\u001b[0m \u001b[0;31m#                                                            validation_steps=len(x_train) // batch_size,\u001b[0m\u001b[0;34m\u001b[0m\u001b[0;34m\u001b[0m\u001b[0;34m\u001b[0m\u001b[0m\n\u001b[1;32m     11\u001b[0m                                                            \u001b[0mvalidation_data\u001b[0m\u001b[0;34m=\u001b[0m\u001b[0;34m(\u001b[0m\u001b[0mx_test\u001b[0m\u001b[0;34m,\u001b[0m \u001b[0my_test\u001b[0m\u001b[0;34m)\u001b[0m\u001b[0;34m,\u001b[0m\u001b[0;34m\u001b[0m\u001b[0;34m\u001b[0m\u001b[0m\n\u001b[0;32m---> 12\u001b[0;31m                                                            callbacks=[checkpointer])\n\u001b[0m\u001b[1;32m     13\u001b[0m \u001b[0mscore\u001b[0m\u001b[0;34m[\u001b[0m\u001b[0;34m'teacher'\u001b[0m\u001b[0;34m]\u001b[0m \u001b[0;34m=\u001b[0m \u001b[0mmodel\u001b[0m\u001b[0;34m[\u001b[0m\u001b[0;34m'teacher'\u001b[0m\u001b[0;34m]\u001b[0m\u001b[0;34m.\u001b[0m\u001b[0mevaluate\u001b[0m\u001b[0;34m(\u001b[0m\u001b[0mx_test\u001b[0m\u001b[0;34m,\u001b[0m \u001b[0my_test\u001b[0m\u001b[0;34m,\u001b[0m \u001b[0mverbose\u001b[0m\u001b[0;34m=\u001b[0m\u001b[0;36m0\u001b[0m\u001b[0;34m)\u001b[0m\u001b[0;34m\u001b[0m\u001b[0;34m\u001b[0m\u001b[0m\n\u001b[1;32m     14\u001b[0m \u001b[0mprint\u001b[0m\u001b[0;34m(\u001b[0m\u001b[0;34m'Test loss:'\u001b[0m\u001b[0;34m,\u001b[0m \u001b[0mscore\u001b[0m\u001b[0;34m[\u001b[0m\u001b[0;34m'teacher'\u001b[0m\u001b[0;34m]\u001b[0m\u001b[0;34m[\u001b[0m\u001b[0;36m0\u001b[0m\u001b[0;34m]\u001b[0m\u001b[0;34m)\u001b[0m\u001b[0;34m\u001b[0m\u001b[0;34m\u001b[0m\u001b[0m\n",
      "\u001b[0;32m/home/acar/.virtualenvs/mask_rcnn/lib/python3.6/site-packages/keras/legacy/interfaces.py\u001b[0m in \u001b[0;36mwrapper\u001b[0;34m(*args, **kwargs)\u001b[0m\n\u001b[1;32m     89\u001b[0m                 warnings.warn('Update your `' + object_name + '` call to the ' +\n\u001b[1;32m     90\u001b[0m                               'Keras 2 API: ' + signature, stacklevel=2)\n\u001b[0;32m---> 91\u001b[0;31m             \u001b[0;32mreturn\u001b[0m \u001b[0mfunc\u001b[0m\u001b[0;34m(\u001b[0m\u001b[0;34m*\u001b[0m\u001b[0margs\u001b[0m\u001b[0;34m,\u001b[0m \u001b[0;34m**\u001b[0m\u001b[0mkwargs\u001b[0m\u001b[0;34m)\u001b[0m\u001b[0;34m\u001b[0m\u001b[0;34m\u001b[0m\u001b[0m\n\u001b[0m\u001b[1;32m     92\u001b[0m         \u001b[0mwrapper\u001b[0m\u001b[0;34m.\u001b[0m\u001b[0m_original_function\u001b[0m \u001b[0;34m=\u001b[0m \u001b[0mfunc\u001b[0m\u001b[0;34m\u001b[0m\u001b[0;34m\u001b[0m\u001b[0m\n\u001b[1;32m     93\u001b[0m         \u001b[0;32mreturn\u001b[0m \u001b[0mwrapper\u001b[0m\u001b[0;34m\u001b[0m\u001b[0;34m\u001b[0m\u001b[0m\n",
      "\u001b[0;32m/home/acar/.virtualenvs/mask_rcnn/lib/python3.6/site-packages/keras/engine/training.py\u001b[0m in \u001b[0;36mfit_generator\u001b[0;34m(self, generator, steps_per_epoch, epochs, verbose, callbacks, validation_data, validation_steps, class_weight, max_queue_size, workers, use_multiprocessing, shuffle, initial_epoch)\u001b[0m\n\u001b[1;32m   1416\u001b[0m             \u001b[0muse_multiprocessing\u001b[0m\u001b[0;34m=\u001b[0m\u001b[0muse_multiprocessing\u001b[0m\u001b[0;34m,\u001b[0m\u001b[0;34m\u001b[0m\u001b[0;34m\u001b[0m\u001b[0m\n\u001b[1;32m   1417\u001b[0m             \u001b[0mshuffle\u001b[0m\u001b[0;34m=\u001b[0m\u001b[0mshuffle\u001b[0m\u001b[0;34m,\u001b[0m\u001b[0;34m\u001b[0m\u001b[0;34m\u001b[0m\u001b[0m\n\u001b[0;32m-> 1418\u001b[0;31m             initial_epoch=initial_epoch)\n\u001b[0m\u001b[1;32m   1419\u001b[0m \u001b[0;34m\u001b[0m\u001b[0m\n\u001b[1;32m   1420\u001b[0m     \u001b[0;34m@\u001b[0m\u001b[0minterfaces\u001b[0m\u001b[0;34m.\u001b[0m\u001b[0mlegacy_generator_methods_support\u001b[0m\u001b[0;34m\u001b[0m\u001b[0;34m\u001b[0m\u001b[0m\n",
      "\u001b[0;32m/home/acar/.virtualenvs/mask_rcnn/lib/python3.6/site-packages/keras/engine/training_generator.py\u001b[0m in \u001b[0;36mfit_generator\u001b[0;34m(model, generator, steps_per_epoch, epochs, verbose, callbacks, validation_data, validation_steps, class_weight, max_queue_size, workers, use_multiprocessing, shuffle, initial_epoch)\u001b[0m\n\u001b[1;32m    179\u001b[0m             \u001b[0mbatch_index\u001b[0m \u001b[0;34m=\u001b[0m \u001b[0;36m0\u001b[0m\u001b[0;34m\u001b[0m\u001b[0;34m\u001b[0m\u001b[0m\n\u001b[1;32m    180\u001b[0m             \u001b[0;32mwhile\u001b[0m \u001b[0msteps_done\u001b[0m \u001b[0;34m<\u001b[0m \u001b[0msteps_per_epoch\u001b[0m\u001b[0;34m:\u001b[0m\u001b[0;34m\u001b[0m\u001b[0;34m\u001b[0m\u001b[0m\n\u001b[0;32m--> 181\u001b[0;31m                 \u001b[0mgenerator_output\u001b[0m \u001b[0;34m=\u001b[0m \u001b[0mnext\u001b[0m\u001b[0;34m(\u001b[0m\u001b[0moutput_generator\u001b[0m\u001b[0;34m)\u001b[0m\u001b[0;34m\u001b[0m\u001b[0;34m\u001b[0m\u001b[0m\n\u001b[0m\u001b[1;32m    182\u001b[0m \u001b[0;34m\u001b[0m\u001b[0m\n\u001b[1;32m    183\u001b[0m                 \u001b[0;32mif\u001b[0m \u001b[0;32mnot\u001b[0m \u001b[0mhasattr\u001b[0m\u001b[0;34m(\u001b[0m\u001b[0mgenerator_output\u001b[0m\u001b[0;34m,\u001b[0m \u001b[0;34m'__len__'\u001b[0m\u001b[0;34m)\u001b[0m\u001b[0;34m:\u001b[0m\u001b[0;34m\u001b[0m\u001b[0;34m\u001b[0m\u001b[0m\n",
      "\u001b[0;32m/home/acar/.virtualenvs/mask_rcnn/lib/python3.6/site-packages/keras/utils/data_utils.py\u001b[0m in \u001b[0;36mget\u001b[0;34m(self)\u001b[0m\n\u001b[1;32m    683\u001b[0m         \u001b[0;32mtry\u001b[0m\u001b[0;34m:\u001b[0m\u001b[0;34m\u001b[0m\u001b[0;34m\u001b[0m\u001b[0m\n\u001b[1;32m    684\u001b[0m             \u001b[0;32mwhile\u001b[0m \u001b[0mself\u001b[0m\u001b[0;34m.\u001b[0m\u001b[0mis_running\u001b[0m\u001b[0;34m(\u001b[0m\u001b[0;34m)\u001b[0m\u001b[0;34m:\u001b[0m\u001b[0;34m\u001b[0m\u001b[0;34m\u001b[0m\u001b[0m\n\u001b[0;32m--> 685\u001b[0;31m                 \u001b[0minputs\u001b[0m \u001b[0;34m=\u001b[0m \u001b[0mself\u001b[0m\u001b[0;34m.\u001b[0m\u001b[0mqueue\u001b[0m\u001b[0;34m.\u001b[0m\u001b[0mget\u001b[0m\u001b[0;34m(\u001b[0m\u001b[0mblock\u001b[0m\u001b[0;34m=\u001b[0m\u001b[0;32mTrue\u001b[0m\u001b[0;34m)\u001b[0m\u001b[0;34m.\u001b[0m\u001b[0mget\u001b[0m\u001b[0;34m(\u001b[0m\u001b[0;34m)\u001b[0m\u001b[0;34m\u001b[0m\u001b[0;34m\u001b[0m\u001b[0m\n\u001b[0m\u001b[1;32m    686\u001b[0m                 \u001b[0mself\u001b[0m\u001b[0;34m.\u001b[0m\u001b[0mqueue\u001b[0m\u001b[0;34m.\u001b[0m\u001b[0mtask_done\u001b[0m\u001b[0;34m(\u001b[0m\u001b[0;34m)\u001b[0m\u001b[0;34m\u001b[0m\u001b[0;34m\u001b[0m\u001b[0m\n\u001b[1;32m    687\u001b[0m                 \u001b[0;32mif\u001b[0m \u001b[0minputs\u001b[0m \u001b[0;32mis\u001b[0m \u001b[0;32mnot\u001b[0m \u001b[0;32mNone\u001b[0m\u001b[0;34m:\u001b[0m\u001b[0;34m\u001b[0m\u001b[0;34m\u001b[0m\u001b[0m\n",
      "\u001b[0;32m/usr/lib/python3.6/multiprocessing/pool.py\u001b[0m in \u001b[0;36mget\u001b[0;34m(self, timeout)\u001b[0m\n\u001b[1;32m    636\u001b[0m \u001b[0;34m\u001b[0m\u001b[0m\n\u001b[1;32m    637\u001b[0m     \u001b[0;32mdef\u001b[0m \u001b[0mget\u001b[0m\u001b[0;34m(\u001b[0m\u001b[0mself\u001b[0m\u001b[0;34m,\u001b[0m \u001b[0mtimeout\u001b[0m\u001b[0;34m=\u001b[0m\u001b[0;32mNone\u001b[0m\u001b[0;34m)\u001b[0m\u001b[0;34m:\u001b[0m\u001b[0;34m\u001b[0m\u001b[0;34m\u001b[0m\u001b[0m\n\u001b[0;32m--> 638\u001b[0;31m         \u001b[0mself\u001b[0m\u001b[0;34m.\u001b[0m\u001b[0mwait\u001b[0m\u001b[0;34m(\u001b[0m\u001b[0mtimeout\u001b[0m\u001b[0;34m)\u001b[0m\u001b[0;34m\u001b[0m\u001b[0;34m\u001b[0m\u001b[0m\n\u001b[0m\u001b[1;32m    639\u001b[0m         \u001b[0;32mif\u001b[0m \u001b[0;32mnot\u001b[0m \u001b[0mself\u001b[0m\u001b[0;34m.\u001b[0m\u001b[0mready\u001b[0m\u001b[0;34m(\u001b[0m\u001b[0;34m)\u001b[0m\u001b[0;34m:\u001b[0m\u001b[0;34m\u001b[0m\u001b[0;34m\u001b[0m\u001b[0m\n\u001b[1;32m    640\u001b[0m             \u001b[0;32mraise\u001b[0m \u001b[0mTimeoutError\u001b[0m\u001b[0;34m\u001b[0m\u001b[0;34m\u001b[0m\u001b[0m\n",
      "\u001b[0;32m/usr/lib/python3.6/multiprocessing/pool.py\u001b[0m in \u001b[0;36mwait\u001b[0;34m(self, timeout)\u001b[0m\n\u001b[1;32m    633\u001b[0m \u001b[0;34m\u001b[0m\u001b[0m\n\u001b[1;32m    634\u001b[0m     \u001b[0;32mdef\u001b[0m \u001b[0mwait\u001b[0m\u001b[0;34m(\u001b[0m\u001b[0mself\u001b[0m\u001b[0;34m,\u001b[0m \u001b[0mtimeout\u001b[0m\u001b[0;34m=\u001b[0m\u001b[0;32mNone\u001b[0m\u001b[0;34m)\u001b[0m\u001b[0;34m:\u001b[0m\u001b[0;34m\u001b[0m\u001b[0;34m\u001b[0m\u001b[0m\n\u001b[0;32m--> 635\u001b[0;31m         \u001b[0mself\u001b[0m\u001b[0;34m.\u001b[0m\u001b[0m_event\u001b[0m\u001b[0;34m.\u001b[0m\u001b[0mwait\u001b[0m\u001b[0;34m(\u001b[0m\u001b[0mtimeout\u001b[0m\u001b[0;34m)\u001b[0m\u001b[0;34m\u001b[0m\u001b[0;34m\u001b[0m\u001b[0m\n\u001b[0m\u001b[1;32m    636\u001b[0m \u001b[0;34m\u001b[0m\u001b[0m\n\u001b[1;32m    637\u001b[0m     \u001b[0;32mdef\u001b[0m \u001b[0mget\u001b[0m\u001b[0;34m(\u001b[0m\u001b[0mself\u001b[0m\u001b[0;34m,\u001b[0m \u001b[0mtimeout\u001b[0m\u001b[0;34m=\u001b[0m\u001b[0;32mNone\u001b[0m\u001b[0;34m)\u001b[0m\u001b[0;34m:\u001b[0m\u001b[0;34m\u001b[0m\u001b[0;34m\u001b[0m\u001b[0m\n",
      "\u001b[0;32m/usr/lib/python3.6/threading.py\u001b[0m in \u001b[0;36mwait\u001b[0;34m(self, timeout)\u001b[0m\n\u001b[1;32m    549\u001b[0m             \u001b[0msignaled\u001b[0m \u001b[0;34m=\u001b[0m \u001b[0mself\u001b[0m\u001b[0;34m.\u001b[0m\u001b[0m_flag\u001b[0m\u001b[0;34m\u001b[0m\u001b[0;34m\u001b[0m\u001b[0m\n\u001b[1;32m    550\u001b[0m             \u001b[0;32mif\u001b[0m \u001b[0;32mnot\u001b[0m \u001b[0msignaled\u001b[0m\u001b[0;34m:\u001b[0m\u001b[0;34m\u001b[0m\u001b[0;34m\u001b[0m\u001b[0m\n\u001b[0;32m--> 551\u001b[0;31m                 \u001b[0msignaled\u001b[0m \u001b[0;34m=\u001b[0m \u001b[0mself\u001b[0m\u001b[0;34m.\u001b[0m\u001b[0m_cond\u001b[0m\u001b[0;34m.\u001b[0m\u001b[0mwait\u001b[0m\u001b[0;34m(\u001b[0m\u001b[0mtimeout\u001b[0m\u001b[0;34m)\u001b[0m\u001b[0;34m\u001b[0m\u001b[0;34m\u001b[0m\u001b[0m\n\u001b[0m\u001b[1;32m    552\u001b[0m             \u001b[0;32mreturn\u001b[0m \u001b[0msignaled\u001b[0m\u001b[0;34m\u001b[0m\u001b[0;34m\u001b[0m\u001b[0m\n\u001b[1;32m    553\u001b[0m \u001b[0;34m\u001b[0m\u001b[0m\n",
      "\u001b[0;32m/usr/lib/python3.6/threading.py\u001b[0m in \u001b[0;36mwait\u001b[0;34m(self, timeout)\u001b[0m\n\u001b[1;32m    293\u001b[0m         \u001b[0;32mtry\u001b[0m\u001b[0;34m:\u001b[0m    \u001b[0;31m# restore state no matter what (e.g., KeyboardInterrupt)\u001b[0m\u001b[0;34m\u001b[0m\u001b[0;34m\u001b[0m\u001b[0m\n\u001b[1;32m    294\u001b[0m             \u001b[0;32mif\u001b[0m \u001b[0mtimeout\u001b[0m \u001b[0;32mis\u001b[0m \u001b[0;32mNone\u001b[0m\u001b[0;34m:\u001b[0m\u001b[0;34m\u001b[0m\u001b[0;34m\u001b[0m\u001b[0m\n\u001b[0;32m--> 295\u001b[0;31m                 \u001b[0mwaiter\u001b[0m\u001b[0;34m.\u001b[0m\u001b[0macquire\u001b[0m\u001b[0;34m(\u001b[0m\u001b[0;34m)\u001b[0m\u001b[0;34m\u001b[0m\u001b[0;34m\u001b[0m\u001b[0m\n\u001b[0m\u001b[1;32m    296\u001b[0m                 \u001b[0mgotit\u001b[0m \u001b[0;34m=\u001b[0m \u001b[0;32mTrue\u001b[0m\u001b[0;34m\u001b[0m\u001b[0;34m\u001b[0m\u001b[0m\n\u001b[1;32m    297\u001b[0m             \u001b[0;32melse\u001b[0m\u001b[0;34m:\u001b[0m\u001b[0;34m\u001b[0m\u001b[0;34m\u001b[0m\u001b[0m\n",
      "\u001b[0;31mKeyboardInterrupt\u001b[0m: "
     ]
    }
   ],
   "source": [
    "from keras.callbacks import ModelCheckpoint  \n",
    "\n",
    "checkpointer = ModelCheckpoint(filepath='saved_models/weights.best.teacher.hdf5', \n",
    "                               verbose=1, save_best_only=True)\n",
    "\n",
    "hist['teacher'] = model['teacher'].fit_generator(train_datagen.flow(x_train, y_train, batch_size=batch_size),\n",
    "                                                           steps_per_epoch=len(x_train) // batch_size, \n",
    "                                                           epochs=100, verbose=1, \n",
    "#                                                            validation_data=test_datagen.flow(x_test, y_test), \n",
    "#                                                            validation_steps=len(x_train) // batch_size,\n",
    "                                                           validation_data=(x_test, y_test),\n",
    "                                                           callbacks=[checkpointer])\n",
    "score['teacher'] = model['teacher'].evaluate(x_test, y_test, verbose=0)\n",
    "print('Test loss:', score['teacher'][0])\n",
    "print('Test accuracy:', score['teacher'][1])"
   ]
  },
  {
   "cell_type": "code",
   "execution_count": 9,
   "metadata": {},
   "outputs": [
    {
     "name": "stdout",
     "output_type": "stream",
     "text": [
      "Test loss: 0.014066617570716061\n",
      "Test accuracy: 0.9954\n",
      "Test errors: 46\n"
     ]
    }
   ],
   "source": [
    "model['teacher'].load_weights('saved_models/weights.best.teacher.hdf5')\n",
    "score['teacher'] = model['teacher'].evaluate(x_test, y_test, verbose=0)\n",
    "n_errors = np.int((1-score['teacher'][-1])*len(y_test))\n",
    "print('Test loss:', score['teacher'][0])\n",
    "print('Test accuracy:', score['teacher'][-1])\n",
    "print('Test errors:', n_errors)"
   ]
  },
  {
   "cell_type": "code",
   "execution_count": 136,
   "metadata": {},
   "outputs": [
    {
     "name": "stdout",
     "output_type": "stream",
     "text": [
      "_________________________________________________________________\n",
      "Layer (type)                 Output Shape              Param #   \n",
      "=================================================================\n",
      "input_29 (InputLayer)        (None, 28, 28, 1)         0         \n",
      "_________________________________________________________________\n",
      "conv2d_11 (Conv2D)           (None, 26, 26, 128)       1280      \n",
      "_________________________________________________________________\n",
      "conv2d_12 (Conv2D)           (None, 24, 24, 128)       147584    \n",
      "_________________________________________________________________\n",
      "max_pooling2d_6 (MaxPooling2 (None, 12, 12, 128)       0         \n",
      "_________________________________________________________________\n",
      "dropout_16 (Dropout)         (None, 12, 12, 128)       0         \n",
      "_________________________________________________________________\n",
      "flatten_29 (Flatten)         (None, 18432)             0         \n",
      "_________________________________________________________________\n",
      "dense_85 (Dense)             (None, 1024)              18875392  \n",
      "_________________________________________________________________\n",
      "dropout_17 (Dropout)         (None, 1024)              0         \n",
      "_________________________________________________________________\n",
      "dense_86 (Dense)             (None, 1024)              1049600   \n",
      "_________________________________________________________________\n",
      "dropout_18 (Dropout)         (None, 1024)              0         \n",
      "_________________________________________________________________\n",
      "dense_87 (Dense)             (None, 10)                10250     \n",
      "=================================================================\n",
      "Total params: 20,084,106\n",
      "Trainable params: 20,084,106\n",
      "Non-trainable params: 0\n",
      "_________________________________________________________________\n"
     ]
    }
   ],
   "source": [
    "reload(models)\n",
    "model['soft_teacher'] = models.SoftTeacherModel(input_shape, num_classes, l1=0.1, l2=0.07, b=4)\n",
    "\n",
    "model['soft_teacher'].compile(loss=keras.losses.categorical_crossentropy,\n",
    "              optimizer='Adam',\n",
    "              metrics=['accuracy'])\n",
    "model['soft_teacher'].summary()"
   ]
  },
  {
   "cell_type": "code",
   "execution_count": 137,
   "metadata": {},
   "outputs": [
    {
     "name": "stdout",
     "output_type": "stream",
     "text": [
      "Epoch 1/30\n",
      "60/60 [==============================] - 25s 423ms/step - loss: 1.0397 - acc: 0.9913 - val_loss: 1.0202 - val_acc: 0.9945\n",
      "Epoch 2/30\n",
      "60/60 [==============================] - 20s 339ms/step - loss: 1.0357 - acc: 0.9920 - val_loss: 1.0179 - val_acc: 0.9951\n",
      "Epoch 3/30\n",
      "60/60 [==============================] - 24s 403ms/step - loss: 1.0335 - acc: 0.9922 - val_loss: 1.0176 - val_acc: 0.9942\n",
      "Epoch 4/30\n",
      "60/60 [==============================] - 30s 492ms/step - loss: 1.0321 - acc: 0.9919 - val_loss: 1.0160 - val_acc: 0.9936\n",
      "Epoch 5/30\n",
      "60/60 [==============================] - 31s 520ms/step - loss: 1.0315 - acc: 0.9919 - val_loss: 1.0165 - val_acc: 0.9939\n",
      "Epoch 6/30\n",
      "60/60 [==============================] - 32s 534ms/step - loss: 1.0296 - acc: 0.9928 - val_loss: 1.0147 - val_acc: 0.9939\n",
      "Epoch 7/30\n",
      "60/60 [==============================] - 38s 640ms/step - loss: 1.0292 - acc: 0.9931 - val_loss: 1.0172 - val_acc: 0.9936\n",
      "Epoch 8/30\n",
      "60/60 [==============================] - 38s 638ms/step - loss: 1.0283 - acc: 0.9931 - val_loss: 1.0141 - val_acc: 0.9951\n",
      "Epoch 9/30\n",
      "60/60 [==============================] - 38s 628ms/step - loss: 1.0281 - acc: 0.9928 - val_loss: 1.0132 - val_acc: 0.9950\n",
      "Epoch 10/30\n",
      "60/60 [==============================] - 39s 658ms/step - loss: 1.0275 - acc: 0.9928 - val_loss: 1.0141 - val_acc: 0.9940\n",
      "Epoch 11/30\n",
      "60/60 [==============================] - 38s 635ms/step - loss: 1.0263 - acc: 0.9930 - val_loss: 1.0135 - val_acc: 0.9943\n",
      "Epoch 12/30\n",
      "60/60 [==============================] - 37s 614ms/step - loss: 1.0256 - acc: 0.9936 - val_loss: 1.0130 - val_acc: 0.9941\n",
      "Epoch 13/30\n",
      "60/60 [==============================] - 41s 683ms/step - loss: 1.0255 - acc: 0.9931 - val_loss: 1.0133 - val_acc: 0.9945\n",
      "Epoch 14/30\n",
      "60/60 [==============================] - 37s 609ms/step - loss: 1.0244 - acc: 0.9938 - val_loss: 1.0125 - val_acc: 0.9938\n",
      "Epoch 15/30\n",
      "60/60 [==============================] - 38s 635ms/step - loss: 1.0251 - acc: 0.9932 - val_loss: 1.0119 - val_acc: 0.9952\n",
      "Epoch 16/30\n",
      "60/60 [==============================] - 37s 623ms/step - loss: 1.0243 - acc: 0.9934 - val_loss: 1.0120 - val_acc: 0.9938\n",
      "Epoch 17/30\n",
      "60/60 [==============================] - 39s 650ms/step - loss: 1.0239 - acc: 0.9941 - val_loss: 1.0125 - val_acc: 0.9938\n",
      "Epoch 18/30\n",
      " 8/60 [===>..........................] - ETA: 57s - loss: 1.0241 - acc: 0.9931 "
     ]
    },
    {
     "ename": "KeyboardInterrupt",
     "evalue": "",
     "output_type": "error",
     "traceback": [
      "\u001b[0;31m---------------------------------------------------------------------------\u001b[0m",
      "\u001b[0;31mKeyboardInterrupt\u001b[0m                         Traceback (most recent call last)",
      "\u001b[0;32m<ipython-input-137-0c9aa14b6a73>\u001b[0m in \u001b[0;36m<module>\u001b[0;34m()\u001b[0m\n\u001b[1;32m      9\u001b[0m \u001b[0;31m#                                                            validation_steps=len(x_train) // batch_size,\u001b[0m\u001b[0;34m\u001b[0m\u001b[0;34m\u001b[0m\u001b[0;34m\u001b[0m\u001b[0m\n\u001b[1;32m     10\u001b[0m                                                            \u001b[0mvalidation_data\u001b[0m\u001b[0;34m=\u001b[0m\u001b[0;34m(\u001b[0m\u001b[0mx_test\u001b[0m\u001b[0;34m,\u001b[0m \u001b[0my_test\u001b[0m\u001b[0;34m)\u001b[0m\u001b[0;34m,\u001b[0m\u001b[0;34m\u001b[0m\u001b[0;34m\u001b[0m\u001b[0m\n\u001b[0;32m---> 11\u001b[0;31m                                                            callbacks=[checkpointer])\n\u001b[0m\u001b[1;32m     12\u001b[0m \u001b[0mscore\u001b[0m\u001b[0;34m[\u001b[0m\u001b[0;34m'soft_teacher'\u001b[0m\u001b[0;34m]\u001b[0m \u001b[0;34m=\u001b[0m \u001b[0mmodel\u001b[0m\u001b[0;34m[\u001b[0m\u001b[0;34m'soft_teacher'\u001b[0m\u001b[0;34m]\u001b[0m\u001b[0;34m.\u001b[0m\u001b[0mevaluate\u001b[0m\u001b[0;34m(\u001b[0m\u001b[0mx_test\u001b[0m\u001b[0;34m,\u001b[0m \u001b[0my_test\u001b[0m\u001b[0;34m,\u001b[0m \u001b[0mverbose\u001b[0m\u001b[0;34m=\u001b[0m\u001b[0;36m0\u001b[0m\u001b[0;34m)\u001b[0m\u001b[0;34m\u001b[0m\u001b[0;34m\u001b[0m\u001b[0m\n\u001b[1;32m     13\u001b[0m \u001b[0mprint\u001b[0m\u001b[0;34m(\u001b[0m\u001b[0;34m'Test loss:'\u001b[0m\u001b[0;34m,\u001b[0m \u001b[0mscore\u001b[0m\u001b[0;34m[\u001b[0m\u001b[0;34m'soft_teacher'\u001b[0m\u001b[0;34m]\u001b[0m\u001b[0;34m[\u001b[0m\u001b[0;36m0\u001b[0m\u001b[0;34m]\u001b[0m\u001b[0;34m)\u001b[0m\u001b[0;34m\u001b[0m\u001b[0;34m\u001b[0m\u001b[0m\n",
      "\u001b[0;32m/home/acar/.virtualenvs/mask_rcnn/lib/python3.6/site-packages/keras/legacy/interfaces.py\u001b[0m in \u001b[0;36mwrapper\u001b[0;34m(*args, **kwargs)\u001b[0m\n\u001b[1;32m     89\u001b[0m                 warnings.warn('Update your `' + object_name + '` call to the ' +\n\u001b[1;32m     90\u001b[0m                               'Keras 2 API: ' + signature, stacklevel=2)\n\u001b[0;32m---> 91\u001b[0;31m             \u001b[0;32mreturn\u001b[0m \u001b[0mfunc\u001b[0m\u001b[0;34m(\u001b[0m\u001b[0;34m*\u001b[0m\u001b[0margs\u001b[0m\u001b[0;34m,\u001b[0m \u001b[0;34m**\u001b[0m\u001b[0mkwargs\u001b[0m\u001b[0;34m)\u001b[0m\u001b[0;34m\u001b[0m\u001b[0;34m\u001b[0m\u001b[0m\n\u001b[0m\u001b[1;32m     92\u001b[0m         \u001b[0mwrapper\u001b[0m\u001b[0;34m.\u001b[0m\u001b[0m_original_function\u001b[0m \u001b[0;34m=\u001b[0m \u001b[0mfunc\u001b[0m\u001b[0;34m\u001b[0m\u001b[0;34m\u001b[0m\u001b[0m\n\u001b[1;32m     93\u001b[0m         \u001b[0;32mreturn\u001b[0m \u001b[0mwrapper\u001b[0m\u001b[0;34m\u001b[0m\u001b[0;34m\u001b[0m\u001b[0m\n",
      "\u001b[0;32m/home/acar/.virtualenvs/mask_rcnn/lib/python3.6/site-packages/keras/engine/training.py\u001b[0m in \u001b[0;36mfit_generator\u001b[0;34m(self, generator, steps_per_epoch, epochs, verbose, callbacks, validation_data, validation_steps, class_weight, max_queue_size, workers, use_multiprocessing, shuffle, initial_epoch)\u001b[0m\n\u001b[1;32m   1416\u001b[0m             \u001b[0muse_multiprocessing\u001b[0m\u001b[0;34m=\u001b[0m\u001b[0muse_multiprocessing\u001b[0m\u001b[0;34m,\u001b[0m\u001b[0;34m\u001b[0m\u001b[0;34m\u001b[0m\u001b[0m\n\u001b[1;32m   1417\u001b[0m             \u001b[0mshuffle\u001b[0m\u001b[0;34m=\u001b[0m\u001b[0mshuffle\u001b[0m\u001b[0;34m,\u001b[0m\u001b[0;34m\u001b[0m\u001b[0;34m\u001b[0m\u001b[0m\n\u001b[0;32m-> 1418\u001b[0;31m             initial_epoch=initial_epoch)\n\u001b[0m\u001b[1;32m   1419\u001b[0m \u001b[0;34m\u001b[0m\u001b[0m\n\u001b[1;32m   1420\u001b[0m     \u001b[0;34m@\u001b[0m\u001b[0minterfaces\u001b[0m\u001b[0;34m.\u001b[0m\u001b[0mlegacy_generator_methods_support\u001b[0m\u001b[0;34m\u001b[0m\u001b[0;34m\u001b[0m\u001b[0m\n",
      "\u001b[0;32m/home/acar/.virtualenvs/mask_rcnn/lib/python3.6/site-packages/keras/engine/training_generator.py\u001b[0m in \u001b[0;36mfit_generator\u001b[0;34m(model, generator, steps_per_epoch, epochs, verbose, callbacks, validation_data, validation_steps, class_weight, max_queue_size, workers, use_multiprocessing, shuffle, initial_epoch)\u001b[0m\n\u001b[1;32m    215\u001b[0m                 outs = model.train_on_batch(x, y,\n\u001b[1;32m    216\u001b[0m                                             \u001b[0msample_weight\u001b[0m\u001b[0;34m=\u001b[0m\u001b[0msample_weight\u001b[0m\u001b[0;34m,\u001b[0m\u001b[0;34m\u001b[0m\u001b[0;34m\u001b[0m\u001b[0m\n\u001b[0;32m--> 217\u001b[0;31m                                             class_weight=class_weight)\n\u001b[0m\u001b[1;32m    218\u001b[0m \u001b[0;34m\u001b[0m\u001b[0m\n\u001b[1;32m    219\u001b[0m                 \u001b[0mouts\u001b[0m \u001b[0;34m=\u001b[0m \u001b[0mto_list\u001b[0m\u001b[0;34m(\u001b[0m\u001b[0mouts\u001b[0m\u001b[0;34m)\u001b[0m\u001b[0;34m\u001b[0m\u001b[0;34m\u001b[0m\u001b[0m\n",
      "\u001b[0;32m/home/acar/.virtualenvs/mask_rcnn/lib/python3.6/site-packages/keras/engine/training.py\u001b[0m in \u001b[0;36mtrain_on_batch\u001b[0;34m(self, x, y, sample_weight, class_weight)\u001b[0m\n\u001b[1;32m   1215\u001b[0m             \u001b[0mins\u001b[0m \u001b[0;34m=\u001b[0m \u001b[0mx\u001b[0m \u001b[0;34m+\u001b[0m \u001b[0my\u001b[0m \u001b[0;34m+\u001b[0m \u001b[0msample_weights\u001b[0m\u001b[0;34m\u001b[0m\u001b[0;34m\u001b[0m\u001b[0m\n\u001b[1;32m   1216\u001b[0m         \u001b[0mself\u001b[0m\u001b[0;34m.\u001b[0m\u001b[0m_make_train_function\u001b[0m\u001b[0;34m(\u001b[0m\u001b[0;34m)\u001b[0m\u001b[0;34m\u001b[0m\u001b[0;34m\u001b[0m\u001b[0m\n\u001b[0;32m-> 1217\u001b[0;31m         \u001b[0moutputs\u001b[0m \u001b[0;34m=\u001b[0m \u001b[0mself\u001b[0m\u001b[0;34m.\u001b[0m\u001b[0mtrain_function\u001b[0m\u001b[0;34m(\u001b[0m\u001b[0mins\u001b[0m\u001b[0;34m)\u001b[0m\u001b[0;34m\u001b[0m\u001b[0;34m\u001b[0m\u001b[0m\n\u001b[0m\u001b[1;32m   1218\u001b[0m         \u001b[0;32mreturn\u001b[0m \u001b[0munpack_singleton\u001b[0m\u001b[0;34m(\u001b[0m\u001b[0moutputs\u001b[0m\u001b[0;34m)\u001b[0m\u001b[0;34m\u001b[0m\u001b[0;34m\u001b[0m\u001b[0m\n\u001b[1;32m   1219\u001b[0m \u001b[0;34m\u001b[0m\u001b[0m\n",
      "\u001b[0;32m/home/acar/.virtualenvs/mask_rcnn/lib/python3.6/site-packages/keras/backend/tensorflow_backend.py\u001b[0m in \u001b[0;36m__call__\u001b[0;34m(self, inputs)\u001b[0m\n\u001b[1;32m   2713\u001b[0m                 \u001b[0;32mreturn\u001b[0m \u001b[0mself\u001b[0m\u001b[0;34m.\u001b[0m\u001b[0m_legacy_call\u001b[0m\u001b[0;34m(\u001b[0m\u001b[0minputs\u001b[0m\u001b[0;34m)\u001b[0m\u001b[0;34m\u001b[0m\u001b[0;34m\u001b[0m\u001b[0m\n\u001b[1;32m   2714\u001b[0m \u001b[0;34m\u001b[0m\u001b[0m\n\u001b[0;32m-> 2715\u001b[0;31m             \u001b[0;32mreturn\u001b[0m \u001b[0mself\u001b[0m\u001b[0;34m.\u001b[0m\u001b[0m_call\u001b[0m\u001b[0;34m(\u001b[0m\u001b[0minputs\u001b[0m\u001b[0;34m)\u001b[0m\u001b[0;34m\u001b[0m\u001b[0;34m\u001b[0m\u001b[0m\n\u001b[0m\u001b[1;32m   2716\u001b[0m         \u001b[0;32melse\u001b[0m\u001b[0;34m:\u001b[0m\u001b[0;34m\u001b[0m\u001b[0;34m\u001b[0m\u001b[0m\n\u001b[1;32m   2717\u001b[0m             \u001b[0;32mif\u001b[0m \u001b[0mpy_any\u001b[0m\u001b[0;34m(\u001b[0m\u001b[0mis_tensor\u001b[0m\u001b[0;34m(\u001b[0m\u001b[0mx\u001b[0m\u001b[0;34m)\u001b[0m \u001b[0;32mfor\u001b[0m \u001b[0mx\u001b[0m \u001b[0;32min\u001b[0m \u001b[0minputs\u001b[0m\u001b[0;34m)\u001b[0m\u001b[0;34m:\u001b[0m\u001b[0;34m\u001b[0m\u001b[0;34m\u001b[0m\u001b[0m\n",
      "\u001b[0;32m/home/acar/.virtualenvs/mask_rcnn/lib/python3.6/site-packages/keras/backend/tensorflow_backend.py\u001b[0m in \u001b[0;36m_call\u001b[0;34m(self, inputs)\u001b[0m\n\u001b[1;32m   2673\u001b[0m             \u001b[0mfetched\u001b[0m \u001b[0;34m=\u001b[0m \u001b[0mself\u001b[0m\u001b[0;34m.\u001b[0m\u001b[0m_callable_fn\u001b[0m\u001b[0;34m(\u001b[0m\u001b[0;34m*\u001b[0m\u001b[0marray_vals\u001b[0m\u001b[0;34m,\u001b[0m \u001b[0mrun_metadata\u001b[0m\u001b[0;34m=\u001b[0m\u001b[0mself\u001b[0m\u001b[0;34m.\u001b[0m\u001b[0mrun_metadata\u001b[0m\u001b[0;34m)\u001b[0m\u001b[0;34m\u001b[0m\u001b[0;34m\u001b[0m\u001b[0m\n\u001b[1;32m   2674\u001b[0m         \u001b[0;32melse\u001b[0m\u001b[0;34m:\u001b[0m\u001b[0;34m\u001b[0m\u001b[0;34m\u001b[0m\u001b[0m\n\u001b[0;32m-> 2675\u001b[0;31m             \u001b[0mfetched\u001b[0m \u001b[0;34m=\u001b[0m \u001b[0mself\u001b[0m\u001b[0;34m.\u001b[0m\u001b[0m_callable_fn\u001b[0m\u001b[0;34m(\u001b[0m\u001b[0;34m*\u001b[0m\u001b[0marray_vals\u001b[0m\u001b[0;34m)\u001b[0m\u001b[0;34m\u001b[0m\u001b[0;34m\u001b[0m\u001b[0m\n\u001b[0m\u001b[1;32m   2676\u001b[0m         \u001b[0;32mreturn\u001b[0m \u001b[0mfetched\u001b[0m\u001b[0;34m[\u001b[0m\u001b[0;34m:\u001b[0m\u001b[0mlen\u001b[0m\u001b[0;34m(\u001b[0m\u001b[0mself\u001b[0m\u001b[0;34m.\u001b[0m\u001b[0moutputs\u001b[0m\u001b[0;34m)\u001b[0m\u001b[0;34m]\u001b[0m\u001b[0;34m\u001b[0m\u001b[0;34m\u001b[0m\u001b[0m\n\u001b[1;32m   2677\u001b[0m \u001b[0;34m\u001b[0m\u001b[0m\n",
      "\u001b[0;32m/home/acar/.virtualenvs/mask_rcnn/lib/python3.6/site-packages/tensorflow/python/client/session.py\u001b[0m in \u001b[0;36m__call__\u001b[0;34m(self, *args, **kwargs)\u001b[0m\n\u001b[1;32m   1456\u001b[0m         ret = tf_session.TF_SessionRunCallable(self._session._session,\n\u001b[1;32m   1457\u001b[0m                                                \u001b[0mself\u001b[0m\u001b[0;34m.\u001b[0m\u001b[0m_handle\u001b[0m\u001b[0;34m,\u001b[0m \u001b[0margs\u001b[0m\u001b[0;34m,\u001b[0m\u001b[0;34m\u001b[0m\u001b[0;34m\u001b[0m\u001b[0m\n\u001b[0;32m-> 1458\u001b[0;31m                                                run_metadata_ptr)\n\u001b[0m\u001b[1;32m   1459\u001b[0m         \u001b[0;32mif\u001b[0m \u001b[0mrun_metadata\u001b[0m\u001b[0;34m:\u001b[0m\u001b[0;34m\u001b[0m\u001b[0;34m\u001b[0m\u001b[0m\n\u001b[1;32m   1460\u001b[0m           \u001b[0mproto_data\u001b[0m \u001b[0;34m=\u001b[0m \u001b[0mtf_session\u001b[0m\u001b[0;34m.\u001b[0m\u001b[0mTF_GetBuffer\u001b[0m\u001b[0;34m(\u001b[0m\u001b[0mrun_metadata_ptr\u001b[0m\u001b[0;34m)\u001b[0m\u001b[0;34m\u001b[0m\u001b[0;34m\u001b[0m\u001b[0m\n",
      "\u001b[0;31mKeyboardInterrupt\u001b[0m: "
     ]
    }
   ],
   "source": [
    "checkpointer = ModelCheckpoint(filepath='saved_models/weights.best.soft_teacher.hdf5', \n",
    "                               verbose=0, save_best_only=True, monitor='val_acc')\n",
    "\n",
    "model['soft_teacher'].load_weights('saved_models/weights.best.soft_teacher.hdf5')\n",
    "hist['soft_teacher'] = model['soft_teacher'].fit_generator(train_datagen.flow(x_train, y_train, batch_size=batch_size),\n",
    "                                                           steps_per_epoch=len(x_train) // batch_size, \n",
    "                                                           epochs=30, verbose=1, \n",
    "#                                                            validation_data=test_datagen.flow(x_test, y_test), \n",
    "#                                                            validation_steps=len(x_train) // batch_size,\n",
    "                                                           validation_data=(x_test, y_test),\n",
    "                                                           callbacks=[checkpointer])\n",
    "score['soft_teacher'] = model['soft_teacher'].evaluate(x_test, y_test, verbose=0)\n",
    "print('Test loss:', score['soft_teacher'][0])\n",
    "print('Test accuracy:', score['soft_teacher'][1])"
   ]
  },
  {
   "cell_type": "code",
   "execution_count": 141,
   "metadata": {},
   "outputs": [
    {
     "name": "stdout",
     "output_type": "stream",
     "text": [
      "Test loss: 0.8385954130172729\n",
      "Test accuracy: 0.9952\n",
      "Test errors: 48\n"
     ]
    }
   ],
   "source": [
    "model['soft_teacher'].load_weights('saved_models/weights.best.soft_teacher.hdf5')\n",
    "score['soft_teacher'] = model['soft_teacher'].evaluate(x_test, y_test, verbose=0)\n",
    "n_errors = np.int((1-score['soft_teacher'][-1])*len(y_test))\n",
    "print('Test loss:', score['soft_teacher'][0])\n",
    "print('Test accuracy:', score['soft_teacher'][-1])\n",
    "print('Test errors:', n_errors)"
   ]
  },
  {
   "cell_type": "code",
   "execution_count": 10,
   "metadata": {},
   "outputs": [
    {
     "name": "stdout",
     "output_type": "stream",
     "text": [
      "_________________________________________________________________\n",
      "Layer (type)                 Output Shape              Param #   \n",
      "=================================================================\n",
      "input_3 (InputLayer)         (None, 28, 28, 1)         0         \n",
      "_________________________________________________________________\n",
      "flatten_3 (Flatten)          (None, 784)               0         \n",
      "_________________________________________________________________\n",
      "dense_7 (Dense)              (None, 800)               628000    \n",
      "_________________________________________________________________\n",
      "dense_8 (Dense)              (None, 800)               640800    \n",
      "_________________________________________________________________\n",
      "dense_9 (Dense)              (None, 10)                8010      \n",
      "_________________________________________________________________\n",
      "o2 (Activation)              (None, 10)                0         \n",
      "=================================================================\n",
      "Total params: 1,276,810\n",
      "Trainable params: 1,276,810\n",
      "Non-trainable params: 0\n",
      "_________________________________________________________________\n"
     ]
    }
   ],
   "source": [
    "reload(models)\n",
    "model['student'] = models.StudentModel(input_shape, num_classes)\n",
    "\n",
    "model['student'].compile(loss=keras.losses.categorical_crossentropy,\n",
    "              optimizer='Adam',\n",
    "              metrics=['accuracy'])\n",
    "model['student'].summary()"
   ]
  },
  {
   "cell_type": "code",
   "execution_count": 116,
   "metadata": {
    "collapsed": true,
    "jupyter": {
     "outputs_hidden": true
    }
   },
   "outputs": [
    {
     "name": "stdout",
     "output_type": "stream",
     "text": [
      "Train on 60000 samples, validate on 10000 samples\n",
      "Epoch 1/100\n",
      "60000/60000 [==============================] - 6s 99us/step - loss: 0.3994 - acc: 0.8890 - val_loss: 0.1743 - val_acc: 0.9483\n",
      "Epoch 2/100\n",
      "60000/60000 [==============================] - 1s 16us/step - loss: 0.1314 - acc: 0.9612 - val_loss: 0.1046 - val_acc: 0.9671\n",
      "Epoch 3/100\n",
      "60000/60000 [==============================] - 1s 17us/step - loss: 0.0840 - acc: 0.9754 - val_loss: 0.0836 - val_acc: 0.9731\n",
      "Epoch 4/100\n",
      "60000/60000 [==============================] - 1s 17us/step - loss: 0.0567 - acc: 0.9833 - val_loss: 0.0716 - val_acc: 0.9778\n",
      "Epoch 5/100\n",
      "60000/60000 [==============================] - 1s 16us/step - loss: 0.0409 - acc: 0.9882 - val_loss: 0.0695 - val_acc: 0.9775\n",
      "Epoch 6/100\n",
      "60000/60000 [==============================] - 1s 17us/step - loss: 0.0293 - acc: 0.9913 - val_loss: 0.0653 - val_acc: 0.9784\n",
      "Epoch 7/100\n",
      "60000/60000 [==============================] - 1s 16us/step - loss: 0.0210 - acc: 0.9944 - val_loss: 0.0598 - val_acc: 0.9812\n",
      "Epoch 8/100\n",
      "60000/60000 [==============================] - 1s 14us/step - loss: 0.0151 - acc: 0.9965 - val_loss: 0.0601 - val_acc: 0.9812\n",
      "Epoch 9/100\n",
      "60000/60000 [==============================] - 1s 14us/step - loss: 0.0108 - acc: 0.9975 - val_loss: 0.0589 - val_acc: 0.9824\n",
      "Epoch 10/100\n",
      "60000/60000 [==============================] - 1s 15us/step - loss: 0.0071 - acc: 0.9985 - val_loss: 0.0607 - val_acc: 0.9818\n",
      "Epoch 11/100\n",
      "60000/60000 [==============================] - 1s 14us/step - loss: 0.0044 - acc: 0.9995 - val_loss: 0.0585 - val_acc: 0.9829\n",
      "Epoch 12/100\n",
      "60000/60000 [==============================] - 1s 14us/step - loss: 0.0031 - acc: 0.9998 - val_loss: 0.0625 - val_acc: 0.9819\n",
      "Epoch 13/100\n",
      "60000/60000 [==============================] - 1s 16us/step - loss: 0.0019 - acc: 0.9999 - val_loss: 0.0602 - val_acc: 0.9829\n",
      "Epoch 14/100\n",
      "60000/60000 [==============================] - 1s 16us/step - loss: 0.0013 - acc: 1.0000 - val_loss: 0.0609 - val_acc: 0.9824\n",
      "Epoch 15/100\n",
      "60000/60000 [==============================] - 1s 16us/step - loss: 9.9836e-04 - acc: 1.0000 - val_loss: 0.0630 - val_acc: 0.9829\n",
      "Epoch 16/100\n",
      "60000/60000 [==============================] - 1s 16us/step - loss: 9.1339e-04 - acc: 1.0000 - val_loss: 0.0639 - val_acc: 0.9829\n",
      "Epoch 17/100\n",
      "60000/60000 [==============================] - 1s 16us/step - loss: 6.9194e-04 - acc: 1.0000 - val_loss: 0.0637 - val_acc: 0.9833\n",
      "Epoch 18/100\n",
      "60000/60000 [==============================] - 1s 16us/step - loss: 6.0353e-04 - acc: 1.0000 - val_loss: 0.0635 - val_acc: 0.9830\n",
      "Epoch 19/100\n",
      "60000/60000 [==============================] - 1s 15us/step - loss: 4.8143e-04 - acc: 1.0000 - val_loss: 0.0638 - val_acc: 0.9833\n",
      "Epoch 20/100\n",
      "60000/60000 [==============================] - 1s 15us/step - loss: 4.2512e-04 - acc: 1.0000 - val_loss: 0.0648 - val_acc: 0.9834\n",
      "Epoch 21/100\n",
      "60000/60000 [==============================] - 1s 15us/step - loss: 3.7610e-04 - acc: 1.0000 - val_loss: 0.0658 - val_acc: 0.9835\n",
      "Epoch 22/100\n",
      "60000/60000 [==============================] - 1s 14us/step - loss: 3.3203e-04 - acc: 1.0000 - val_loss: 0.0663 - val_acc: 0.9834\n",
      "Epoch 23/100\n",
      "60000/60000 [==============================] - 1s 14us/step - loss: 3.0186e-04 - acc: 1.0000 - val_loss: 0.0664 - val_acc: 0.9835\n",
      "Epoch 24/100\n",
      "60000/60000 [==============================] - 1s 15us/step - loss: 2.7000e-04 - acc: 1.0000 - val_loss: 0.0671 - val_acc: 0.9831\n",
      "Epoch 25/100\n",
      "60000/60000 [==============================] - 1s 17us/step - loss: 2.4848e-04 - acc: 1.0000 - val_loss: 0.0677 - val_acc: 0.9832\n",
      "Epoch 26/100\n",
      "60000/60000 [==============================] - 1s 17us/step - loss: 2.2603e-04 - acc: 1.0000 - val_loss: 0.0684 - val_acc: 0.9834\n",
      "Epoch 27/100\n",
      "60000/60000 [==============================] - 1s 17us/step - loss: 2.0857e-04 - acc: 1.0000 - val_loss: 0.0679 - val_acc: 0.9834\n",
      "Epoch 28/100\n",
      "60000/60000 [==============================] - 1s 16us/step - loss: 1.9140e-04 - acc: 1.0000 - val_loss: 0.0688 - val_acc: 0.9835\n",
      "Epoch 29/100\n",
      "60000/60000 [==============================] - 1s 15us/step - loss: 1.7410e-04 - acc: 1.0000 - val_loss: 0.0694 - val_acc: 0.9835\n",
      "Epoch 30/100\n",
      "60000/60000 [==============================] - 1s 15us/step - loss: 1.6170e-04 - acc: 1.0000 - val_loss: 0.0693 - val_acc: 0.9838\n",
      "Epoch 31/100\n",
      "60000/60000 [==============================] - 1s 14us/step - loss: 1.4932e-04 - acc: 1.0000 - val_loss: 0.0698 - val_acc: 0.9834\n",
      "Epoch 32/100\n",
      "60000/60000 [==============================] - 1s 14us/step - loss: 1.4044e-04 - acc: 1.0000 - val_loss: 0.0703 - val_acc: 0.9835\n",
      "Epoch 33/100\n",
      "60000/60000 [==============================] - 1s 14us/step - loss: 1.2919e-04 - acc: 1.0000 - val_loss: 0.0707 - val_acc: 0.9837\n",
      "Epoch 34/100\n",
      "60000/60000 [==============================] - 1s 16us/step - loss: 1.1929e-04 - acc: 1.0000 - val_loss: 0.0711 - val_acc: 0.9836\n",
      "Epoch 35/100\n",
      "60000/60000 [==============================] - 1s 17us/step - loss: 1.1085e-04 - acc: 1.0000 - val_loss: 0.0717 - val_acc: 0.9836\n",
      "Epoch 36/100\n",
      "60000/60000 [==============================] - 1s 18us/step - loss: 1.0372e-04 - acc: 1.0000 - val_loss: 0.0720 - val_acc: 0.9837\n",
      "Epoch 37/100\n",
      "60000/60000 [==============================] - 1s 17us/step - loss: 9.6566e-05 - acc: 1.0000 - val_loss: 0.0728 - val_acc: 0.9834\n",
      "Epoch 38/100\n",
      "60000/60000 [==============================] - 1s 17us/step - loss: 9.0870e-05 - acc: 1.0000 - val_loss: 0.0727 - val_acc: 0.9832\n",
      "Epoch 39/100\n",
      "60000/60000 [==============================] - 1s 17us/step - loss: 8.4937e-05 - acc: 1.0000 - val_loss: 0.0730 - val_acc: 0.9836\n",
      "Epoch 40/100\n",
      "60000/60000 [==============================] - 1s 17us/step - loss: 7.9950e-05 - acc: 1.0000 - val_loss: 0.0737 - val_acc: 0.9835\n",
      "Epoch 41/100\n",
      "60000/60000 [==============================] - 1s 16us/step - loss: 7.5187e-05 - acc: 1.0000 - val_loss: 0.0737 - val_acc: 0.9838\n",
      "Epoch 42/100\n",
      "60000/60000 [==============================] - 1s 16us/step - loss: 7.0492e-05 - acc: 1.0000 - val_loss: 0.0740 - val_acc: 0.9837\n",
      "Epoch 43/100\n",
      "60000/60000 [==============================] - 1s 16us/step - loss: 6.6079e-05 - acc: 1.0000 - val_loss: 0.0740 - val_acc: 0.9840\n",
      "Epoch 44/100\n",
      "60000/60000 [==============================] - 1s 16us/step - loss: 6.2058e-05 - acc: 1.0000 - val_loss: 0.0746 - val_acc: 0.9835\n",
      "Epoch 45/100\n",
      "60000/60000 [==============================] - 1s 16us/step - loss: 5.8910e-05 - acc: 1.0000 - val_loss: 0.0751 - val_acc: 0.9834\n",
      "Epoch 46/100\n",
      "60000/60000 [==============================] - 1s 15us/step - loss: 5.5272e-05 - acc: 1.0000 - val_loss: 0.0756 - val_acc: 0.9834\n",
      "Epoch 47/100\n",
      "60000/60000 [==============================] - 1s 15us/step - loss: 5.1945e-05 - acc: 1.0000 - val_loss: 0.0757 - val_acc: 0.9839\n",
      "Epoch 48/100\n",
      "60000/60000 [==============================] - 1s 16us/step - loss: 4.9049e-05 - acc: 1.0000 - val_loss: 0.0764 - val_acc: 0.9833\n",
      "Epoch 49/100\n",
      "60000/60000 [==============================] - 1s 16us/step - loss: 4.6255e-05 - acc: 1.0000 - val_loss: 0.0764 - val_acc: 0.9836\n",
      "Epoch 50/100\n",
      "60000/60000 [==============================] - 1s 17us/step - loss: 4.3485e-05 - acc: 1.0000 - val_loss: 0.0767 - val_acc: 0.9838\n",
      "Epoch 51/100\n",
      "60000/60000 [==============================] - 1s 19us/step - loss: 4.1047e-05 - acc: 1.0000 - val_loss: 0.0771 - val_acc: 0.9834\n",
      "Epoch 52/100\n",
      "60000/60000 [==============================] - 1s 18us/step - loss: 3.9162e-05 - acc: 1.0000 - val_loss: 0.0775 - val_acc: 0.9836\n",
      "Epoch 53/100\n",
      "60000/60000 [==============================] - 1s 17us/step - loss: 3.6912e-05 - acc: 1.0000 - val_loss: 0.0779 - val_acc: 0.9835\n",
      "Epoch 54/100\n",
      "60000/60000 [==============================] - 1s 17us/step - loss: 3.5074e-05 - acc: 1.0000 - val_loss: 0.0779 - val_acc: 0.9836\n",
      "Epoch 55/100\n",
      "60000/60000 [==============================] - 1s 15us/step - loss: 3.3043e-05 - acc: 1.0000 - val_loss: 0.0787 - val_acc: 0.9836\n",
      "Epoch 56/100\n",
      "60000/60000 [==============================] - 1s 15us/step - loss: 3.1235e-05 - acc: 1.0000 - val_loss: 0.0789 - val_acc: 0.9833\n",
      "Epoch 57/100\n",
      "60000/60000 [==============================] - 1s 16us/step - loss: 2.9678e-05 - acc: 1.0000 - val_loss: 0.0793 - val_acc: 0.9833\n",
      "Epoch 58/100\n",
      "60000/60000 [==============================] - 1s 15us/step - loss: 2.7851e-05 - acc: 1.0000 - val_loss: 0.0794 - val_acc: 0.9837\n",
      "Epoch 59/100\n",
      "60000/60000 [==============================] - 1s 15us/step - loss: 2.6647e-05 - acc: 1.0000 - val_loss: 0.0800 - val_acc: 0.9835\n",
      "Epoch 60/100\n",
      "60000/60000 [==============================] - 1s 15us/step - loss: 2.5237e-05 - acc: 1.0000 - val_loss: 0.0804 - val_acc: 0.9836\n",
      "Epoch 61/100\n",
      "60000/60000 [==============================] - 1s 16us/step - loss: 2.4007e-05 - acc: 1.0000 - val_loss: 0.0801 - val_acc: 0.9836\n",
      "Epoch 62/100\n",
      "60000/60000 [==============================] - 1s 17us/step - loss: 2.2627e-05 - acc: 1.0000 - val_loss: 0.0810 - val_acc: 0.9835\n",
      "Epoch 63/100\n",
      "60000/60000 [==============================] - 1s 17us/step - loss: 2.1434e-05 - acc: 1.0000 - val_loss: 0.0814 - val_acc: 0.9836\n",
      "Epoch 64/100\n",
      "60000/60000 [==============================] - 1s 17us/step - loss: 2.0400e-05 - acc: 1.0000 - val_loss: 0.0814 - val_acc: 0.9837\n",
      "Epoch 65/100\n",
      "60000/60000 [==============================] - 1s 16us/step - loss: 1.9418e-05 - acc: 1.0000 - val_loss: 0.0818 - val_acc: 0.9837\n",
      "Epoch 66/100\n",
      "60000/60000 [==============================] - 1s 16us/step - loss: 1.8376e-05 - acc: 1.0000 - val_loss: 0.0820 - val_acc: 0.9836\n",
      "Epoch 67/100\n",
      "60000/60000 [==============================] - 1s 15us/step - loss: 1.7681e-05 - acc: 1.0000 - val_loss: 0.0827 - val_acc: 0.9835\n",
      "Epoch 68/100\n",
      "60000/60000 [==============================] - 1s 15us/step - loss: 1.6683e-05 - acc: 1.0000 - val_loss: 0.0829 - val_acc: 0.9836\n",
      "Epoch 69/100\n",
      "60000/60000 [==============================] - 1s 16us/step - loss: 1.5880e-05 - acc: 1.0000 - val_loss: 0.0829 - val_acc: 0.9835\n",
      "Epoch 70/100\n",
      "60000/60000 [==============================] - 1s 15us/step - loss: 1.5084e-05 - acc: 1.0000 - val_loss: 0.0836 - val_acc: 0.9834\n",
      "Epoch 71/100\n",
      "60000/60000 [==============================] - 1s 17us/step - loss: 1.4383e-05 - acc: 1.0000 - val_loss: 0.0835 - val_acc: 0.9837\n",
      "Epoch 72/100\n",
      "60000/60000 [==============================] - 1s 18us/step - loss: 1.3610e-05 - acc: 1.0000 - val_loss: 0.0839 - val_acc: 0.9838\n",
      "Epoch 73/100\n",
      "60000/60000 [==============================] - 1s 17us/step - loss: 1.3002e-05 - acc: 1.0000 - val_loss: 0.0842 - val_acc: 0.9836\n",
      "Epoch 74/100\n",
      "60000/60000 [==============================] - 1s 18us/step - loss: 1.2305e-05 - acc: 1.0000 - val_loss: 0.0848 - val_acc: 0.9836\n",
      "Epoch 75/100\n",
      "60000/60000 [==============================] - 1s 17us/step - loss: 1.1855e-05 - acc: 1.0000 - val_loss: 0.0850 - val_acc: 0.9834\n",
      "Epoch 76/100\n",
      "60000/60000 [==============================] - 1s 16us/step - loss: 1.1247e-05 - acc: 1.0000 - val_loss: 0.0853 - val_acc: 0.9836\n",
      "Epoch 77/100\n",
      "60000/60000 [==============================] - 1s 16us/step - loss: 1.0771e-05 - acc: 1.0000 - val_loss: 0.0855 - val_acc: 0.9837\n",
      "Epoch 78/100\n",
      "60000/60000 [==============================] - 1s 15us/step - loss: 1.0225e-05 - acc: 1.0000 - val_loss: 0.0857 - val_acc: 0.9838\n",
      "Epoch 79/100\n",
      "60000/60000 [==============================] - 1s 15us/step - loss: 9.7413e-06 - acc: 1.0000 - val_loss: 0.0863 - val_acc: 0.9834\n",
      "Epoch 80/100\n",
      "60000/60000 [==============================] - 1s 15us/step - loss: 9.2688e-06 - acc: 1.0000 - val_loss: 0.0865 - val_acc: 0.9834\n",
      "Epoch 81/100\n",
      "60000/60000 [==============================] - 1s 15us/step - loss: 8.8821e-06 - acc: 1.0000 - val_loss: 0.0869 - val_acc: 0.9834\n",
      "Epoch 82/100\n",
      "60000/60000 [==============================] - 1s 15us/step - loss: 8.5251e-06 - acc: 1.0000 - val_loss: 0.0872 - val_acc: 0.9836\n",
      "Epoch 83/100\n",
      "60000/60000 [==============================] - 1s 15us/step - loss: 8.0643e-06 - acc: 1.0000 - val_loss: 0.0873 - val_acc: 0.9838\n",
      "Epoch 84/100\n",
      "60000/60000 [==============================] - 1s 16us/step - loss: 7.7380e-06 - acc: 1.0000 - val_loss: 0.0878 - val_acc: 0.9835\n",
      "Epoch 85/100\n",
      "60000/60000 [==============================] - 1s 18us/step - loss: 7.4537e-06 - acc: 1.0000 - val_loss: 0.0882 - val_acc: 0.9834\n",
      "Epoch 86/100\n",
      "60000/60000 [==============================] - 1s 18us/step - loss: 7.0697e-06 - acc: 1.0000 - val_loss: 0.0882 - val_acc: 0.9837\n",
      "Epoch 87/100\n",
      "60000/60000 [==============================] - 1s 18us/step - loss: 6.7580e-06 - acc: 1.0000 - val_loss: 0.0886 - val_acc: 0.9836\n",
      "Epoch 88/100\n",
      "60000/60000 [==============================] - 1s 19us/step - loss: 6.4784e-06 - acc: 1.0000 - val_loss: 0.0890 - val_acc: 0.9836\n",
      "Epoch 89/100\n",
      "60000/60000 [==============================] - 1s 16us/step - loss: 6.1849e-06 - acc: 1.0000 - val_loss: 0.0893 - val_acc: 0.9834\n",
      "Epoch 90/100\n",
      "60000/60000 [==============================] - 1s 15us/step - loss: 5.9331e-06 - acc: 1.0000 - val_loss: 0.0895 - val_acc: 0.9837\n",
      "Epoch 91/100\n",
      "60000/60000 [==============================] - 1s 15us/step - loss: 5.6610e-06 - acc: 1.0000 - val_loss: 0.0897 - val_acc: 0.9836\n",
      "Epoch 92/100\n",
      "60000/60000 [==============================] - 1s 15us/step - loss: 5.4022e-06 - acc: 1.0000 - val_loss: 0.0903 - val_acc: 0.9834\n",
      "Epoch 93/100\n",
      "60000/60000 [==============================] - 1s 14us/step - loss: 5.2055e-06 - acc: 1.0000 - val_loss: 0.0907 - val_acc: 0.9836\n",
      "Epoch 94/100\n",
      "60000/60000 [==============================] - 1s 14us/step - loss: 4.9661e-06 - acc: 1.0000 - val_loss: 0.0909 - val_acc: 0.9834\n",
      "Epoch 95/100\n",
      "60000/60000 [==============================] - 1s 14us/step - loss: 4.7898e-06 - acc: 1.0000 - val_loss: 0.0912 - val_acc: 0.9834\n",
      "Epoch 96/100\n",
      "60000/60000 [==============================] - 1s 15us/step - loss: 4.5782e-06 - acc: 1.0000 - val_loss: 0.0912 - val_acc: 0.9836\n",
      "Epoch 97/100\n",
      "60000/60000 [==============================] - 1s 15us/step - loss: 4.3842e-06 - acc: 1.0000 - val_loss: 0.0914 - val_acc: 0.9836\n",
      "Epoch 98/100\n",
      "60000/60000 [==============================] - 1s 14us/step - loss: 4.2097e-06 - acc: 1.0000 - val_loss: 0.0918 - val_acc: 0.9835\n",
      "Epoch 99/100\n",
      "60000/60000 [==============================] - 1s 16us/step - loss: 4.0336e-06 - acc: 1.0000 - val_loss: 0.0922 - val_acc: 0.9836\n",
      "Epoch 100/100\n",
      "60000/60000 [==============================] - 1s 17us/step - loss: 3.8583e-06 - acc: 1.0000 - val_loss: 0.0925 - val_acc: 0.9834\n",
      "Test loss: 0.09252743596316784\n",
      "Test accuracy: 0.9834\n"
     ]
    }
   ],
   "source": [
    "checkpointer = ModelCheckpoint(filepath='saved_models/weights.best.student.hdf5', \n",
    "                               verbose=0, save_best_only=True, monitor='val_acc')\n",
    "\n",
    "hist['student'] = model['student'].fit(x_train, y_train, batch_size=batch_size,\n",
    "          epochs=100, verbose=1, validation_data=(x_test, y_test), callbacks=[checkpointer])\n",
    "score['student'] = model['student'].evaluate(x_test, y_test, verbose=0)\n",
    "print('Test loss:', score['student'][0])\n",
    "print('Test accuracy:', score['student'][1])"
   ]
  },
  {
   "cell_type": "code",
   "execution_count": 11,
   "metadata": {},
   "outputs": [
    {
     "name": "stdout",
     "output_type": "stream",
     "text": [
      "Test loss: 0.074012807541752\n",
      "Test accuracy: 0.984\n",
      "Test errors: 160\n"
     ]
    }
   ],
   "source": [
    "model['student'].load_weights('saved_models/weights.best.student.hdf5')\n",
    "score['student'] = model['student'].evaluate(x_test, y_test, verbose=0)\n",
    "n_errors = np.int((1-score['student'][-1])*len(y_test))\n",
    "print('Test loss:', score['student'][0])\n",
    "print('Test accuracy:', score['student'][-1])\n",
    "print('Test errors:', n_errors)"
   ]
  },
  {
   "cell_type": "markdown",
   "metadata": {},
   "source": [
    "# Knowledge Distilation"
   ]
  },
  {
   "cell_type": "code",
   "execution_count": 142,
   "metadata": {},
   "outputs": [
    {
     "name": "stdout",
     "output_type": "stream",
     "text": [
      "60000/60000 [==============================] - 4s 65us/step\n",
      "10000/10000 [==============================] - 2s 162us/step\n",
      "60000/60000 [==============================] - 4s 72us/step\n",
      "10000/10000 [==============================] - 1s 55us/step\n"
     ]
    },
    {
     "data": {
      "text/plain": [
       "(0.3622794, 0.53431916)"
      ]
     },
     "execution_count": 142,
     "metadata": {},
     "output_type": "execute_result"
    }
   ],
   "source": [
    "kd_gt = dict()\n",
    "T = 20\n",
    "kd_gt['t_train'] = model['teacher'].T_model(T).predict(x_train, verbose=1, batch_size=batch_size)\n",
    "kd_gt['t_test'] = model['teacher'].T_model(T).predict(x_test, verbose=1, batch_size=batch_size)\n",
    "kd_gt['st_train'] = model['soft_teacher'].predict(x_train, verbose=1, batch_size=batch_size)\n",
    "kd_gt['st_test'] = model['soft_teacher'].predict(x_test, verbose=1, batch_size=batch_size)\n",
    "\n",
    "import numpy as np\n",
    "np.linalg.norm(kd_gt['t_train'], axis=-1).mean(), np.linalg.norm(kd_gt['st_train'], axis=-1).mean()"
   ]
  },
  {
   "cell_type": "code",
   "execution_count": 120,
   "metadata": {},
   "outputs": [],
   "source": [
    "# import numpy as np\n",
    "# from keras.activations import softmax\n",
    "\n",
    "# def softmax_with_temp(x):\n",
    "#     Temp = 1.0\n",
    "#     e_x = np.exp((x - x.max(axis=1, keepdims=True))/Temp)\n",
    "#     out = e_x / e_x.sum(axis=1, keepdims=True)\n",
    "#     return out\n",
    "\n",
    "# def soft_with_T(T=1):\n",
    "#     def swt(x):\n",
    "#         return softmax(x/T)\n",
    "#     return swt"
   ]
  },
  {
   "cell_type": "code",
   "execution_count": 82,
   "metadata": {},
   "outputs": [],
   "source": [
    "''' KNOWLEDGE DISTILLATION WITH REGULAR TEACHER (TEMPERATURE SOFTMAX) '''\n",
    "reload(models)\n",
    "model['student_'] = models.StudentModel(input_shape, num_classes, T=T, in_class=True)\n",
    "model['student_'].compile(loss=['categorical_crossentropy', 'categorical_crossentropy'],\n",
    "                          loss_weights=[1., 1. / (T**2)],\n",
    "                          optimizer='Adam',\n",
    "                          metrics=['acc'])"
   ]
  },
  {
   "cell_type": "code",
   "execution_count": 83,
   "metadata": {
    "collapsed": true,
    "jupyter": {
     "outputs_hidden": true
    }
   },
   "outputs": [
    {
     "name": "stdout",
     "output_type": "stream",
     "text": [
      "Train on 60000 samples, validate on 10000 samples\n",
      "Epoch 1/100\n",
      "60000/60000 [==============================] - 4s 62us/step - loss: 2.2243 - o1_loss: 2.2225 - o2_loss: 0.6856 - o1_acc: 0.8270 - o2_acc: 0.8269 - val_loss: 2.1998 - val_o1_loss: 2.1989 - val_o2_loss: 0.3483 - val_o1_acc: 0.9288 - val_o2_acc: 0.9280\n",
      "Epoch 2/100\n",
      "60000/60000 [==============================] - 1s 19us/step - loss: 2.1956 - o1_loss: 2.1949 - o2_loss: 0.2572 - o1_acc: 0.9435 - o2_acc: 0.9433 - val_loss: 2.1925 - val_o1_loss: 2.1920 - val_o2_loss: 0.1918 - val_o1_acc: 0.9580 - val_o2_acc: 0.9575\n",
      "Epoch 3/100\n",
      "60000/60000 [==============================] - 1s 18us/step - loss: 2.1907 - o1_loss: 2.1903 - o2_loss: 0.1602 - o1_acc: 0.9640 - o2_acc: 0.9636 - val_loss: 2.1895 - val_o1_loss: 2.1892 - val_o2_loss: 0.1370 - val_o1_acc: 0.9693 - val_o2_acc: 0.9686\n",
      "Epoch 4/100\n",
      "60000/60000 [==============================] - 1s 18us/step - loss: 2.1883 - o1_loss: 2.1880 - o2_loss: 0.1138 - o1_acc: 0.9735 - o2_acc: 0.9732 - val_loss: 2.1880 - val_o1_loss: 2.1877 - val_o2_loss: 0.1033 - val_o1_acc: 0.9758 - val_o2_acc: 0.9754\n",
      "Epoch 5/100\n",
      "60000/60000 [==============================] - 1s 18us/step - loss: 2.1870 - o1_loss: 2.1867 - o2_loss: 0.0853 - o1_acc: 0.9791 - o2_acc: 0.9788 - val_loss: 2.1871 - val_o1_loss: 2.1869 - val_o2_loss: 0.0884 - val_o1_acc: 0.9779 - val_o2_acc: 0.9778\n",
      "Epoch 6/100\n",
      "60000/60000 [==============================] - 1s 19us/step - loss: 2.1861 - o1_loss: 2.1860 - o2_loss: 0.0674 - o1_acc: 0.9828 - o2_acc: 0.9825 - val_loss: 2.1866 - val_o1_loss: 2.1864 - val_o2_loss: 0.0783 - val_o1_acc: 0.9803 - val_o2_acc: 0.9802\n",
      "Epoch 7/100\n",
      "60000/60000 [==============================] - 1s 20us/step - loss: 2.1855 - o1_loss: 2.1854 - o2_loss: 0.0533 - o1_acc: 0.9859 - o2_acc: 0.9856 - val_loss: 2.1860 - val_o1_loss: 2.1859 - val_o2_loss: 0.0686 - val_o1_acc: 0.9835 - val_o2_acc: 0.9833\n",
      "Epoch 8/100\n",
      "60000/60000 [==============================] - 1s 20us/step - loss: 2.1851 - o1_loss: 2.1850 - o2_loss: 0.0435 - o1_acc: 0.9887 - o2_acc: 0.9884 - val_loss: 2.1858 - val_o1_loss: 2.1857 - val_o2_loss: 0.0663 - val_o1_acc: 0.9839 - val_o2_acc: 0.9836\n",
      "Epoch 9/100\n",
      "60000/60000 [==============================] - 1s 21us/step - loss: 2.1848 - o1_loss: 2.1847 - o2_loss: 0.0354 - o1_acc: 0.9904 - o2_acc: 0.9902 - val_loss: 2.1856 - val_o1_loss: 2.1854 - val_o2_loss: 0.0600 - val_o1_acc: 0.9863 - val_o2_acc: 0.9862\n",
      "Epoch 10/100\n",
      "60000/60000 [==============================] - 1s 19us/step - loss: 2.1845 - o1_loss: 2.1844 - o2_loss: 0.0297 - o1_acc: 0.9918 - o2_acc: 0.9915 - val_loss: 2.1853 - val_o1_loss: 2.1852 - val_o2_loss: 0.0574 - val_o1_acc: 0.9865 - val_o2_acc: 0.9864\n",
      "Epoch 11/100\n",
      "60000/60000 [==============================] - 1s 18us/step - loss: 2.1843 - o1_loss: 2.1842 - o2_loss: 0.0253 - o1_acc: 0.9927 - o2_acc: 0.9926 - val_loss: 2.1852 - val_o1_loss: 2.1851 - val_o2_loss: 0.0545 - val_o1_acc: 0.9870 - val_o2_acc: 0.9867\n",
      "Epoch 12/100\n",
      "60000/60000 [==============================] - 1s 18us/step - loss: 2.1841 - o1_loss: 2.1841 - o2_loss: 0.0219 - o1_acc: 0.9940 - o2_acc: 0.9938 - val_loss: 2.1852 - val_o1_loss: 2.1850 - val_o2_loss: 0.0518 - val_o1_acc: 0.9869 - val_o2_acc: 0.9865\n",
      "Epoch 13/100\n",
      "60000/60000 [==============================] - 1s 17us/step - loss: 2.1839 - o1_loss: 2.1839 - o2_loss: 0.0182 - o1_acc: 0.9949 - o2_acc: 0.9947 - val_loss: 2.1850 - val_o1_loss: 2.1848 - val_o2_loss: 0.0491 - val_o1_acc: 0.9882 - val_o2_acc: 0.9876\n",
      "Epoch 14/100\n",
      "60000/60000 [==============================] - 1s 17us/step - loss: 2.1838 - o1_loss: 2.1838 - o2_loss: 0.0160 - o1_acc: 0.9957 - o2_acc: 0.9955 - val_loss: 2.1849 - val_o1_loss: 2.1847 - val_o2_loss: 0.0485 - val_o1_acc: 0.9887 - val_o2_acc: 0.9881\n",
      "Epoch 15/100\n",
      "60000/60000 [==============================] - 1s 18us/step - loss: 2.1837 - o1_loss: 2.1836 - o2_loss: 0.0138 - o1_acc: 0.9962 - o2_acc: 0.9960 - val_loss: 2.1848 - val_o1_loss: 2.1847 - val_o2_loss: 0.0465 - val_o1_acc: 0.9887 - val_o2_acc: 0.9881\n",
      "Epoch 16/100\n",
      "60000/60000 [==============================] - 1s 17us/step - loss: 2.1836 - o1_loss: 2.1835 - o2_loss: 0.0123 - o1_acc: 0.9965 - o2_acc: 0.9962 - val_loss: 2.1848 - val_o1_loss: 2.1847 - val_o2_loss: 0.0483 - val_o1_acc: 0.9887 - val_o2_acc: 0.9884\n",
      "Epoch 17/100\n",
      "60000/60000 [==============================] - 1s 17us/step - loss: 2.1835 - o1_loss: 2.1835 - o2_loss: 0.0111 - o1_acc: 0.9970 - o2_acc: 0.9968 - val_loss: 2.1847 - val_o1_loss: 2.1845 - val_o2_loss: 0.0470 - val_o1_acc: 0.9885 - val_o2_acc: 0.9884\n",
      "Epoch 18/100\n",
      "60000/60000 [==============================] - 1s 19us/step - loss: 2.1834 - o1_loss: 2.1834 - o2_loss: 0.0099 - o1_acc: 0.9973 - o2_acc: 0.9972 - val_loss: 2.1846 - val_o1_loss: 2.1845 - val_o2_loss: 0.0448 - val_o1_acc: 0.9888 - val_o2_acc: 0.9886\n",
      "Epoch 19/100\n",
      "60000/60000 [==============================] - 1s 19us/step - loss: 2.1833 - o1_loss: 2.1833 - o2_loss: 0.0091 - o1_acc: 0.9972 - o2_acc: 0.9972 - val_loss: 2.1846 - val_o1_loss: 2.1845 - val_o2_loss: 0.0451 - val_o1_acc: 0.9897 - val_o2_acc: 0.9889\n",
      "Epoch 20/100\n",
      "60000/60000 [==============================] - 1s 19us/step - loss: 2.1833 - o1_loss: 2.1832 - o2_loss: 0.0081 - o1_acc: 0.9977 - o2_acc: 0.9978 - val_loss: 2.1845 - val_o1_loss: 2.1844 - val_o2_loss: 0.0439 - val_o1_acc: 0.9889 - val_o2_acc: 0.9883\n",
      "Epoch 21/100\n",
      "60000/60000 [==============================] - 1s 18us/step - loss: 2.1832 - o1_loss: 2.1832 - o2_loss: 0.0074 - o1_acc: 0.9979 - o2_acc: 0.9979 - val_loss: 2.1846 - val_o1_loss: 2.1845 - val_o2_loss: 0.0441 - val_o1_acc: 0.9891 - val_o2_acc: 0.9884\n",
      "Epoch 22/100\n",
      "60000/60000 [==============================] - 1s 18us/step - loss: 2.1832 - o1_loss: 2.1831 - o2_loss: 0.0068 - o1_acc: 0.9979 - o2_acc: 0.9980 - val_loss: 2.1845 - val_o1_loss: 2.1844 - val_o2_loss: 0.0417 - val_o1_acc: 0.9894 - val_o2_acc: 0.9893\n",
      "Epoch 23/100\n",
      "60000/60000 [==============================] - 1s 17us/step - loss: 2.1831 - o1_loss: 2.1831 - o2_loss: 0.0063 - o1_acc: 0.9982 - o2_acc: 0.9982 - val_loss: 2.1844 - val_o1_loss: 2.1843 - val_o2_loss: 0.0419 - val_o1_acc: 0.9891 - val_o2_acc: 0.9888\n",
      "Epoch 24/100\n",
      "60000/60000 [==============================] - 1s 17us/step - loss: 2.1830 - o1_loss: 2.1830 - o2_loss: 0.0059 - o1_acc: 0.9983 - o2_acc: 0.9984 - val_loss: 2.1844 - val_o1_loss: 2.1843 - val_o2_loss: 0.0406 - val_o1_acc: 0.9897 - val_o2_acc: 0.9892\n",
      "Epoch 25/100\n",
      "60000/60000 [==============================] - 1s 17us/step - loss: 2.1830 - o1_loss: 2.1830 - o2_loss: 0.0054 - o1_acc: 0.9984 - o2_acc: 0.9985 - val_loss: 2.1844 - val_o1_loss: 2.1843 - val_o2_loss: 0.0405 - val_o1_acc: 0.9891 - val_o2_acc: 0.9885\n",
      "Epoch 26/100\n",
      "60000/60000 [==============================] - 1s 17us/step - loss: 2.1830 - o1_loss: 2.1829 - o2_loss: 0.0052 - o1_acc: 0.9986 - o2_acc: 0.9988 - val_loss: 2.1844 - val_o1_loss: 2.1843 - val_o2_loss: 0.0404 - val_o1_acc: 0.9896 - val_o2_acc: 0.9894\n",
      "Epoch 27/100\n",
      "60000/60000 [==============================] - 1s 18us/step - loss: 2.1829 - o1_loss: 2.1829 - o2_loss: 0.0050 - o1_acc: 0.9986 - o2_acc: 0.9987 - val_loss: 2.1844 - val_o1_loss: 2.1843 - val_o2_loss: 0.0407 - val_o1_acc: 0.9890 - val_o2_acc: 0.9883\n",
      "Epoch 28/100\n",
      "60000/60000 [==============================] - 1s 18us/step - loss: 2.1829 - o1_loss: 2.1829 - o2_loss: 0.0047 - o1_acc: 0.9986 - o2_acc: 0.9989 - val_loss: 2.1844 - val_o1_loss: 2.1843 - val_o2_loss: 0.0395 - val_o1_acc: 0.9898 - val_o2_acc: 0.9896\n",
      "Epoch 29/100\n",
      "60000/60000 [==============================] - 1s 20us/step - loss: 2.1829 - o1_loss: 2.1829 - o2_loss: 0.0044 - o1_acc: 0.9987 - o2_acc: 0.9990 - val_loss: 2.1843 - val_o1_loss: 2.1842 - val_o2_loss: 0.0403 - val_o1_acc: 0.9899 - val_o2_acc: 0.9896\n",
      "Epoch 30/100\n",
      "60000/60000 [==============================] - 1s 19us/step - loss: 2.1828 - o1_loss: 2.1828 - o2_loss: 0.0041 - o1_acc: 0.9987 - o2_acc: 0.9991 - val_loss: 2.1843 - val_o1_loss: 2.1842 - val_o2_loss: 0.0402 - val_o1_acc: 0.9898 - val_o2_acc: 0.9894\n",
      "Epoch 31/100\n",
      "60000/60000 [==============================] - 1s 18us/step - loss: 2.1828 - o1_loss: 2.1828 - o2_loss: 0.0040 - o1_acc: 0.9988 - o2_acc: 0.9991 - val_loss: 2.1843 - val_o1_loss: 2.1842 - val_o2_loss: 0.0371 - val_o1_acc: 0.9902 - val_o2_acc: 0.9904\n",
      "Epoch 32/100\n",
      "60000/60000 [==============================] - 1s 18us/step - loss: 2.1828 - o1_loss: 2.1827 - o2_loss: 0.0039 - o1_acc: 0.9988 - o2_acc: 0.9991 - val_loss: 2.1843 - val_o1_loss: 2.1842 - val_o2_loss: 0.0391 - val_o1_acc: 0.9899 - val_o2_acc: 0.9894\n",
      "Epoch 33/100\n",
      "60000/60000 [==============================] - 1s 18us/step - loss: 2.1827 - o1_loss: 2.1827 - o2_loss: 0.0037 - o1_acc: 0.9989 - o2_acc: 0.9991 - val_loss: 2.1843 - val_o1_loss: 2.1842 - val_o2_loss: 0.0389 - val_o1_acc: 0.9893 - val_o2_acc: 0.9891\n",
      "Epoch 34/100\n",
      "60000/60000 [==============================] - 1s 18us/step - loss: 2.1827 - o1_loss: 2.1827 - o2_loss: 0.0036 - o1_acc: 0.9987 - o2_acc: 0.9992 - val_loss: 2.1843 - val_o1_loss: 2.1842 - val_o2_loss: 0.0385 - val_o1_acc: 0.9903 - val_o2_acc: 0.9897\n",
      "Epoch 35/100\n",
      "60000/60000 [==============================] - 1s 17us/step - loss: 2.1827 - o1_loss: 2.1827 - o2_loss: 0.0034 - o1_acc: 0.9989 - o2_acc: 0.9991 - val_loss: 2.1842 - val_o1_loss: 2.1841 - val_o2_loss: 0.0379 - val_o1_acc: 0.9899 - val_o2_acc: 0.9893\n",
      "Epoch 36/100\n",
      "60000/60000 [==============================] - 1s 18us/step - loss: 2.1827 - o1_loss: 2.1827 - o2_loss: 0.0033 - o1_acc: 0.9989 - o2_acc: 0.9993 - val_loss: 2.1843 - val_o1_loss: 2.1842 - val_o2_loss: 0.0377 - val_o1_acc: 0.9904 - val_o2_acc: 0.9902\n",
      "Epoch 37/100\n",
      "60000/60000 [==============================] - 1s 19us/step - loss: 2.1827 - o1_loss: 2.1826 - o2_loss: 0.0032 - o1_acc: 0.9989 - o2_acc: 0.9993 - val_loss: 2.1842 - val_o1_loss: 2.1841 - val_o2_loss: 0.0380 - val_o1_acc: 0.9903 - val_o2_acc: 0.9900\n",
      "Epoch 38/100\n",
      "60000/60000 [==============================] - 1s 18us/step - loss: 2.1826 - o1_loss: 2.1826 - o2_loss: 0.0030 - o1_acc: 0.9989 - o2_acc: 0.9993 - val_loss: 2.1842 - val_o1_loss: 2.1841 - val_o2_loss: 0.0359 - val_o1_acc: 0.9904 - val_o2_acc: 0.9902\n",
      "Epoch 39/100\n",
      "60000/60000 [==============================] - 1s 19us/step - loss: 2.1826 - o1_loss: 2.1826 - o2_loss: 0.0030 - o1_acc: 0.9988 - o2_acc: 0.9993 - val_loss: 2.1842 - val_o1_loss: 2.1841 - val_o2_loss: 0.0378 - val_o1_acc: 0.9905 - val_o2_acc: 0.9901\n",
      "Epoch 40/100\n",
      "60000/60000 [==============================] - 1s 19us/step - loss: 2.1826 - o1_loss: 2.1826 - o2_loss: 0.0029 - o1_acc: 0.9989 - o2_acc: 0.9993 - val_loss: 2.1842 - val_o1_loss: 2.1841 - val_o2_loss: 0.0375 - val_o1_acc: 0.9905 - val_o2_acc: 0.9898\n",
      "Epoch 41/100\n",
      "60000/60000 [==============================] - 1s 19us/step - loss: 2.1826 - o1_loss: 2.1826 - o2_loss: 0.0028 - o1_acc: 0.9989 - o2_acc: 0.9994 - val_loss: 2.1842 - val_o1_loss: 2.1841 - val_o2_loss: 0.0364 - val_o1_acc: 0.9908 - val_o2_acc: 0.9906\n",
      "Epoch 42/100\n",
      "60000/60000 [==============================] - 1s 18us/step - loss: 2.1826 - o1_loss: 2.1826 - o2_loss: 0.0028 - o1_acc: 0.9988 - o2_acc: 0.9994 - val_loss: 2.1842 - val_o1_loss: 2.1841 - val_o2_loss: 0.0361 - val_o1_acc: 0.9904 - val_o2_acc: 0.9898\n",
      "Epoch 43/100\n",
      "60000/60000 [==============================] - 1s 18us/step - loss: 2.1826 - o1_loss: 2.1826 - o2_loss: 0.0027 - o1_acc: 0.9989 - o2_acc: 0.9994 - val_loss: 2.1841 - val_o1_loss: 2.1841 - val_o2_loss: 0.0360 - val_o1_acc: 0.9912 - val_o2_acc: 0.9906\n",
      "Epoch 44/100\n",
      "60000/60000 [==============================] - 1s 17us/step - loss: 2.1825 - o1_loss: 2.1825 - o2_loss: 0.0026 - o1_acc: 0.9989 - o2_acc: 0.9995 - val_loss: 2.1842 - val_o1_loss: 2.1841 - val_o2_loss: 0.0363 - val_o1_acc: 0.9906 - val_o2_acc: 0.9900\n",
      "Epoch 45/100\n",
      "60000/60000 [==============================] - 1s 17us/step - loss: 2.1825 - o1_loss: 2.1825 - o2_loss: 0.0025 - o1_acc: 0.9988 - o2_acc: 0.9995 - val_loss: 2.1842 - val_o1_loss: 2.1841 - val_o2_loss: 0.0363 - val_o1_acc: 0.9908 - val_o2_acc: 0.9898\n",
      "Epoch 46/100\n",
      "60000/60000 [==============================] - 1s 17us/step - loss: 2.1825 - o1_loss: 2.1825 - o2_loss: 0.0025 - o1_acc: 0.9988 - o2_acc: 0.9995 - val_loss: 2.1842 - val_o1_loss: 2.1841 - val_o2_loss: 0.0364 - val_o1_acc: 0.9911 - val_o2_acc: 0.9905\n",
      "Epoch 47/100\n",
      "60000/60000 [==============================] - 1s 19us/step - loss: 2.1825 - o1_loss: 2.1825 - o2_loss: 0.0025 - o1_acc: 0.9988 - o2_acc: 0.9995 - val_loss: 2.1842 - val_o1_loss: 2.1841 - val_o2_loss: 0.0362 - val_o1_acc: 0.9910 - val_o2_acc: 0.9902\n",
      "Epoch 48/100\n",
      "60000/60000 [==============================] - 1s 18us/step - loss: 2.1825 - o1_loss: 2.1825 - o2_loss: 0.0024 - o1_acc: 0.9988 - o2_acc: 0.9995 - val_loss: 2.1842 - val_o1_loss: 2.1841 - val_o2_loss: 0.0358 - val_o1_acc: 0.9905 - val_o2_acc: 0.9903\n",
      "Epoch 49/100\n",
      "60000/60000 [==============================] - 1s 18us/step - loss: 2.1825 - o1_loss: 2.1825 - o2_loss: 0.0023 - o1_acc: 0.9988 - o2_acc: 0.9995 - val_loss: 2.1842 - val_o1_loss: 2.1841 - val_o2_loss: 0.0353 - val_o1_acc: 0.9911 - val_o2_acc: 0.9904\n",
      "Epoch 50/100\n",
      "60000/60000 [==============================] - 1s 19us/step - loss: 2.1825 - o1_loss: 2.1825 - o2_loss: 0.0024 - o1_acc: 0.9988 - o2_acc: 0.9996 - val_loss: 2.1842 - val_o1_loss: 2.1841 - val_o2_loss: 0.0367 - val_o1_acc: 0.9907 - val_o2_acc: 0.9904\n",
      "Epoch 51/100\n",
      "60000/60000 [==============================] - 1s 19us/step - loss: 2.1825 - o1_loss: 2.1825 - o2_loss: 0.0024 - o1_acc: 0.9988 - o2_acc: 0.9996 - val_loss: 2.1841 - val_o1_loss: 2.1841 - val_o2_loss: 0.0360 - val_o1_acc: 0.9912 - val_o2_acc: 0.9909\n",
      "Epoch 52/100\n",
      "60000/60000 [==============================] - 1s 19us/step - loss: 2.1824 - o1_loss: 2.1824 - o2_loss: 0.0022 - o1_acc: 0.9988 - o2_acc: 0.9996 - val_loss: 2.1841 - val_o1_loss: 2.1840 - val_o2_loss: 0.0361 - val_o1_acc: 0.9910 - val_o2_acc: 0.9900\n",
      "Epoch 53/100\n",
      "60000/60000 [==============================] - 1s 18us/step - loss: 2.1824 - o1_loss: 2.1824 - o2_loss: 0.0022 - o1_acc: 0.9987 - o2_acc: 0.9996 - val_loss: 2.1841 - val_o1_loss: 2.1841 - val_o2_loss: 0.0360 - val_o1_acc: 0.9914 - val_o2_acc: 0.9907\n",
      "Epoch 54/100\n",
      "60000/60000 [==============================] - 1s 18us/step - loss: 2.1824 - o1_loss: 2.1824 - o2_loss: 0.0022 - o1_acc: 0.9988 - o2_acc: 0.9996 - val_loss: 2.1842 - val_o1_loss: 2.1841 - val_o2_loss: 0.0345 - val_o1_acc: 0.9912 - val_o2_acc: 0.9905\n",
      "Epoch 55/100\n",
      "60000/60000 [==============================] - 1s 18us/step - loss: 2.1824 - o1_loss: 2.1824 - o2_loss: 0.0021 - o1_acc: 0.9987 - o2_acc: 0.9997 - val_loss: 2.1842 - val_o1_loss: 2.1841 - val_o2_loss: 0.0351 - val_o1_acc: 0.9911 - val_o2_acc: 0.9907\n",
      "Epoch 56/100\n",
      "60000/60000 [==============================] - 1s 17us/step - loss: 2.1824 - o1_loss: 2.1824 - o2_loss: 0.0022 - o1_acc: 0.9988 - o2_acc: 0.9995 - val_loss: 2.1841 - val_o1_loss: 2.1840 - val_o2_loss: 0.0355 - val_o1_acc: 0.9908 - val_o2_acc: 0.9901\n",
      "Epoch 57/100\n",
      "60000/60000 [==============================] - 1s 17us/step - loss: 2.1824 - o1_loss: 2.1824 - o2_loss: 0.0021 - o1_acc: 0.9987 - o2_acc: 0.9996 - val_loss: 2.1841 - val_o1_loss: 2.1840 - val_o2_loss: 0.0357 - val_o1_acc: 0.9911 - val_o2_acc: 0.9900\n",
      "Epoch 58/100\n",
      "60000/60000 [==============================] - 1s 17us/step - loss: 2.1824 - o1_loss: 2.1824 - o2_loss: 0.0021 - o1_acc: 0.9988 - o2_acc: 0.9996 - val_loss: 2.1841 - val_o1_loss: 2.1841 - val_o2_loss: 0.0346 - val_o1_acc: 0.9912 - val_o2_acc: 0.9904\n",
      "Epoch 59/100\n",
      "60000/60000 [==============================] - 1s 17us/step - loss: 2.1824 - o1_loss: 2.1824 - o2_loss: 0.0021 - o1_acc: 0.9988 - o2_acc: 0.9996 - val_loss: 2.1841 - val_o1_loss: 2.1840 - val_o2_loss: 0.0358 - val_o1_acc: 0.9909 - val_o2_acc: 0.9900\n",
      "Epoch 60/100\n",
      "60000/60000 [==============================] - 1s 18us/step - loss: 2.1824 - o1_loss: 2.1824 - o2_loss: 0.0022 - o1_acc: 0.9987 - o2_acc: 0.9996 - val_loss: 2.1841 - val_o1_loss: 2.1840 - val_o2_loss: 0.0352 - val_o1_acc: 0.9911 - val_o2_acc: 0.9906\n",
      "Epoch 61/100\n",
      "60000/60000 [==============================] - 1s 19us/step - loss: 2.1824 - o1_loss: 2.1824 - o2_loss: 0.0020 - o1_acc: 0.9988 - o2_acc: 0.9996 - val_loss: 2.1841 - val_o1_loss: 2.1841 - val_o2_loss: 0.0354 - val_o1_acc: 0.9911 - val_o2_acc: 0.9903\n",
      "Epoch 62/100\n",
      "60000/60000 [==============================] - 1s 19us/step - loss: 2.1824 - o1_loss: 2.1824 - o2_loss: 0.0020 - o1_acc: 0.9988 - o2_acc: 0.9995 - val_loss: 2.1841 - val_o1_loss: 2.1840 - val_o2_loss: 0.0355 - val_o1_acc: 0.9913 - val_o2_acc: 0.9902\n",
      "Epoch 63/100\n",
      "60000/60000 [==============================] - 1s 19us/step - loss: 2.1824 - o1_loss: 2.1823 - o2_loss: 0.0020 - o1_acc: 0.9987 - o2_acc: 0.9997 - val_loss: 2.1841 - val_o1_loss: 2.1840 - val_o2_loss: 0.0347 - val_o1_acc: 0.9918 - val_o2_acc: 0.9909\n",
      "Epoch 64/100\n",
      "60000/60000 [==============================] - 1s 18us/step - loss: 2.1823 - o1_loss: 2.1823 - o2_loss: 0.0020 - o1_acc: 0.9987 - o2_acc: 0.9997 - val_loss: 2.1841 - val_o1_loss: 2.1840 - val_o2_loss: 0.0348 - val_o1_acc: 0.9915 - val_o2_acc: 0.9907\n",
      "Epoch 65/100\n",
      "60000/60000 [==============================] - 1s 18us/step - loss: 2.1823 - o1_loss: 2.1823 - o2_loss: 0.0019 - o1_acc: 0.9988 - o2_acc: 0.9996 - val_loss: 2.1841 - val_o1_loss: 2.1840 - val_o2_loss: 0.0354 - val_o1_acc: 0.9911 - val_o2_acc: 0.9905\n",
      "Epoch 66/100\n",
      "60000/60000 [==============================] - 1s 17us/step - loss: 2.1823 - o1_loss: 2.1823 - o2_loss: 0.0019 - o1_acc: 0.9988 - o2_acc: 0.9996 - val_loss: 2.1841 - val_o1_loss: 2.1840 - val_o2_loss: 0.0350 - val_o1_acc: 0.9916 - val_o2_acc: 0.9907\n",
      "Epoch 67/100\n",
      "60000/60000 [==============================] - 1s 17us/step - loss: 2.1823 - o1_loss: 2.1823 - o2_loss: 0.0020 - o1_acc: 0.9987 - o2_acc: 0.9997 - val_loss: 2.1841 - val_o1_loss: 2.1841 - val_o2_loss: 0.0344 - val_o1_acc: 0.9918 - val_o2_acc: 0.9909\n",
      "Epoch 68/100\n",
      "60000/60000 [==============================] - 1s 17us/step - loss: 2.1823 - o1_loss: 2.1823 - o2_loss: 0.0019 - o1_acc: 0.9988 - o2_acc: 0.9996 - val_loss: 2.1841 - val_o1_loss: 2.1840 - val_o2_loss: 0.0350 - val_o1_acc: 0.9915 - val_o2_acc: 0.9904\n",
      "Epoch 69/100\n",
      "60000/60000 [==============================] - 1s 18us/step - loss: 2.1823 - o1_loss: 2.1823 - o2_loss: 0.0020 - o1_acc: 0.9987 - o2_acc: 0.9997 - val_loss: 2.1841 - val_o1_loss: 2.1840 - val_o2_loss: 0.0346 - val_o1_acc: 0.9911 - val_o2_acc: 0.9903\n",
      "Epoch 70/100\n",
      "60000/60000 [==============================] - 1s 18us/step - loss: 2.1823 - o1_loss: 2.1823 - o2_loss: 0.0019 - o1_acc: 0.9987 - o2_acc: 0.9997 - val_loss: 2.1841 - val_o1_loss: 2.1840 - val_o2_loss: 0.0351 - val_o1_acc: 0.9916 - val_o2_acc: 0.9904\n",
      "Epoch 71/100\n",
      "60000/60000 [==============================] - 1s 19us/step - loss: 2.1823 - o1_loss: 2.1823 - o2_loss: 0.0019 - o1_acc: 0.9987 - o2_acc: 0.9997 - val_loss: 2.1841 - val_o1_loss: 2.1840 - val_o2_loss: 0.0337 - val_o1_acc: 0.9916 - val_o2_acc: 0.9910\n",
      "Epoch 72/100\n",
      "60000/60000 [==============================] - 1s 19us/step - loss: 2.1823 - o1_loss: 2.1823 - o2_loss: 0.0018 - o1_acc: 0.9987 - o2_acc: 0.9997 - val_loss: 2.1841 - val_o1_loss: 2.1840 - val_o2_loss: 0.0358 - val_o1_acc: 0.9914 - val_o2_acc: 0.9904\n",
      "Epoch 73/100\n",
      "60000/60000 [==============================] - 1s 19us/step - loss: 2.1823 - o1_loss: 2.1823 - o2_loss: 0.0018 - o1_acc: 0.9987 - o2_acc: 0.9997 - val_loss: 2.1841 - val_o1_loss: 2.1840 - val_o2_loss: 0.0344 - val_o1_acc: 0.9915 - val_o2_acc: 0.9911\n",
      "Epoch 74/100\n",
      "60000/60000 [==============================] - 1s 19us/step - loss: 2.1823 - o1_loss: 2.1823 - o2_loss: 0.0018 - o1_acc: 0.9987 - o2_acc: 0.9997 - val_loss: 2.1841 - val_o1_loss: 2.1840 - val_o2_loss: 0.0345 - val_o1_acc: 0.9913 - val_o2_acc: 0.9905\n",
      "Epoch 75/100\n",
      "60000/60000 [==============================] - 1s 19us/step - loss: 2.1823 - o1_loss: 2.1823 - o2_loss: 0.0018 - o1_acc: 0.9987 - o2_acc: 0.9997 - val_loss: 2.1841 - val_o1_loss: 2.1840 - val_o2_loss: 0.0344 - val_o1_acc: 0.9914 - val_o2_acc: 0.9908\n",
      "Epoch 76/100\n",
      "60000/60000 [==============================] - 1s 19us/step - loss: 2.1823 - o1_loss: 2.1823 - o2_loss: 0.0018 - o1_acc: 0.9987 - o2_acc: 0.9997 - val_loss: 2.1841 - val_o1_loss: 2.1840 - val_o2_loss: 0.0343 - val_o1_acc: 0.9913 - val_o2_acc: 0.9903\n",
      "Epoch 77/100\n",
      "60000/60000 [==============================] - 1s 20us/step - loss: 2.1823 - o1_loss: 2.1823 - o2_loss: 0.0018 - o1_acc: 0.9987 - o2_acc: 0.9997 - val_loss: 2.1841 - val_o1_loss: 2.1840 - val_o2_loss: 0.0346 - val_o1_acc: 0.9912 - val_o2_acc: 0.9906\n",
      "Epoch 78/100\n",
      "60000/60000 [==============================] - 1s 20us/step - loss: 2.1823 - o1_loss: 2.1823 - o2_loss: 0.0018 - o1_acc: 0.9988 - o2_acc: 0.9996 - val_loss: 2.1841 - val_o1_loss: 2.1840 - val_o2_loss: 0.0347 - val_o1_acc: 0.9913 - val_o2_acc: 0.9903\n",
      "Epoch 79/100\n",
      "60000/60000 [==============================] - 1s 19us/step - loss: 2.1823 - o1_loss: 2.1823 - o2_loss: 0.0018 - o1_acc: 0.9987 - o2_acc: 0.9997 - val_loss: 2.1841 - val_o1_loss: 2.1840 - val_o2_loss: 0.0348 - val_o1_acc: 0.9917 - val_o2_acc: 0.9909\n",
      "Epoch 80/100\n",
      "60000/60000 [==============================] - 1s 20us/step - loss: 2.1823 - o1_loss: 2.1823 - o2_loss: 0.0018 - o1_acc: 0.9987 - o2_acc: 0.9997 - val_loss: 2.1841 - val_o1_loss: 2.1840 - val_o2_loss: 0.0349 - val_o1_acc: 0.9910 - val_o2_acc: 0.9902\n",
      "Epoch 81/100\n",
      "60000/60000 [==============================] - 1s 19us/step - loss: 2.1823 - o1_loss: 2.1823 - o2_loss: 0.0017 - o1_acc: 0.9987 - o2_acc: 0.9997 - val_loss: 2.1841 - val_o1_loss: 2.1840 - val_o2_loss: 0.0334 - val_o1_acc: 0.9915 - val_o2_acc: 0.9906\n",
      "Epoch 82/100\n",
      "60000/60000 [==============================] - 1s 20us/step - loss: 2.1823 - o1_loss: 2.1823 - o2_loss: 0.0018 - o1_acc: 0.9987 - o2_acc: 0.9997 - val_loss: 2.1841 - val_o1_loss: 2.1840 - val_o2_loss: 0.0345 - val_o1_acc: 0.9912 - val_o2_acc: 0.9903\n",
      "Epoch 83/100\n",
      "60000/60000 [==============================] - 1s 20us/step - loss: 2.1822 - o1_loss: 2.1822 - o2_loss: 0.0017 - o1_acc: 0.9987 - o2_acc: 0.9997 - val_loss: 2.1841 - val_o1_loss: 2.1840 - val_o2_loss: 0.0343 - val_o1_acc: 0.9917 - val_o2_acc: 0.9907\n",
      "Epoch 84/100\n",
      "60000/60000 [==============================] - 1s 20us/step - loss: 2.1822 - o1_loss: 2.1822 - o2_loss: 0.0018 - o1_acc: 0.9987 - o2_acc: 0.9997 - val_loss: 2.1841 - val_o1_loss: 2.1840 - val_o2_loss: 0.0343 - val_o1_acc: 0.9912 - val_o2_acc: 0.9906\n",
      "Epoch 85/100\n",
      "60000/60000 [==============================] - 1s 19us/step - loss: 2.1822 - o1_loss: 2.1822 - o2_loss: 0.0017 - o1_acc: 0.9987 - o2_acc: 0.9997 - val_loss: 2.1841 - val_o1_loss: 2.1840 - val_o2_loss: 0.0341 - val_o1_acc: 0.9914 - val_o2_acc: 0.9906\n",
      "Epoch 86/100\n",
      "60000/60000 [==============================] - 1s 19us/step - loss: 2.1822 - o1_loss: 2.1822 - o2_loss: 0.0017 - o1_acc: 0.9987 - o2_acc: 0.9997 - val_loss: 2.1841 - val_o1_loss: 2.1840 - val_o2_loss: 0.0346 - val_o1_acc: 0.9911 - val_o2_acc: 0.9905\n",
      "Epoch 87/100\n",
      "60000/60000 [==============================] - 1s 19us/step - loss: 2.1823 - o1_loss: 2.1822 - o2_loss: 0.0017 - o1_acc: 0.9986 - o2_acc: 0.9998 - val_loss: 2.1841 - val_o1_loss: 2.1840 - val_o2_loss: 0.0336 - val_o1_acc: 0.9913 - val_o2_acc: 0.9907\n",
      "Epoch 88/100\n",
      "60000/60000 [==============================] - 1s 19us/step - loss: 2.1822 - o1_loss: 2.1822 - o2_loss: 0.0017 - o1_acc: 0.9987 - o2_acc: 0.9997 - val_loss: 2.1841 - val_o1_loss: 2.1840 - val_o2_loss: 0.0337 - val_o1_acc: 0.9913 - val_o2_acc: 0.9903\n",
      "Epoch 89/100\n",
      "60000/60000 [==============================] - 1s 19us/step - loss: 2.1822 - o1_loss: 2.1822 - o2_loss: 0.0017 - o1_acc: 0.9986 - o2_acc: 0.9998 - val_loss: 2.1841 - val_o1_loss: 2.1840 - val_o2_loss: 0.0341 - val_o1_acc: 0.9915 - val_o2_acc: 0.9907\n",
      "Epoch 90/100\n",
      "60000/60000 [==============================] - 1s 19us/step - loss: 2.1822 - o1_loss: 2.1822 - o2_loss: 0.0017 - o1_acc: 0.9987 - o2_acc: 0.9997 - val_loss: 2.1841 - val_o1_loss: 2.1840 - val_o2_loss: 0.0346 - val_o1_acc: 0.9915 - val_o2_acc: 0.9905\n",
      "Epoch 91/100\n",
      "60000/60000 [==============================] - 1s 19us/step - loss: 2.1822 - o1_loss: 2.1822 - o2_loss: 0.0017 - o1_acc: 0.9987 - o2_acc: 0.9997 - val_loss: 2.1841 - val_o1_loss: 2.1840 - val_o2_loss: 0.0339 - val_o1_acc: 0.9916 - val_o2_acc: 0.9910\n",
      "Epoch 92/100\n",
      "60000/60000 [==============================] - 1s 19us/step - loss: 2.1822 - o1_loss: 2.1822 - o2_loss: 0.0016 - o1_acc: 0.9986 - o2_acc: 0.9998 - val_loss: 2.1841 - val_o1_loss: 2.1840 - val_o2_loss: 0.0333 - val_o1_acc: 0.9914 - val_o2_acc: 0.9906\n",
      "Epoch 93/100\n",
      "60000/60000 [==============================] - 1s 20us/step - loss: 2.1822 - o1_loss: 2.1822 - o2_loss: 0.0017 - o1_acc: 0.9987 - o2_acc: 0.9997 - val_loss: 2.1841 - val_o1_loss: 2.1840 - val_o2_loss: 0.0331 - val_o1_acc: 0.9917 - val_o2_acc: 0.9911\n",
      "Epoch 94/100\n",
      "60000/60000 [==============================] - 1s 20us/step - loss: 2.1822 - o1_loss: 2.1822 - o2_loss: 0.0016 - o1_acc: 0.9986 - o2_acc: 0.9998 - val_loss: 2.1841 - val_o1_loss: 2.1840 - val_o2_loss: 0.0335 - val_o1_acc: 0.9915 - val_o2_acc: 0.9907\n",
      "Epoch 95/100\n",
      "60000/60000 [==============================] - 1s 20us/step - loss: 2.1822 - o1_loss: 2.1822 - o2_loss: 0.0017 - o1_acc: 0.9987 - o2_acc: 0.9997 - val_loss: 2.1841 - val_o1_loss: 2.1840 - val_o2_loss: 0.0343 - val_o1_acc: 0.9916 - val_o2_acc: 0.9906\n",
      "Epoch 96/100\n",
      "60000/60000 [==============================] - 1s 19us/step - loss: 2.1822 - o1_loss: 2.1822 - o2_loss: 0.0017 - o1_acc: 0.9986 - o2_acc: 0.9998 - val_loss: 2.1841 - val_o1_loss: 2.1840 - val_o2_loss: 0.0339 - val_o1_acc: 0.9913 - val_o2_acc: 0.9903\n",
      "Epoch 97/100\n",
      "60000/60000 [==============================] - 1s 19us/step - loss: 2.1822 - o1_loss: 2.1822 - o2_loss: 0.0016 - o1_acc: 0.9987 - o2_acc: 0.9997 - val_loss: 2.1841 - val_o1_loss: 2.1840 - val_o2_loss: 0.0342 - val_o1_acc: 0.9918 - val_o2_acc: 0.9910\n",
      "Epoch 98/100\n",
      "60000/60000 [==============================] - 1s 19us/step - loss: 2.1822 - o1_loss: 2.1822 - o2_loss: 0.0016 - o1_acc: 0.9987 - o2_acc: 0.9997 - val_loss: 2.1841 - val_o1_loss: 2.1840 - val_o2_loss: 0.0335 - val_o1_acc: 0.9920 - val_o2_acc: 0.9913\n",
      "Epoch 99/100\n",
      "60000/60000 [==============================] - 1s 19us/step - loss: 2.1822 - o1_loss: 2.1822 - o2_loss: 0.0017 - o1_acc: 0.9986 - o2_acc: 0.9998 - val_loss: 2.1841 - val_o1_loss: 2.1840 - val_o2_loss: 0.0340 - val_o1_acc: 0.9917 - val_o2_acc: 0.9911\n",
      "Epoch 100/100\n",
      "60000/60000 [==============================] - 1s 20us/step - loss: 2.1822 - o1_loss: 2.1822 - o2_loss: 0.0016 - o1_acc: 0.9986 - o2_acc: 0.9998 - val_loss: 2.1841 - val_o1_loss: 2.1840 - val_o2_loss: 0.0339 - val_o1_acc: 0.9919 - val_o2_acc: 0.9909\n",
      "Test loss: 2.1841186248779296\n",
      "Test accuracy: 0.9909\n"
     ]
    }
   ],
   "source": [
    "checkpointer = ModelCheckpoint(filepath='saved_models/weights.best.student_.hdf5', \n",
    "                               verbose=0, save_best_only=True, monitor='val_loss')\n",
    "\n",
    "hist['student_'] = model['student_'].fit(x_train, [kd_gt['t_train'], y_train],\n",
    "          batch_size=batch_size, epochs=100, verbose=1,\n",
    "          validation_data=(x_test, [kd_gt['t_test'], y_test]), callbacks=[checkpointer])\n",
    "score['student_'] = model['student_'].evaluate(x_test, [kd_gt['t_test'], y_test], verbose=0)\n",
    "print('Test loss:', score['student_'][0])\n",
    "print('Test accuracy:', score['student_'][-1])"
   ]
  },
  {
   "cell_type": "code",
   "execution_count": 85,
   "metadata": {},
   "outputs": [
    {
     "name": "stdout",
     "output_type": "stream",
     "text": [
      "Test loss: 2.184079764175415\n",
      "Test accuracy: 0.991\n",
      "Test errors: 90\n"
     ]
    }
   ],
   "source": [
    "model['student_'].load_weights('saved_models/weights.best.student_.hdf5')\n",
    "score['student_'] = model['student_'].evaluate(x_test, [kd_gt['t_test'], y_test], verbose=0)\n",
    "n_errors = np.int((1-score['student_'][-1])*len(y_test))\n",
    "print('Test loss:', score['student_'][0])\n",
    "print('Test accuracy:', score['student_'][-1])\n",
    "print('Test errors:', n_errors)"
   ]
  },
  {
   "cell_type": "code",
   "execution_count": 153,
   "metadata": {},
   "outputs": [],
   "source": [
    "''' SOFT TEACHER IN CLASS '''\n",
    "reload(models)\n",
    "from keras import callbacks\n",
    "\n",
    "base_lr = 3e-3\n",
    "decay = 0.99\n",
    "optim = keras.optimizers.Adam(lr=base_lr)\n",
    "\n",
    "model['student_st'] = models.StudentModel(input_shape, num_classes, T=1, in_class=True, l2=0, b=0)\n",
    "model['student_st'].compile(loss=['categorical_crossentropy', 'categorical_crossentropy'],\n",
    "                          loss_weights=[0.05, 1],\n",
    "                          optimizer='Adam',\n",
    "                          metrics=['acc'])"
   ]
  },
  {
   "cell_type": "code",
   "execution_count": 154,
   "metadata": {},
   "outputs": [
    {
     "name": "stdout",
     "output_type": "stream",
     "text": [
      "Train on 60000 samples, validate on 10000 samples\n",
      "Epoch 1/400\n",
      "60000/60000 [==============================] - 5s 83us/step - loss: 0.5644 - o1_loss: 3.3703 - o2_loss: 0.3959 - o1_acc: 0.8943 - o2_acc: 0.8942 - val_loss: 0.3446 - val_o1_loss: 3.2708 - val_o2_loss: 0.1810 - val_o1_acc: 0.9532 - val_o2_acc: 0.9530\n",
      "Epoch 2/400\n",
      "60000/60000 [==============================] - 1s 19us/step - loss: 0.3058 - o1_loss: 3.1802 - o2_loss: 0.1468 - o1_acc: 0.9659 - o2_acc: 0.9659 - val_loss: 0.2828 - val_o1_loss: 3.1394 - val_o2_loss: 0.1259 - val_o1_acc: 0.9723 - val_o2_acc: 0.9726\n",
      "Epoch 3/400\n",
      "60000/60000 [==============================] - 1s 19us/step - loss: 0.2601 - o1_loss: 3.1465 - o2_loss: 0.1027 - o1_acc: 0.9799 - o2_acc: 0.9800 - val_loss: 0.2616 - val_o1_loss: 3.1469 - val_o2_loss: 0.1042 - val_o1_acc: 0.9774 - val_o2_acc: 0.9776\n",
      "Epoch 4/400\n",
      "60000/60000 [==============================] - 1s 19us/step - loss: 0.2367 - o1_loss: 3.1234 - o2_loss: 0.0805 - o1_acc: 0.9872 - o2_acc: 0.9874 - val_loss: 0.2502 - val_o1_loss: 3.1115 - val_o2_loss: 0.0946 - val_o1_acc: 0.9799 - val_o2_acc: 0.9806\n",
      "Epoch 5/400\n",
      "60000/60000 [==============================] - 1s 19us/step - loss: 0.2217 - o1_loss: 3.0964 - o2_loss: 0.0668 - o1_acc: 0.9915 - o2_acc: 0.9918 - val_loss: 0.2421 - val_o1_loss: 3.1122 - val_o2_loss: 0.0865 - val_o1_acc: 0.9826 - val_o2_acc: 0.9828\n",
      "Epoch 6/400\n",
      "60000/60000 [==============================] - 1s 20us/step - loss: 0.2103 - o1_loss: 3.0731 - o2_loss: 0.0567 - o1_acc: 0.9941 - o2_acc: 0.9950 - val_loss: 0.2338 - val_o1_loss: 3.0607 - val_o2_loss: 0.0808 - val_o1_acc: 0.9846 - val_o2_acc: 0.9854\n",
      "Epoch 7/400\n",
      "60000/60000 [==============================] - 1s 19us/step - loss: 0.2024 - o1_loss: 3.0505 - o2_loss: 0.0498 - o1_acc: 0.9958 - o2_acc: 0.9970 - val_loss: 0.2317 - val_o1_loss: 3.0465 - val_o2_loss: 0.0794 - val_o1_acc: 0.9839 - val_o2_acc: 0.9841\n",
      "Epoch 8/400\n",
      "60000/60000 [==============================] - 1s 20us/step - loss: 0.1964 - o1_loss: 3.0332 - o2_loss: 0.0448 - o1_acc: 0.9969 - o2_acc: 0.9983 - val_loss: 0.2284 - val_o1_loss: 3.0616 - val_o2_loss: 0.0754 - val_o1_acc: 0.9853 - val_o2_acc: 0.9856\n",
      "Epoch 9/400\n",
      "60000/60000 [==============================] - 1s 20us/step - loss: 0.1923 - o1_loss: 3.0196 - o2_loss: 0.0413 - o1_acc: 0.9974 - o2_acc: 0.9990 - val_loss: 0.2258 - val_o1_loss: 3.0112 - val_o2_loss: 0.0752 - val_o1_acc: 0.9858 - val_o2_acc: 0.9859\n",
      "Epoch 10/400\n",
      "60000/60000 [==============================] - 1s 20us/step - loss: 0.1889 - o1_loss: 3.0047 - o2_loss: 0.0386 - o1_acc: 0.9975 - o2_acc: 0.9995 - val_loss: 0.2239 - val_o1_loss: 2.9890 - val_o2_loss: 0.0745 - val_o1_acc: 0.9862 - val_o2_acc: 0.9862\n",
      "Epoch 11/400\n",
      "60000/60000 [==============================] - 1s 19us/step - loss: 0.1860 - o1_loss: 2.9854 - o2_loss: 0.0367 - o1_acc: 0.9976 - o2_acc: 0.9997 - val_loss: 0.2215 - val_o1_loss: 2.9356 - val_o2_loss: 0.0747 - val_o1_acc: 0.9866 - val_o2_acc: 0.9868\n",
      "Epoch 12/400\n",
      "60000/60000 [==============================] - 1s 20us/step - loss: 0.1838 - o1_loss: 2.9742 - o2_loss: 0.0351 - o1_acc: 0.9975 - o2_acc: 0.9999 - val_loss: 0.2215 - val_o1_loss: 2.9392 - val_o2_loss: 0.0746 - val_o1_acc: 0.9857 - val_o2_acc: 0.9861\n",
      "Epoch 13/400\n",
      "60000/60000 [==============================] - 1s 19us/step - loss: 0.1820 - o1_loss: 2.9627 - o2_loss: 0.0339 - o1_acc: 0.9976 - o2_acc: 0.9999 - val_loss: 0.2191 - val_o1_loss: 2.9224 - val_o2_loss: 0.0730 - val_o1_acc: 0.9868 - val_o2_acc: 0.9871\n",
      "Epoch 14/400\n",
      "60000/60000 [==============================] - 1s 19us/step - loss: 0.1802 - o1_loss: 2.9482 - o2_loss: 0.0328 - o1_acc: 0.9976 - o2_acc: 1.0000 - val_loss: 0.2181 - val_o1_loss: 2.9226 - val_o2_loss: 0.0719 - val_o1_acc: 0.9869 - val_o2_acc: 0.9874\n",
      "Epoch 15/400\n",
      "60000/60000 [==============================] - 1s 19us/step - loss: 0.1791 - o1_loss: 2.9393 - o2_loss: 0.0321 - o1_acc: 0.9976 - o2_acc: 1.0000 - val_loss: 0.2180 - val_o1_loss: 2.9239 - val_o2_loss: 0.0718 - val_o1_acc: 0.9861 - val_o2_acc: 0.9869\n",
      "Epoch 16/400\n",
      "60000/60000 [==============================] - 1s 19us/step - loss: 0.1781 - o1_loss: 2.9320 - o2_loss: 0.0315 - o1_acc: 0.9976 - o2_acc: 1.0000 - val_loss: 0.2168 - val_o1_loss: 2.9178 - val_o2_loss: 0.0709 - val_o1_acc: 0.9866 - val_o2_acc: 0.9872\n",
      "Epoch 17/400\n",
      "60000/60000 [==============================] - 1s 20us/step - loss: 0.1771 - o1_loss: 2.9222 - o2_loss: 0.0310 - o1_acc: 0.9976 - o2_acc: 1.0000 - val_loss: 0.2165 - val_o1_loss: 2.8943 - val_o2_loss: 0.0718 - val_o1_acc: 0.9865 - val_o2_acc: 0.9866\n",
      "Epoch 18/400\n",
      "60000/60000 [==============================] - 1s 21us/step - loss: 0.1763 - o1_loss: 2.9165 - o2_loss: 0.0305 - o1_acc: 0.9976 - o2_acc: 1.0000 - val_loss: 0.2151 - val_o1_loss: 2.9040 - val_o2_loss: 0.0699 - val_o1_acc: 0.9866 - val_o2_acc: 0.9870\n",
      "Epoch 19/400\n",
      "60000/60000 [==============================] - 1s 20us/step - loss: 0.1756 - o1_loss: 2.9103 - o2_loss: 0.0301 - o1_acc: 0.9976 - o2_acc: 1.0000 - val_loss: 0.2149 - val_o1_loss: 2.8828 - val_o2_loss: 0.0708 - val_o1_acc: 0.9861 - val_o2_acc: 0.9865\n",
      "Epoch 20/400\n",
      "60000/60000 [==============================] - 1s 21us/step - loss: 0.1750 - o1_loss: 2.9049 - o2_loss: 0.0298 - o1_acc: 0.9976 - o2_acc: 1.0000 - val_loss: 0.2144 - val_o1_loss: 2.8562 - val_o2_loss: 0.0716 - val_o1_acc: 0.9869 - val_o2_acc: 0.9871\n",
      "Epoch 21/400\n",
      "60000/60000 [==============================] - 1s 20us/step - loss: 0.1744 - o1_loss: 2.8989 - o2_loss: 0.0294 - o1_acc: 0.9976 - o2_acc: 1.0000 - val_loss: 0.2140 - val_o1_loss: 2.8571 - val_o2_loss: 0.0712 - val_o1_acc: 0.9870 - val_o2_acc: 0.9874\n",
      "Epoch 22/400\n",
      "60000/60000 [==============================] - 1s 19us/step - loss: 0.1740 - o1_loss: 2.8947 - o2_loss: 0.0292 - o1_acc: 0.9976 - o2_acc: 1.0000 - val_loss: 0.2145 - val_o1_loss: 2.8631 - val_o2_loss: 0.0713 - val_o1_acc: 0.9869 - val_o2_acc: 0.9873\n",
      "Epoch 23/400\n",
      "60000/60000 [==============================] - 1s 20us/step - loss: 0.1735 - o1_loss: 2.8907 - o2_loss: 0.0290 - o1_acc: 0.9976 - o2_acc: 1.0000 - val_loss: 0.2126 - val_o1_loss: 2.8630 - val_o2_loss: 0.0694 - val_o1_acc: 0.9883 - val_o2_acc: 0.9884\n",
      "Epoch 24/400\n",
      "60000/60000 [==============================] - 1s 19us/step - loss: 0.1731 - o1_loss: 2.8869 - o2_loss: 0.0288 - o1_acc: 0.9976 - o2_acc: 1.0000 - val_loss: 0.2128 - val_o1_loss: 2.8563 - val_o2_loss: 0.0700 - val_o1_acc: 0.9880 - val_o2_acc: 0.9882\n",
      "Epoch 25/400\n",
      "60000/60000 [==============================] - 1s 19us/step - loss: 0.1728 - o1_loss: 2.8842 - o2_loss: 0.0286 - o1_acc: 0.9976 - o2_acc: 1.0000 - val_loss: 0.2126 - val_o1_loss: 2.8404 - val_o2_loss: 0.0706 - val_o1_acc: 0.9876 - val_o2_acc: 0.9880\n",
      "Epoch 26/400\n",
      "60000/60000 [==============================] - 1s 19us/step - loss: 0.1725 - o1_loss: 2.8802 - o2_loss: 0.0284 - o1_acc: 0.9976 - o2_acc: 1.0000 - val_loss: 0.2119 - val_o1_loss: 2.8258 - val_o2_loss: 0.0706 - val_o1_acc: 0.9875 - val_o2_acc: 0.9877\n",
      "Epoch 27/400\n",
      "60000/60000 [==============================] - 1s 19us/step - loss: 0.1721 - o1_loss: 2.8765 - o2_loss: 0.0283 - o1_acc: 0.9976 - o2_acc: 1.0000 - val_loss: 0.2125 - val_o1_loss: 2.8305 - val_o2_loss: 0.0710 - val_o1_acc: 0.9875 - val_o2_acc: 0.9878\n",
      "Epoch 28/400\n",
      "60000/60000 [==============================] - 1s 21us/step - loss: 0.1719 - o1_loss: 2.8751 - o2_loss: 0.0281 - o1_acc: 0.9976 - o2_acc: 1.0000 - val_loss: 0.2121 - val_o1_loss: 2.8090 - val_o2_loss: 0.0716 - val_o1_acc: 0.9871 - val_o2_acc: 0.9877\n",
      "Epoch 29/400\n",
      "60000/60000 [==============================] - 1s 21us/step - loss: 0.1716 - o1_loss: 2.8712 - o2_loss: 0.0280 - o1_acc: 0.9976 - o2_acc: 1.0000 - val_loss: 0.2115 - val_o1_loss: 2.8171 - val_o2_loss: 0.0707 - val_o1_acc: 0.9872 - val_o2_acc: 0.9881\n",
      "Epoch 30/400\n",
      "60000/60000 [==============================] - 1s 20us/step - loss: 0.1714 - o1_loss: 2.8686 - o2_loss: 0.0279 - o1_acc: 0.9976 - o2_acc: 1.0000 - val_loss: 0.2117 - val_o1_loss: 2.8166 - val_o2_loss: 0.0709 - val_o1_acc: 0.9870 - val_o2_acc: 0.9875\n",
      "Epoch 31/400\n",
      "60000/60000 [==============================] - 1s 20us/step - loss: 0.1712 - o1_loss: 2.8680 - o2_loss: 0.0278 - o1_acc: 0.9976 - o2_acc: 1.0000 - val_loss: 0.2113 - val_o1_loss: 2.8121 - val_o2_loss: 0.0707 - val_o1_acc: 0.9871 - val_o2_acc: 0.9876\n",
      "Epoch 32/400\n",
      "60000/60000 [==============================] - 1s 19us/step - loss: 0.1710 - o1_loss: 2.8649 - o2_loss: 0.0277 - o1_acc: 0.9976 - o2_acc: 1.0000 - val_loss: 0.2112 - val_o1_loss: 2.8280 - val_o2_loss: 0.0698 - val_o1_acc: 0.9869 - val_o2_acc: 0.9874\n",
      "Epoch 33/400\n",
      "60000/60000 [==============================] - 1s 19us/step - loss: 0.1709 - o1_loss: 2.8647 - o2_loss: 0.0276 - o1_acc: 0.9976 - o2_acc: 1.0000 - val_loss: 0.2111 - val_o1_loss: 2.8042 - val_o2_loss: 0.0709 - val_o1_acc: 0.9872 - val_o2_acc: 0.9878\n",
      "Epoch 34/400\n",
      "60000/60000 [==============================] - 1s 19us/step - loss: 0.1707 - o1_loss: 2.8621 - o2_loss: 0.0276 - o1_acc: 0.9976 - o2_acc: 1.0000 - val_loss: 0.2108 - val_o1_loss: 2.8116 - val_o2_loss: 0.0702 - val_o1_acc: 0.9870 - val_o2_acc: 0.9878\n",
      "Epoch 35/400\n",
      "60000/60000 [==============================] - 1s 20us/step - loss: 0.1705 - o1_loss: 2.8610 - o2_loss: 0.0275 - o1_acc: 0.9976 - o2_acc: 1.0000 - val_loss: 0.2107 - val_o1_loss: 2.7947 - val_o2_loss: 0.0709 - val_o1_acc: 0.9875 - val_o2_acc: 0.9883\n",
      "Epoch 36/400\n",
      "60000/60000 [==============================] - 1s 19us/step - loss: 0.1704 - o1_loss: 2.8592 - o2_loss: 0.0274 - o1_acc: 0.9976 - o2_acc: 1.0000 - val_loss: 0.2104 - val_o1_loss: 2.8120 - val_o2_loss: 0.0698 - val_o1_acc: 0.9870 - val_o2_acc: 0.9876\n",
      "Epoch 37/400\n",
      "60000/60000 [==============================] - 1s 20us/step - loss: 0.1703 - o1_loss: 2.8584 - o2_loss: 0.0274 - o1_acc: 0.9976 - o2_acc: 1.0000 - val_loss: 0.2102 - val_o1_loss: 2.7924 - val_o2_loss: 0.0705 - val_o1_acc: 0.9874 - val_o2_acc: 0.9880\n",
      "Epoch 38/400\n",
      "60000/60000 [==============================] - 1s 19us/step - loss: 0.1702 - o1_loss: 2.8569 - o2_loss: 0.0273 - o1_acc: 0.9976 - o2_acc: 1.0000 - val_loss: 0.2099 - val_o1_loss: 2.7835 - val_o2_loss: 0.0707 - val_o1_acc: 0.9874 - val_o2_acc: 0.9880\n",
      "Epoch 39/400\n",
      "60000/60000 [==============================] - 1s 21us/step - loss: 0.1701 - o1_loss: 2.8553 - o2_loss: 0.0273 - o1_acc: 0.9976 - o2_acc: 1.0000 - val_loss: 0.2100 - val_o1_loss: 2.8216 - val_o2_loss: 0.0689 - val_o1_acc: 0.9871 - val_o2_acc: 0.9878\n",
      "Epoch 40/400\n",
      "60000/60000 [==============================] - 1s 20us/step - loss: 0.1700 - o1_loss: 2.8552 - o2_loss: 0.0272 - o1_acc: 0.9976 - o2_acc: 1.0000 - val_loss: 0.2097 - val_o1_loss: 2.8077 - val_o2_loss: 0.0693 - val_o1_acc: 0.9874 - val_o2_acc: 0.9878\n",
      "Epoch 41/400\n",
      "60000/60000 [==============================] - 1s 20us/step - loss: 0.1699 - o1_loss: 2.8536 - o2_loss: 0.0272 - o1_acc: 0.9976 - o2_acc: 1.0000 - val_loss: 0.2097 - val_o1_loss: 2.8019 - val_o2_loss: 0.0696 - val_o1_acc: 0.9877 - val_o2_acc: 0.9883\n",
      "Epoch 42/400\n",
      "60000/60000 [==============================] - 1s 20us/step - loss: 0.1698 - o1_loss: 2.8532 - o2_loss: 0.0272 - o1_acc: 0.9976 - o2_acc: 1.0000 - val_loss: 0.2097 - val_o1_loss: 2.8091 - val_o2_loss: 0.0693 - val_o1_acc: 0.9876 - val_o2_acc: 0.9883\n",
      "Epoch 43/400\n",
      "60000/60000 [==============================] - 1s 19us/step - loss: 0.1697 - o1_loss: 2.8521 - o2_loss: 0.0271 - o1_acc: 0.9976 - o2_acc: 1.0000 - val_loss: 0.2095 - val_o1_loss: 2.8054 - val_o2_loss: 0.0693 - val_o1_acc: 0.9878 - val_o2_acc: 0.9884\n",
      "Epoch 44/400\n",
      "60000/60000 [==============================] - 1s 19us/step - loss: 0.1697 - o1_loss: 2.8520 - o2_loss: 0.0271 - o1_acc: 0.9976 - o2_acc: 1.0000 - val_loss: 0.2094 - val_o1_loss: 2.8061 - val_o2_loss: 0.0691 - val_o1_acc: 0.9876 - val_o2_acc: 0.9880\n",
      "Epoch 45/400\n",
      "60000/60000 [==============================] - 1s 20us/step - loss: 0.1696 - o1_loss: 2.8509 - o2_loss: 0.0270 - o1_acc: 0.9976 - o2_acc: 1.0000 - val_loss: 0.2090 - val_o1_loss: 2.8030 - val_o2_loss: 0.0689 - val_o1_acc: 0.9875 - val_o2_acc: 0.9881\n",
      "Epoch 46/400\n",
      "60000/60000 [==============================] - 1s 19us/step - loss: 0.1695 - o1_loss: 2.8500 - o2_loss: 0.0270 - o1_acc: 0.9976 - o2_acc: 1.0000 - val_loss: 0.2092 - val_o1_loss: 2.8066 - val_o2_loss: 0.0688 - val_o1_acc: 0.9874 - val_o2_acc: 0.9881\n",
      "Epoch 47/400\n",
      "60000/60000 [==============================] - 1s 20us/step - loss: 0.1695 - o1_loss: 2.8495 - o2_loss: 0.0270 - o1_acc: 0.9976 - o2_acc: 1.0000 - val_loss: 0.2092 - val_o1_loss: 2.7921 - val_o2_loss: 0.0695 - val_o1_acc: 0.9874 - val_o2_acc: 0.9879\n",
      "Epoch 48/400\n",
      "60000/60000 [==============================] - 1s 20us/step - loss: 0.1694 - o1_loss: 2.8487 - o2_loss: 0.0270 - o1_acc: 0.9976 - o2_acc: 1.0000 - val_loss: 0.2090 - val_o1_loss: 2.7916 - val_o2_loss: 0.0694 - val_o1_acc: 0.9872 - val_o2_acc: 0.9878\n",
      "Epoch 49/400\n",
      "60000/60000 [==============================] - 1s 20us/step - loss: 0.1694 - o1_loss: 2.8483 - o2_loss: 0.0269 - o1_acc: 0.9976 - o2_acc: 1.0000 - val_loss: 0.2091 - val_o1_loss: 2.7954 - val_o2_loss: 0.0693 - val_o1_acc: 0.9873 - val_o2_acc: 0.9878\n",
      "Epoch 50/400\n",
      "60000/60000 [==============================] - 1s 21us/step - loss: 0.1693 - o1_loss: 2.8476 - o2_loss: 0.0269 - o1_acc: 0.9976 - o2_acc: 1.0000 - val_loss: 0.2092 - val_o1_loss: 2.7867 - val_o2_loss: 0.0699 - val_o1_acc: 0.9874 - val_o2_acc: 0.9881\n",
      "Epoch 51/400\n",
      "60000/60000 [==============================] - 1s 20us/step - loss: 0.1693 - o1_loss: 2.8469 - o2_loss: 0.0269 - o1_acc: 0.9976 - o2_acc: 1.0000 - val_loss: 0.2088 - val_o1_loss: 2.7933 - val_o2_loss: 0.0691 - val_o1_acc: 0.9874 - val_o2_acc: 0.9879\n",
      "Epoch 52/400\n",
      "60000/60000 [==============================] - 1s 20us/step - loss: 0.1692 - o1_loss: 2.8470 - o2_loss: 0.0269 - o1_acc: 0.9976 - o2_acc: 1.0000 - val_loss: 0.2088 - val_o1_loss: 2.8031 - val_o2_loss: 0.0687 - val_o1_acc: 0.9874 - val_o2_acc: 0.9879\n",
      "Epoch 53/400\n",
      "60000/60000 [==============================] - 1s 20us/step - loss: 0.1692 - o1_loss: 2.8463 - o2_loss: 0.0269 - o1_acc: 0.9976 - o2_acc: 1.0000 - val_loss: 0.2089 - val_o1_loss: 2.7925 - val_o2_loss: 0.0692 - val_o1_acc: 0.9872 - val_o2_acc: 0.9878\n",
      "Epoch 54/400\n",
      "60000/60000 [==============================] - 1s 20us/step - loss: 0.1692 - o1_loss: 2.8461 - o2_loss: 0.0268 - o1_acc: 0.9976 - o2_acc: 1.0000 - val_loss: 0.2087 - val_o1_loss: 2.7884 - val_o2_loss: 0.0692 - val_o1_acc: 0.9875 - val_o2_acc: 0.9881\n",
      "Epoch 55/400\n",
      "60000/60000 [==============================] - 1s 20us/step - loss: 0.1691 - o1_loss: 2.8460 - o2_loss: 0.0268 - o1_acc: 0.9976 - o2_acc: 1.0000 - val_loss: 0.2092 - val_o1_loss: 2.7621 - val_o2_loss: 0.0711 - val_o1_acc: 0.9873 - val_o2_acc: 0.9878\n",
      "Epoch 56/400\n",
      "60000/60000 [==============================] - 1s 20us/step - loss: 0.1691 - o1_loss: 2.8450 - o2_loss: 0.0268 - o1_acc: 0.9976 - o2_acc: 1.0000 - val_loss: 0.2086 - val_o1_loss: 2.7856 - val_o2_loss: 0.0693 - val_o1_acc: 0.9873 - val_o2_acc: 0.9879\n",
      "Epoch 57/400\n",
      "60000/60000 [==============================] - 1s 21us/step - loss: 0.1691 - o1_loss: 2.8450 - o2_loss: 0.0268 - o1_acc: 0.9976 - o2_acc: 1.0000 - val_loss: 0.2086 - val_o1_loss: 2.7654 - val_o2_loss: 0.0703 - val_o1_acc: 0.9872 - val_o2_acc: 0.9878\n",
      "Epoch 58/400\n",
      "60000/60000 [==============================] - 1s 20us/step - loss: 0.1690 - o1_loss: 2.8441 - o2_loss: 0.0268 - o1_acc: 0.9976 - o2_acc: 1.0000 - val_loss: 0.2084 - val_o1_loss: 2.8117 - val_o2_loss: 0.0678 - val_o1_acc: 0.9876 - val_o2_acc: 0.9880\n",
      "Epoch 59/400\n",
      "60000/60000 [==============================] - 1s 21us/step - loss: 0.1690 - o1_loss: 2.8450 - o2_loss: 0.0268 - o1_acc: 0.9976 - o2_acc: 1.0000 - val_loss: 0.2086 - val_o1_loss: 2.7856 - val_o2_loss: 0.0693 - val_o1_acc: 0.9875 - val_o2_acc: 0.9881\n",
      "Epoch 60/400\n",
      "60000/60000 [==============================] - 1s 22us/step - loss: 0.1690 - o1_loss: 2.8445 - o2_loss: 0.0268 - o1_acc: 0.9976 - o2_acc: 1.0000 - val_loss: 0.2086 - val_o1_loss: 2.7726 - val_o2_loss: 0.0699 - val_o1_acc: 0.9875 - val_o2_acc: 0.9882\n",
      "Epoch 61/400\n",
      "60000/60000 [==============================] - 1s 21us/step - loss: 0.1690 - o1_loss: 2.8437 - o2_loss: 0.0268 - o1_acc: 0.9976 - o2_acc: 1.0000 - val_loss: 0.2089 - val_o1_loss: 2.7711 - val_o2_loss: 0.0704 - val_o1_acc: 0.9868 - val_o2_acc: 0.9873\n",
      "Epoch 62/400\n",
      "60000/60000 [==============================] - 1s 20us/step - loss: 0.1689 - o1_loss: 2.8436 - o2_loss: 0.0267 - o1_acc: 0.9976 - o2_acc: 1.0000 - val_loss: 0.2087 - val_o1_loss: 2.7581 - val_o2_loss: 0.0708 - val_o1_acc: 0.9870 - val_o2_acc: 0.9876\n",
      "Epoch 63/400\n",
      "60000/60000 [==============================] - 1s 20us/step - loss: 0.1689 - o1_loss: 2.8431 - o2_loss: 0.0268 - o1_acc: 0.9976 - o2_acc: 1.0000 - val_loss: 0.2086 - val_o1_loss: 2.7781 - val_o2_loss: 0.0697 - val_o1_acc: 0.9869 - val_o2_acc: 0.9875\n",
      "Epoch 64/400\n",
      "60000/60000 [==============================] - 1s 20us/step - loss: 0.1689 - o1_loss: 2.8430 - o2_loss: 0.0267 - o1_acc: 0.9976 - o2_acc: 1.0000 - val_loss: 0.2085 - val_o1_loss: 2.7685 - val_o2_loss: 0.0701 - val_o1_acc: 0.9869 - val_o2_acc: 0.9875\n",
      "Epoch 65/400\n",
      "60000/60000 [==============================] - 1s 21us/step - loss: 0.1689 - o1_loss: 2.8428 - o2_loss: 0.0267 - o1_acc: 0.9976 - o2_acc: 1.0000 - val_loss: 0.2084 - val_o1_loss: 2.7758 - val_o2_loss: 0.0696 - val_o1_acc: 0.9872 - val_o2_acc: 0.9878\n",
      "Epoch 66/400\n",
      "60000/60000 [==============================] - 1s 20us/step - loss: 0.1688 - o1_loss: 2.8421 - o2_loss: 0.0267 - o1_acc: 0.9976 - o2_acc: 1.0000 - val_loss: 0.2084 - val_o1_loss: 2.8133 - val_o2_loss: 0.0677 - val_o1_acc: 0.9872 - val_o2_acc: 0.9877\n",
      "Epoch 67/400\n",
      "60000/60000 [==============================] - 1s 20us/step - loss: 0.1688 - o1_loss: 2.8423 - o2_loss: 0.0267 - o1_acc: 0.9976 - o2_acc: 1.0000 - val_loss: 0.2083 - val_o1_loss: 2.7917 - val_o2_loss: 0.0687 - val_o1_acc: 0.9871 - val_o2_acc: 0.9877\n",
      "Epoch 68/400\n",
      "60000/60000 [==============================] - 1s 20us/step - loss: 0.1688 - o1_loss: 2.8424 - o2_loss: 0.0267 - o1_acc: 0.9976 - o2_acc: 1.0000 - val_loss: 0.2085 - val_o1_loss: 2.7858 - val_o2_loss: 0.0692 - val_o1_acc: 0.9867 - val_o2_acc: 0.9873\n",
      "Epoch 69/400\n",
      "60000/60000 [==============================] - 1s 21us/step - loss: 0.1688 - o1_loss: 2.8420 - o2_loss: 0.0267 - o1_acc: 0.9976 - o2_acc: 1.0000 - val_loss: 0.2082 - val_o1_loss: 2.7516 - val_o2_loss: 0.0707 - val_o1_acc: 0.9873 - val_o2_acc: 0.9879\n",
      "Epoch 70/400\n",
      "60000/60000 [==============================] - 1s 21us/step - loss: 0.1688 - o1_loss: 2.8418 - o2_loss: 0.0267 - o1_acc: 0.9976 - o2_acc: 1.0000 - val_loss: 0.2085 - val_o1_loss: 2.7736 - val_o2_loss: 0.0698 - val_o1_acc: 0.9873 - val_o2_acc: 0.9877\n",
      "Epoch 71/400\n",
      "60000/60000 [==============================] - 1s 21us/step - loss: 0.1688 - o1_loss: 2.8414 - o2_loss: 0.0267 - o1_acc: 0.9976 - o2_acc: 1.0000 - val_loss: 0.2088 - val_o1_loss: 2.7912 - val_o2_loss: 0.0692 - val_o1_acc: 0.9873 - val_o2_acc: 0.9879\n",
      "Epoch 72/400\n",
      "22000/60000 [==========>...................] - ETA: 0s - loss: 0.1688 - o1_loss: 2.8427 - o2_loss: 0.0267 - o1_acc: 0.9978 - o2_acc: 1.0000"
     ]
    },
    {
     "ename": "KeyboardInterrupt",
     "evalue": "",
     "output_type": "error",
     "traceback": [
      "\u001b[0;31m---------------------------------------------------------------------------\u001b[0m",
      "\u001b[0;31mKeyboardInterrupt\u001b[0m                         Traceback (most recent call last)",
      "\u001b[0;32m<ipython-input-154-999d00ebd7f0>\u001b[0m in \u001b[0;36m<module>\u001b[0;34m()\u001b[0m\n\u001b[1;32m     15\u001b[0m           \u001b[0mverbose\u001b[0m\u001b[0;34m=\u001b[0m\u001b[0;36m1\u001b[0m\u001b[0;34m,\u001b[0m\u001b[0;34m\u001b[0m\u001b[0;34m\u001b[0m\u001b[0m\n\u001b[1;32m     16\u001b[0m           \u001b[0mvalidation_data\u001b[0m\u001b[0;34m=\u001b[0m\u001b[0;34m(\u001b[0m\u001b[0mx_test\u001b[0m\u001b[0;34m,\u001b[0m \u001b[0;34m[\u001b[0m\u001b[0mkd_gt\u001b[0m\u001b[0;34m[\u001b[0m\u001b[0;34m'st_test'\u001b[0m\u001b[0;34m]\u001b[0m\u001b[0;34m,\u001b[0m \u001b[0my_test\u001b[0m\u001b[0;34m]\u001b[0m\u001b[0;34m)\u001b[0m\u001b[0;34m,\u001b[0m\u001b[0;34m\u001b[0m\u001b[0;34m\u001b[0m\u001b[0m\n\u001b[0;32m---> 17\u001b[0;31m           \u001b[0mcallbacks\u001b[0m\u001b[0;34m=\u001b[0m\u001b[0;34m[\u001b[0m\u001b[0mcheckpointer\u001b[0m\u001b[0;34m]\u001b[0m\u001b[0;34m,\u001b[0m\u001b[0;34m\u001b[0m\u001b[0;34m\u001b[0m\u001b[0m\n\u001b[0m\u001b[1;32m     18\u001b[0m             )\n\u001b[1;32m     19\u001b[0m \u001b[0mscore\u001b[0m\u001b[0;34m[\u001b[0m\u001b[0;34m'student_st'\u001b[0m\u001b[0;34m]\u001b[0m \u001b[0;34m=\u001b[0m \u001b[0mmodel\u001b[0m\u001b[0;34m[\u001b[0m\u001b[0;34m'student_st'\u001b[0m\u001b[0;34m]\u001b[0m\u001b[0;34m.\u001b[0m\u001b[0mevaluate\u001b[0m\u001b[0;34m(\u001b[0m\u001b[0mx_test\u001b[0m\u001b[0;34m,\u001b[0m \u001b[0;34m[\u001b[0m\u001b[0mkd_gt\u001b[0m\u001b[0;34m[\u001b[0m\u001b[0;34m'st_test'\u001b[0m\u001b[0;34m]\u001b[0m\u001b[0;34m,\u001b[0m \u001b[0my_test\u001b[0m\u001b[0;34m]\u001b[0m\u001b[0;34m,\u001b[0m \u001b[0mverbose\u001b[0m\u001b[0;34m=\u001b[0m\u001b[0;36m0\u001b[0m\u001b[0;34m)\u001b[0m\u001b[0;34m\u001b[0m\u001b[0;34m\u001b[0m\u001b[0m\n",
      "\u001b[0;32m/home/acar/.virtualenvs/mask_rcnn/lib/python3.6/site-packages/keras/engine/training.py\u001b[0m in \u001b[0;36mfit\u001b[0;34m(self, x, y, batch_size, epochs, verbose, callbacks, validation_split, validation_data, shuffle, class_weight, sample_weight, initial_epoch, steps_per_epoch, validation_steps, **kwargs)\u001b[0m\n\u001b[1;32m   1037\u001b[0m                                         \u001b[0minitial_epoch\u001b[0m\u001b[0;34m=\u001b[0m\u001b[0minitial_epoch\u001b[0m\u001b[0;34m,\u001b[0m\u001b[0;34m\u001b[0m\u001b[0;34m\u001b[0m\u001b[0m\n\u001b[1;32m   1038\u001b[0m                                         \u001b[0msteps_per_epoch\u001b[0m\u001b[0;34m=\u001b[0m\u001b[0msteps_per_epoch\u001b[0m\u001b[0;34m,\u001b[0m\u001b[0;34m\u001b[0m\u001b[0;34m\u001b[0m\u001b[0m\n\u001b[0;32m-> 1039\u001b[0;31m                                         validation_steps=validation_steps)\n\u001b[0m\u001b[1;32m   1040\u001b[0m \u001b[0;34m\u001b[0m\u001b[0m\n\u001b[1;32m   1041\u001b[0m     def evaluate(self, x=None, y=None,\n",
      "\u001b[0;32m/home/acar/.virtualenvs/mask_rcnn/lib/python3.6/site-packages/keras/engine/training_arrays.py\u001b[0m in \u001b[0;36mfit_loop\u001b[0;34m(model, f, ins, out_labels, batch_size, epochs, verbose, callbacks, val_f, val_ins, shuffle, callback_metrics, initial_epoch, steps_per_epoch, validation_steps)\u001b[0m\n\u001b[1;32m    197\u001b[0m                     \u001b[0mins_batch\u001b[0m\u001b[0;34m[\u001b[0m\u001b[0mi\u001b[0m\u001b[0;34m]\u001b[0m \u001b[0;34m=\u001b[0m \u001b[0mins_batch\u001b[0m\u001b[0;34m[\u001b[0m\u001b[0mi\u001b[0m\u001b[0;34m]\u001b[0m\u001b[0;34m.\u001b[0m\u001b[0mtoarray\u001b[0m\u001b[0;34m(\u001b[0m\u001b[0;34m)\u001b[0m\u001b[0;34m\u001b[0m\u001b[0;34m\u001b[0m\u001b[0m\n\u001b[1;32m    198\u001b[0m \u001b[0;34m\u001b[0m\u001b[0m\n\u001b[0;32m--> 199\u001b[0;31m                 \u001b[0mouts\u001b[0m \u001b[0;34m=\u001b[0m \u001b[0mf\u001b[0m\u001b[0;34m(\u001b[0m\u001b[0mins_batch\u001b[0m\u001b[0;34m)\u001b[0m\u001b[0;34m\u001b[0m\u001b[0;34m\u001b[0m\u001b[0m\n\u001b[0m\u001b[1;32m    200\u001b[0m                 \u001b[0mouts\u001b[0m \u001b[0;34m=\u001b[0m \u001b[0mto_list\u001b[0m\u001b[0;34m(\u001b[0m\u001b[0mouts\u001b[0m\u001b[0;34m)\u001b[0m\u001b[0;34m\u001b[0m\u001b[0;34m\u001b[0m\u001b[0m\n\u001b[1;32m    201\u001b[0m                 \u001b[0;32mfor\u001b[0m \u001b[0ml\u001b[0m\u001b[0;34m,\u001b[0m \u001b[0mo\u001b[0m \u001b[0;32min\u001b[0m \u001b[0mzip\u001b[0m\u001b[0;34m(\u001b[0m\u001b[0mout_labels\u001b[0m\u001b[0;34m,\u001b[0m \u001b[0mouts\u001b[0m\u001b[0;34m)\u001b[0m\u001b[0;34m:\u001b[0m\u001b[0;34m\u001b[0m\u001b[0;34m\u001b[0m\u001b[0m\n",
      "\u001b[0;32m/home/acar/.virtualenvs/mask_rcnn/lib/python3.6/site-packages/keras/backend/tensorflow_backend.py\u001b[0m in \u001b[0;36m__call__\u001b[0;34m(self, inputs)\u001b[0m\n\u001b[1;32m   2713\u001b[0m                 \u001b[0;32mreturn\u001b[0m \u001b[0mself\u001b[0m\u001b[0;34m.\u001b[0m\u001b[0m_legacy_call\u001b[0m\u001b[0;34m(\u001b[0m\u001b[0minputs\u001b[0m\u001b[0;34m)\u001b[0m\u001b[0;34m\u001b[0m\u001b[0;34m\u001b[0m\u001b[0m\n\u001b[1;32m   2714\u001b[0m \u001b[0;34m\u001b[0m\u001b[0m\n\u001b[0;32m-> 2715\u001b[0;31m             \u001b[0;32mreturn\u001b[0m \u001b[0mself\u001b[0m\u001b[0;34m.\u001b[0m\u001b[0m_call\u001b[0m\u001b[0;34m(\u001b[0m\u001b[0minputs\u001b[0m\u001b[0;34m)\u001b[0m\u001b[0;34m\u001b[0m\u001b[0;34m\u001b[0m\u001b[0m\n\u001b[0m\u001b[1;32m   2716\u001b[0m         \u001b[0;32melse\u001b[0m\u001b[0;34m:\u001b[0m\u001b[0;34m\u001b[0m\u001b[0;34m\u001b[0m\u001b[0m\n\u001b[1;32m   2717\u001b[0m             \u001b[0;32mif\u001b[0m \u001b[0mpy_any\u001b[0m\u001b[0;34m(\u001b[0m\u001b[0mis_tensor\u001b[0m\u001b[0;34m(\u001b[0m\u001b[0mx\u001b[0m\u001b[0;34m)\u001b[0m \u001b[0;32mfor\u001b[0m \u001b[0mx\u001b[0m \u001b[0;32min\u001b[0m \u001b[0minputs\u001b[0m\u001b[0;34m)\u001b[0m\u001b[0;34m:\u001b[0m\u001b[0;34m\u001b[0m\u001b[0;34m\u001b[0m\u001b[0m\n",
      "\u001b[0;32m/home/acar/.virtualenvs/mask_rcnn/lib/python3.6/site-packages/keras/backend/tensorflow_backend.py\u001b[0m in \u001b[0;36m_call\u001b[0;34m(self, inputs)\u001b[0m\n\u001b[1;32m   2673\u001b[0m             \u001b[0mfetched\u001b[0m \u001b[0;34m=\u001b[0m \u001b[0mself\u001b[0m\u001b[0;34m.\u001b[0m\u001b[0m_callable_fn\u001b[0m\u001b[0;34m(\u001b[0m\u001b[0;34m*\u001b[0m\u001b[0marray_vals\u001b[0m\u001b[0;34m,\u001b[0m \u001b[0mrun_metadata\u001b[0m\u001b[0;34m=\u001b[0m\u001b[0mself\u001b[0m\u001b[0;34m.\u001b[0m\u001b[0mrun_metadata\u001b[0m\u001b[0;34m)\u001b[0m\u001b[0;34m\u001b[0m\u001b[0;34m\u001b[0m\u001b[0m\n\u001b[1;32m   2674\u001b[0m         \u001b[0;32melse\u001b[0m\u001b[0;34m:\u001b[0m\u001b[0;34m\u001b[0m\u001b[0;34m\u001b[0m\u001b[0m\n\u001b[0;32m-> 2675\u001b[0;31m             \u001b[0mfetched\u001b[0m \u001b[0;34m=\u001b[0m \u001b[0mself\u001b[0m\u001b[0;34m.\u001b[0m\u001b[0m_callable_fn\u001b[0m\u001b[0;34m(\u001b[0m\u001b[0;34m*\u001b[0m\u001b[0marray_vals\u001b[0m\u001b[0;34m)\u001b[0m\u001b[0;34m\u001b[0m\u001b[0;34m\u001b[0m\u001b[0m\n\u001b[0m\u001b[1;32m   2676\u001b[0m         \u001b[0;32mreturn\u001b[0m \u001b[0mfetched\u001b[0m\u001b[0;34m[\u001b[0m\u001b[0;34m:\u001b[0m\u001b[0mlen\u001b[0m\u001b[0;34m(\u001b[0m\u001b[0mself\u001b[0m\u001b[0;34m.\u001b[0m\u001b[0moutputs\u001b[0m\u001b[0;34m)\u001b[0m\u001b[0;34m]\u001b[0m\u001b[0;34m\u001b[0m\u001b[0;34m\u001b[0m\u001b[0m\n\u001b[1;32m   2677\u001b[0m \u001b[0;34m\u001b[0m\u001b[0m\n",
      "\u001b[0;32m/home/acar/.virtualenvs/mask_rcnn/lib/python3.6/site-packages/tensorflow/python/client/session.py\u001b[0m in \u001b[0;36m__call__\u001b[0;34m(self, *args, **kwargs)\u001b[0m\n\u001b[1;32m   1456\u001b[0m         ret = tf_session.TF_SessionRunCallable(self._session._session,\n\u001b[1;32m   1457\u001b[0m                                                \u001b[0mself\u001b[0m\u001b[0;34m.\u001b[0m\u001b[0m_handle\u001b[0m\u001b[0;34m,\u001b[0m \u001b[0margs\u001b[0m\u001b[0;34m,\u001b[0m\u001b[0;34m\u001b[0m\u001b[0;34m\u001b[0m\u001b[0m\n\u001b[0;32m-> 1458\u001b[0;31m                                                run_metadata_ptr)\n\u001b[0m\u001b[1;32m   1459\u001b[0m         \u001b[0;32mif\u001b[0m \u001b[0mrun_metadata\u001b[0m\u001b[0;34m:\u001b[0m\u001b[0;34m\u001b[0m\u001b[0;34m\u001b[0m\u001b[0m\n\u001b[1;32m   1460\u001b[0m           \u001b[0mproto_data\u001b[0m \u001b[0;34m=\u001b[0m \u001b[0mtf_session\u001b[0m\u001b[0;34m.\u001b[0m\u001b[0mTF_GetBuffer\u001b[0m\u001b[0;34m(\u001b[0m\u001b[0mrun_metadata_ptr\u001b[0m\u001b[0;34m)\u001b[0m\u001b[0;34m\u001b[0m\u001b[0;34m\u001b[0m\u001b[0m\n",
      "\u001b[0;31mKeyboardInterrupt\u001b[0m: "
     ]
    }
   ],
   "source": [
    "def schedule(epoch):\n",
    "    return base_lr * decay**(epoch)\n",
    "\n",
    "#es = callbacks.EarlyStopping(monitor='val_o2_loss', mode='min', verbose=0, patience=30)\n",
    "#mc = callbacks.ModelCheckpoint('best_student_st.h5', monitor='val_o2_acc', mode='max', verbose=0, save_best_only=True)\n",
    "ls = callbacks.LearningRateScheduler(schedule)\n",
    "\n",
    "checkpointer = ModelCheckpoint(filepath='saved_models/weights.best.student_st.hdf5', \n",
    "                               verbose=0, save_best_only=True, monitor='val_o2_acc')\n",
    "\n",
    "# model['student_st'].load_weights('saved_models/weights.best.student_st.hdf5')\n",
    "hist['student_st'] = model['student_st'].fit(x_train, [kd_gt['st_train'], y_train],\n",
    "          batch_size=batch_size,\n",
    "          epochs=400,\n",
    "          verbose=1,\n",
    "          validation_data=(x_test, [kd_gt['st_test'], y_test]),\n",
    "          callbacks=[checkpointer],\n",
    "            )\n",
    "score['student_st'] = model['student_st'].evaluate(x_test, [kd_gt['st_test'], y_test], verbose=0)\n",
    "print('Test loss:', score['student_st'][0])\n",
    "print('Test accuracy:', score['student_st'][-1])"
   ]
  },
  {
   "cell_type": "code",
   "execution_count": null,
   "metadata": {},
   "outputs": [],
   "source": [
    "model['student_st'].load_weights('saved_models/weights.best.student_st.hdf5')\n",
    "score['student_st'] = model['student_st'].evaluate(x_test, [kd_gt['st_test'], y_test], verbose=0)\n",
    "n_errors = np.int((1-score['student_st'][-1])*len(y_test))\n",
    "print('Test loss:', score['student_st'][0])\n",
    "print('Test accuracy:', score['student_st'][-1])\n",
    "print('Test errors:', n_errors)"
   ]
  },
  {
   "cell_type": "code",
   "execution_count": 181,
   "metadata": {},
   "outputs": [
    {
     "data": {
      "text/plain": [
       "(53869, 28, 28, 1)"
      ]
     },
     "execution_count": 181,
     "metadata": {},
     "output_type": "execute_result"
    }
   ],
   "source": [
    "# x_small_train = x_train[np.argmax(y_train, axis=-1) != 3]\n",
    "# y_small_train = y_train[np.argmax(y_train, axis=-1) != 3]\n",
    "# x_small_train.shape"
   ]
  },
  {
   "cell_type": "code",
   "execution_count": 45,
   "metadata": {},
   "outputs": [],
   "source": [
    "reload(models)\n",
    "from keras import callbacks\n",
    "\n",
    "base_l2 = 0.05\n",
    "l2_decay = 0.98\n",
    "l2_weight = K.variable(base_l2)\n",
    "\n",
    "def changeAlpha(epoch,logs):\n",
    "    #maybe use epoch+1, because it starts with 0\n",
    "    K.set_value(l2_weight, base_l2 * l2_decay**epoch)\n",
    "\n",
    "l2Changer = callbacks.LambdaCallback(on_epoch_end=changeAlpha)\n",
    "\n",
    "\n",
    "base_lr = 2e-3\n",
    "decay = 0.99\n",
    "optim = keras.optimizers.Adam(lr=base_lr)\n",
    "\n",
    "model['student_reg'] = models.SoftStudentModel(input_shape, num_classes, l1=0.1, l2=l2_weight, b=1)\n",
    "model['student_reg'].compile(loss=keras.losses.categorical_crossentropy,\n",
    "              optimizer=optim,\n",
    "              metrics=['accuracy'])"
   ]
  },
  {
   "cell_type": "code",
   "execution_count": 68,
   "metadata": {
    "collapsed": true,
    "jupyter": {
     "outputs_hidden": true
    }
   },
   "outputs": [
    {
     "name": "stdout",
     "output_type": "stream",
     "text": [
      "Epoch 1/100\n",
      "47/47 [==============================] - 24s 511ms/step - loss: 1.4761 - acc: 0.9780 - val_loss: 0.3694 - val_acc: 0.9844\n",
      "Epoch 2/100\n",
      "10/47 [=====>........................] - ETA: 17s - loss: 1.5023 - acc: 0.9609"
     ]
    },
    {
     "ename": "KeyboardInterrupt",
     "evalue": "",
     "output_type": "error",
     "traceback": [
      "\u001b[0;31m---------------------------------------------------------------------------\u001b[0m",
      "\u001b[0;31mKeyboardInterrupt\u001b[0m                         Traceback (most recent call last)",
      "\u001b[0;32m<ipython-input-68-c45b21e478ba>\u001b[0m in \u001b[0;36m<module>\u001b[0;34m()\u001b[0m\n\u001b[1;32m     22\u001b[0m                                                            \u001b[0mvalidation_data\u001b[0m\u001b[0;34m=\u001b[0m\u001b[0mtest_datagen\u001b[0m\u001b[0;34m.\u001b[0m\u001b[0mflow\u001b[0m\u001b[0;34m(\u001b[0m\u001b[0mx_test\u001b[0m\u001b[0;34m,\u001b[0m \u001b[0my_test\u001b[0m\u001b[0;34m)\u001b[0m\u001b[0;34m,\u001b[0m\u001b[0;34m\u001b[0m\u001b[0;34m\u001b[0m\u001b[0m\n\u001b[1;32m     23\u001b[0m                                                            \u001b[0mvalidation_steps\u001b[0m\u001b[0;34m=\u001b[0m\u001b[0mlen\u001b[0m\u001b[0;34m(\u001b[0m\u001b[0mx_test\u001b[0m\u001b[0;34m)\u001b[0m \u001b[0;34m//\u001b[0m \u001b[0mbatch_size\u001b[0m \u001b[0;34m+\u001b[0m \u001b[0;36m1\u001b[0m\u001b[0;34m,\u001b[0m\u001b[0;34m\u001b[0m\u001b[0;34m\u001b[0m\u001b[0m\n\u001b[0;32m---> 24\u001b[0;31m                                                            callbacks=[checkpointer, ls, l2Changer])\n\u001b[0m\u001b[1;32m     25\u001b[0m \u001b[0mscore\u001b[0m\u001b[0;34m[\u001b[0m\u001b[0;34m'student_reg'\u001b[0m\u001b[0;34m]\u001b[0m \u001b[0;34m=\u001b[0m \u001b[0mmodel\u001b[0m\u001b[0;34m[\u001b[0m\u001b[0;34m'student_reg'\u001b[0m\u001b[0;34m]\u001b[0m\u001b[0;34m.\u001b[0m\u001b[0mevaluate\u001b[0m\u001b[0;34m(\u001b[0m\u001b[0mx_test\u001b[0m\u001b[0;34m,\u001b[0m \u001b[0my_test\u001b[0m\u001b[0;34m,\u001b[0m \u001b[0mverbose\u001b[0m\u001b[0;34m=\u001b[0m\u001b[0;36m0\u001b[0m\u001b[0;34m)\u001b[0m\u001b[0;34m\u001b[0m\u001b[0;34m\u001b[0m\u001b[0m\n\u001b[1;32m     26\u001b[0m \u001b[0mprint\u001b[0m\u001b[0;34m(\u001b[0m\u001b[0;34m'Test loss:'\u001b[0m\u001b[0;34m,\u001b[0m \u001b[0mscore\u001b[0m\u001b[0;34m[\u001b[0m\u001b[0;34m'student_reg'\u001b[0m\u001b[0;34m]\u001b[0m\u001b[0;34m[\u001b[0m\u001b[0;36m0\u001b[0m\u001b[0;34m]\u001b[0m\u001b[0;34m)\u001b[0m\u001b[0;34m\u001b[0m\u001b[0;34m\u001b[0m\u001b[0m\n",
      "\u001b[0;32m/home/acar/.virtualenvs/mask_rcnn/lib/python3.6/site-packages/keras/legacy/interfaces.py\u001b[0m in \u001b[0;36mwrapper\u001b[0;34m(*args, **kwargs)\u001b[0m\n\u001b[1;32m     89\u001b[0m                 warnings.warn('Update your `' + object_name + '` call to the ' +\n\u001b[1;32m     90\u001b[0m                               'Keras 2 API: ' + signature, stacklevel=2)\n\u001b[0;32m---> 91\u001b[0;31m             \u001b[0;32mreturn\u001b[0m \u001b[0mfunc\u001b[0m\u001b[0;34m(\u001b[0m\u001b[0;34m*\u001b[0m\u001b[0margs\u001b[0m\u001b[0;34m,\u001b[0m \u001b[0;34m**\u001b[0m\u001b[0mkwargs\u001b[0m\u001b[0;34m)\u001b[0m\u001b[0;34m\u001b[0m\u001b[0;34m\u001b[0m\u001b[0m\n\u001b[0m\u001b[1;32m     92\u001b[0m         \u001b[0mwrapper\u001b[0m\u001b[0;34m.\u001b[0m\u001b[0m_original_function\u001b[0m \u001b[0;34m=\u001b[0m \u001b[0mfunc\u001b[0m\u001b[0;34m\u001b[0m\u001b[0;34m\u001b[0m\u001b[0m\n\u001b[1;32m     93\u001b[0m         \u001b[0;32mreturn\u001b[0m \u001b[0mwrapper\u001b[0m\u001b[0;34m\u001b[0m\u001b[0;34m\u001b[0m\u001b[0m\n",
      "\u001b[0;32m/home/acar/.virtualenvs/mask_rcnn/lib/python3.6/site-packages/keras/engine/training.py\u001b[0m in \u001b[0;36mfit_generator\u001b[0;34m(self, generator, steps_per_epoch, epochs, verbose, callbacks, validation_data, validation_steps, class_weight, max_queue_size, workers, use_multiprocessing, shuffle, initial_epoch)\u001b[0m\n\u001b[1;32m   1416\u001b[0m             \u001b[0muse_multiprocessing\u001b[0m\u001b[0;34m=\u001b[0m\u001b[0muse_multiprocessing\u001b[0m\u001b[0;34m,\u001b[0m\u001b[0;34m\u001b[0m\u001b[0;34m\u001b[0m\u001b[0m\n\u001b[1;32m   1417\u001b[0m             \u001b[0mshuffle\u001b[0m\u001b[0;34m=\u001b[0m\u001b[0mshuffle\u001b[0m\u001b[0;34m,\u001b[0m\u001b[0;34m\u001b[0m\u001b[0;34m\u001b[0m\u001b[0m\n\u001b[0;32m-> 1418\u001b[0;31m             initial_epoch=initial_epoch)\n\u001b[0m\u001b[1;32m   1419\u001b[0m \u001b[0;34m\u001b[0m\u001b[0m\n\u001b[1;32m   1420\u001b[0m     \u001b[0;34m@\u001b[0m\u001b[0minterfaces\u001b[0m\u001b[0;34m.\u001b[0m\u001b[0mlegacy_generator_methods_support\u001b[0m\u001b[0;34m\u001b[0m\u001b[0;34m\u001b[0m\u001b[0m\n",
      "\u001b[0;32m/home/acar/.virtualenvs/mask_rcnn/lib/python3.6/site-packages/keras/engine/training_generator.py\u001b[0m in \u001b[0;36mfit_generator\u001b[0;34m(model, generator, steps_per_epoch, epochs, verbose, callbacks, validation_data, validation_steps, class_weight, max_queue_size, workers, use_multiprocessing, shuffle, initial_epoch)\u001b[0m\n\u001b[1;32m    179\u001b[0m             \u001b[0mbatch_index\u001b[0m \u001b[0;34m=\u001b[0m \u001b[0;36m0\u001b[0m\u001b[0;34m\u001b[0m\u001b[0;34m\u001b[0m\u001b[0m\n\u001b[1;32m    180\u001b[0m             \u001b[0;32mwhile\u001b[0m \u001b[0msteps_done\u001b[0m \u001b[0;34m<\u001b[0m \u001b[0msteps_per_epoch\u001b[0m\u001b[0;34m:\u001b[0m\u001b[0;34m\u001b[0m\u001b[0;34m\u001b[0m\u001b[0m\n\u001b[0;32m--> 181\u001b[0;31m                 \u001b[0mgenerator_output\u001b[0m \u001b[0;34m=\u001b[0m \u001b[0mnext\u001b[0m\u001b[0;34m(\u001b[0m\u001b[0moutput_generator\u001b[0m\u001b[0;34m)\u001b[0m\u001b[0;34m\u001b[0m\u001b[0;34m\u001b[0m\u001b[0m\n\u001b[0m\u001b[1;32m    182\u001b[0m \u001b[0;34m\u001b[0m\u001b[0m\n\u001b[1;32m    183\u001b[0m                 \u001b[0;32mif\u001b[0m \u001b[0;32mnot\u001b[0m \u001b[0mhasattr\u001b[0m\u001b[0;34m(\u001b[0m\u001b[0mgenerator_output\u001b[0m\u001b[0;34m,\u001b[0m \u001b[0;34m'__len__'\u001b[0m\u001b[0;34m)\u001b[0m\u001b[0;34m:\u001b[0m\u001b[0;34m\u001b[0m\u001b[0;34m\u001b[0m\u001b[0m\n",
      "\u001b[0;32m/home/acar/.virtualenvs/mask_rcnn/lib/python3.6/site-packages/keras/utils/data_utils.py\u001b[0m in \u001b[0;36mget\u001b[0;34m(self)\u001b[0m\n\u001b[1;32m    683\u001b[0m         \u001b[0;32mtry\u001b[0m\u001b[0;34m:\u001b[0m\u001b[0;34m\u001b[0m\u001b[0;34m\u001b[0m\u001b[0m\n\u001b[1;32m    684\u001b[0m             \u001b[0;32mwhile\u001b[0m \u001b[0mself\u001b[0m\u001b[0;34m.\u001b[0m\u001b[0mis_running\u001b[0m\u001b[0;34m(\u001b[0m\u001b[0;34m)\u001b[0m\u001b[0;34m:\u001b[0m\u001b[0;34m\u001b[0m\u001b[0;34m\u001b[0m\u001b[0m\n\u001b[0;32m--> 685\u001b[0;31m                 \u001b[0minputs\u001b[0m \u001b[0;34m=\u001b[0m \u001b[0mself\u001b[0m\u001b[0;34m.\u001b[0m\u001b[0mqueue\u001b[0m\u001b[0;34m.\u001b[0m\u001b[0mget\u001b[0m\u001b[0;34m(\u001b[0m\u001b[0mblock\u001b[0m\u001b[0;34m=\u001b[0m\u001b[0;32mTrue\u001b[0m\u001b[0;34m)\u001b[0m\u001b[0;34m.\u001b[0m\u001b[0mget\u001b[0m\u001b[0;34m(\u001b[0m\u001b[0;34m)\u001b[0m\u001b[0;34m\u001b[0m\u001b[0;34m\u001b[0m\u001b[0m\n\u001b[0m\u001b[1;32m    686\u001b[0m                 \u001b[0mself\u001b[0m\u001b[0;34m.\u001b[0m\u001b[0mqueue\u001b[0m\u001b[0;34m.\u001b[0m\u001b[0mtask_done\u001b[0m\u001b[0;34m(\u001b[0m\u001b[0;34m)\u001b[0m\u001b[0;34m\u001b[0m\u001b[0;34m\u001b[0m\u001b[0m\n\u001b[1;32m    687\u001b[0m                 \u001b[0;32mif\u001b[0m \u001b[0minputs\u001b[0m \u001b[0;32mis\u001b[0m \u001b[0;32mnot\u001b[0m \u001b[0;32mNone\u001b[0m\u001b[0;34m:\u001b[0m\u001b[0;34m\u001b[0m\u001b[0;34m\u001b[0m\u001b[0m\n",
      "\u001b[0;32m/usr/lib/python3.6/multiprocessing/pool.py\u001b[0m in \u001b[0;36mget\u001b[0;34m(self, timeout)\u001b[0m\n\u001b[1;32m    636\u001b[0m \u001b[0;34m\u001b[0m\u001b[0m\n\u001b[1;32m    637\u001b[0m     \u001b[0;32mdef\u001b[0m \u001b[0mget\u001b[0m\u001b[0;34m(\u001b[0m\u001b[0mself\u001b[0m\u001b[0;34m,\u001b[0m \u001b[0mtimeout\u001b[0m\u001b[0;34m=\u001b[0m\u001b[0;32mNone\u001b[0m\u001b[0;34m)\u001b[0m\u001b[0;34m:\u001b[0m\u001b[0;34m\u001b[0m\u001b[0;34m\u001b[0m\u001b[0m\n\u001b[0;32m--> 638\u001b[0;31m         \u001b[0mself\u001b[0m\u001b[0;34m.\u001b[0m\u001b[0mwait\u001b[0m\u001b[0;34m(\u001b[0m\u001b[0mtimeout\u001b[0m\u001b[0;34m)\u001b[0m\u001b[0;34m\u001b[0m\u001b[0;34m\u001b[0m\u001b[0m\n\u001b[0m\u001b[1;32m    639\u001b[0m         \u001b[0;32mif\u001b[0m \u001b[0;32mnot\u001b[0m \u001b[0mself\u001b[0m\u001b[0;34m.\u001b[0m\u001b[0mready\u001b[0m\u001b[0;34m(\u001b[0m\u001b[0;34m)\u001b[0m\u001b[0;34m:\u001b[0m\u001b[0;34m\u001b[0m\u001b[0;34m\u001b[0m\u001b[0m\n\u001b[1;32m    640\u001b[0m             \u001b[0;32mraise\u001b[0m \u001b[0mTimeoutError\u001b[0m\u001b[0;34m\u001b[0m\u001b[0;34m\u001b[0m\u001b[0m\n",
      "\u001b[0;32m/usr/lib/python3.6/multiprocessing/pool.py\u001b[0m in \u001b[0;36mwait\u001b[0;34m(self, timeout)\u001b[0m\n\u001b[1;32m    633\u001b[0m \u001b[0;34m\u001b[0m\u001b[0m\n\u001b[1;32m    634\u001b[0m     \u001b[0;32mdef\u001b[0m \u001b[0mwait\u001b[0m\u001b[0;34m(\u001b[0m\u001b[0mself\u001b[0m\u001b[0;34m,\u001b[0m \u001b[0mtimeout\u001b[0m\u001b[0;34m=\u001b[0m\u001b[0;32mNone\u001b[0m\u001b[0;34m)\u001b[0m\u001b[0;34m:\u001b[0m\u001b[0;34m\u001b[0m\u001b[0;34m\u001b[0m\u001b[0m\n\u001b[0;32m--> 635\u001b[0;31m         \u001b[0mself\u001b[0m\u001b[0;34m.\u001b[0m\u001b[0m_event\u001b[0m\u001b[0;34m.\u001b[0m\u001b[0mwait\u001b[0m\u001b[0;34m(\u001b[0m\u001b[0mtimeout\u001b[0m\u001b[0;34m)\u001b[0m\u001b[0;34m\u001b[0m\u001b[0;34m\u001b[0m\u001b[0m\n\u001b[0m\u001b[1;32m    636\u001b[0m \u001b[0;34m\u001b[0m\u001b[0m\n\u001b[1;32m    637\u001b[0m     \u001b[0;32mdef\u001b[0m \u001b[0mget\u001b[0m\u001b[0;34m(\u001b[0m\u001b[0mself\u001b[0m\u001b[0;34m,\u001b[0m \u001b[0mtimeout\u001b[0m\u001b[0;34m=\u001b[0m\u001b[0;32mNone\u001b[0m\u001b[0;34m)\u001b[0m\u001b[0;34m:\u001b[0m\u001b[0;34m\u001b[0m\u001b[0;34m\u001b[0m\u001b[0m\n",
      "\u001b[0;32m/usr/lib/python3.6/threading.py\u001b[0m in \u001b[0;36mwait\u001b[0;34m(self, timeout)\u001b[0m\n\u001b[1;32m    549\u001b[0m             \u001b[0msignaled\u001b[0m \u001b[0;34m=\u001b[0m \u001b[0mself\u001b[0m\u001b[0;34m.\u001b[0m\u001b[0m_flag\u001b[0m\u001b[0;34m\u001b[0m\u001b[0;34m\u001b[0m\u001b[0m\n\u001b[1;32m    550\u001b[0m             \u001b[0;32mif\u001b[0m \u001b[0;32mnot\u001b[0m \u001b[0msignaled\u001b[0m\u001b[0;34m:\u001b[0m\u001b[0;34m\u001b[0m\u001b[0;34m\u001b[0m\u001b[0m\n\u001b[0;32m--> 551\u001b[0;31m                 \u001b[0msignaled\u001b[0m \u001b[0;34m=\u001b[0m \u001b[0mself\u001b[0m\u001b[0;34m.\u001b[0m\u001b[0m_cond\u001b[0m\u001b[0;34m.\u001b[0m\u001b[0mwait\u001b[0m\u001b[0;34m(\u001b[0m\u001b[0mtimeout\u001b[0m\u001b[0;34m)\u001b[0m\u001b[0;34m\u001b[0m\u001b[0;34m\u001b[0m\u001b[0m\n\u001b[0m\u001b[1;32m    552\u001b[0m             \u001b[0;32mreturn\u001b[0m \u001b[0msignaled\u001b[0m\u001b[0;34m\u001b[0m\u001b[0;34m\u001b[0m\u001b[0m\n\u001b[1;32m    553\u001b[0m \u001b[0;34m\u001b[0m\u001b[0m\n",
      "\u001b[0;32m/usr/lib/python3.6/threading.py\u001b[0m in \u001b[0;36mwait\u001b[0;34m(self, timeout)\u001b[0m\n\u001b[1;32m    293\u001b[0m         \u001b[0;32mtry\u001b[0m\u001b[0;34m:\u001b[0m    \u001b[0;31m# restore state no matter what (e.g., KeyboardInterrupt)\u001b[0m\u001b[0;34m\u001b[0m\u001b[0;34m\u001b[0m\u001b[0m\n\u001b[1;32m    294\u001b[0m             \u001b[0;32mif\u001b[0m \u001b[0mtimeout\u001b[0m \u001b[0;32mis\u001b[0m \u001b[0;32mNone\u001b[0m\u001b[0;34m:\u001b[0m\u001b[0;34m\u001b[0m\u001b[0;34m\u001b[0m\u001b[0m\n\u001b[0;32m--> 295\u001b[0;31m                 \u001b[0mwaiter\u001b[0m\u001b[0;34m.\u001b[0m\u001b[0macquire\u001b[0m\u001b[0;34m(\u001b[0m\u001b[0;34m)\u001b[0m\u001b[0;34m\u001b[0m\u001b[0;34m\u001b[0m\u001b[0m\n\u001b[0m\u001b[1;32m    296\u001b[0m                 \u001b[0mgotit\u001b[0m \u001b[0;34m=\u001b[0m \u001b[0;32mTrue\u001b[0m\u001b[0;34m\u001b[0m\u001b[0;34m\u001b[0m\u001b[0m\n\u001b[1;32m    297\u001b[0m             \u001b[0;32melse\u001b[0m\u001b[0;34m:\u001b[0m\u001b[0;34m\u001b[0m\u001b[0;34m\u001b[0m\u001b[0m\n",
      "\u001b[0;31mKeyboardInterrupt\u001b[0m: "
     ]
    }
   ],
   "source": [
    "def schedule(epoch):\n",
    "    return base_lr * decay**(epoch)\n",
    "\n",
    "ls = callbacks.LearningRateScheduler(schedule)\n",
    "#model['student_reg'].load_weights('saved_models/weights.best.student_reg.hdf5')\n",
    "checkpointer = ModelCheckpoint(filepath='saved_models/weights.best.student_reg.hdf5', \n",
    "                               verbose=0, save_best_only=True)\n",
    "\n",
    "\n",
    "\n",
    "# hist['student_reg'] = model['student_reg'].fit(x_train, y_train,\n",
    "#           batch_size=batch_size,\n",
    "#           epochs=100,\n",
    "#           verbose=1,\n",
    "#           validation_data=(x_test, y_test),\n",
    "#           callbacks=[ls,checkpointer, l2Changer],\n",
    "#             )\n",
    "\n",
    "hist['student_reg'] = model['student_reg'].fit_generator(train_datagen.flow(x_train, y_train, batch_size=batch_size),\n",
    "                                                           steps_per_epoch=len(x_train) // batch_size + 1, \n",
    "                                                           epochs=100, verbose=1, \n",
    "                                                           validation_data=test_datagen.flow(x_test, y_test), \n",
    "                                                           validation_steps=len(x_test) // batch_size,\n",
    "                                                           callbacks=[checkpointer, ls, l2Changer])\n",
    "score['student_reg'] = model['student_reg'].evaluate(x_test, y_test, verbose=0)\n",
    "print('Test loss:', score['student_reg'][0])\n",
    "print('Test accuracy:', score['student_reg'][-1])"
   ]
  },
  {
   "cell_type": "code",
   "execution_count": 65,
   "metadata": {},
   "outputs": [
    {
     "data": {
      "text/plain": [
       "8960"
      ]
     },
     "execution_count": 65,
     "metadata": {},
     "output_type": "execute_result"
    }
   ],
   "source": [
    "batch_size * 7"
   ]
  },
  {
   "cell_type": "code",
   "execution_count": 74,
   "metadata": {},
   "outputs": [
    {
     "name": "stdout",
     "output_type": "stream",
     "text": [
      "Test loss: 0.3785821808552168\n",
      "Test accuracy: 0.9912019880815264\n",
      "Test errors: 87\n"
     ]
    }
   ],
   "source": [
    "model['student_reg'].load_weights('saved_models/weights.best.student_reg.hdf5')\n",
    "score['student_reg'] = model['student_reg'].evaluate_generator(test_datagen.flow(x_test, y_test),\n",
    "                                                               steps= len(x_test), verbose=0)\n",
    "n_errors = np.int((1-score['student_reg'][-1])*len(y_test))\n",
    "print('Test loss:', score['student_reg'][0])\n",
    "print('Test accuracy:', score['student_reg'][-1])\n",
    "print('Test errors:', n_errors)"
   ]
  },
  {
   "cell_type": "code",
   "execution_count": 61,
   "metadata": {},
   "outputs": [
    {
     "name": "stdout",
     "output_type": "stream",
     "text": [
      "10000/10000 [==============================] - 49s 5ms/step\n"
     ]
    }
   ],
   "source": [
    "preds = model['student_reg'].predict_generator(test_datagen.flow(x_test, y_test), steps=len(x_test) / 1, verbose=1)"
   ]
  },
  {
   "cell_type": "code",
   "execution_count": 54,
   "metadata": {},
   "outputs": [
    {
     "data": {
      "text/plain": [
       "0.9933"
      ]
     },
     "execution_count": 54,
     "metadata": {},
     "output_type": "execute_result"
    }
   ],
   "source": [
    "p = np.argmax(preds, axis=-1)\n",
    "np.mean(np.argmax(y_test, axis=-1) == p)"
   ]
  },
  {
   "cell_type": "markdown",
   "metadata": {},
   "source": [
    "# Analysis"
   ]
  },
  {
   "cell_type": "code",
   "execution_count": 143,
   "metadata": {},
   "outputs": [
    {
     "name": "stdout",
     "output_type": "stream",
     "text": [
      "60000/60000 [==============================] - 3s 58us/step\n",
      "60000/60000 [==============================] - 6s 96us/step\n",
      "60000/60000 [==============================] - 11s 182us/step\n"
     ]
    },
    {
     "data": {
      "text/plain": [
       "(0.3622794, 0.53431916)"
      ]
     },
     "execution_count": 143,
     "metadata": {},
     "output_type": "execute_result"
    }
   ],
   "source": [
    "#T = 20\n",
    "preds['teacher_no_T'] = model['teacher'].predict(x_train, verbose=1, batch_size=batch_size)\n",
    "preds['teacher'] = model['teacher'].T_model(T).predict(x_train, verbose=1, batch_size=batch_size)\n",
    "preds['soft_teacher'] = model['soft_teacher'].predict(x_train, verbose=1, batch_size=batch_size)\n",
    "\n",
    "import numpy as np\n",
    "np.linalg.norm(preds['teacher'], axis=-1).mean(), np.linalg.norm(preds['soft_teacher'], axis=-1).mean()"
   ]
  },
  {
   "cell_type": "code",
   "execution_count": 144,
   "metadata": {},
   "outputs": [
    {
     "data": {
      "image/png": "[encoded data removed]",
      "text/plain": [
       "<Figure size 432x288 with 1 Axes>"
      ]
     },
     "metadata": {
      "needs_background": "light"
     },
     "output_type": "display_data"
    },
    {
     "data": {
      "image/png": "[encoded data removed]",
      "text/plain": [
       "<Figure size 432x288 with 1 Axes>"
      ]
     },
     "metadata": {
      "needs_background": "light"
     },
     "output_type": "display_data"
    },
    {
     "data": {
      "image/png": "[encoded data removed]",
      "text/plain": [
       "<Figure size 432x288 with 1 Axes>"
      ]
     },
     "metadata": {
      "needs_background": "light"
     },
     "output_type": "display_data"
    }
   ],
   "source": [
    "## Plot constrained softmax probabilities generated by the model\n",
    "\n",
    "import matplotlib.pyplot as plt\n",
    "ind = np.random.choice(len(preds['teacher_no_T']), 50)\n",
    "plt.plot(np.sort(preds['teacher_no_T'])[ind].T)\n",
    "plt.show()\n",
    "\n",
    "ind = np.random.choice(len(preds['teacher']), 50)\n",
    "plt.plot(np.sort(preds['teacher'])[ind].T)\n",
    "plt.show()\n",
    "\n",
    "ind = np.random.choice(len(preds['soft_teacher']), 500)\n",
    "plt.plot(np.sort(preds['soft_teacher'])[ind].T)\n",
    "plt.show()"
   ]
  },
  {
   "cell_type": "code",
   "execution_count": 110,
   "metadata": {},
   "outputs": [
    {
     "data": {
      "text/plain": [
       "[((1, 8), 6651),\n",
       " ((7, 9), 6180),\n",
       " ((3, 5), 6073),\n",
       " ((0, 8), 5912),\n",
       " ((6, 8), 5889),\n",
       " ((2, 8), 5884),\n",
       " ((9, 8), 5848),\n",
       " ((4, 9), 5843),\n",
       " ((8, 5), 5713),\n",
       " ((5, 8), 5393),\n",
       " ((8, 9), 99),\n",
       " ((7, 2), 60),\n",
       " ((1, 7), 53),\n",
       " ((9, 4), 47),\n",
       " ((9, 7), 44),\n",
       " ((7, 1), 24),\n",
       " ((2, 7), 24),\n",
       " ((1, 4), 23),\n",
       " ((5, 3), 23),\n",
       " ((3, 2), 23)]"
      ]
     },
     "execution_count": 110,
     "metadata": {},
     "output_type": "execute_result"
    }
   ],
   "source": [
    "from collections import Counter\n",
    "\n",
    "pairs = [(x[-1], x[-2]) for x in np.argsort(preds['soft_teacher'])]\n",
    "counts = Counter(pairs)\n",
    "counts.most_common(20)"
   ]
  },
  {
   "cell_type": "code",
   "execution_count": 135,
   "metadata": {},
   "outputs": [
    {
     "data": {
      "image/png": "[encoded data removed]",
      "text/plain": [
       "<Figure size 720x180 with 3 Axes>"
      ]
     },
     "metadata": {
      "needs_background": "light"
     },
     "output_type": "display_data"
    }
   ],
   "source": [
    "i = np.random.randint(len(x_train))\n",
    "#i = 54270\n",
    "fig, ax = plt.subplots(1, 3, figsize=(10,2.5), gridspec_kw={'width_ratios': [1.6, 2, 2], 'wspace': 0.3})\n",
    "# plt.tight_layout()\n",
    "plt.gcf().subplots_adjust(bottom=0.2)\n",
    "ax[0].imshow(x_train[i][:,:,0], cmap='gray', vmin=0, vmax=1)\n",
    "ax[0].axis('off')\n",
    "ax[0].set_title('Input')\n",
    "ax[1].bar(np.linspace(0,9,10), preds['soft_teacher'][i])\n",
    "ax[1].set_xticks(np.arange(0, 10, step=1))\n",
    "ax[1].set_ylim(top=0.7)\n",
    "ax[1].spines['top'].set_visible(False)\n",
    "ax[1].spines['right'].set_visible(False)\n",
    "ax[1].set_xlabel('Classes')\n",
    "ax[1].set_ylabel('Probabilities')\n",
    "ax[1].set_title('Regularized Network')\n",
    "ax[2].bar(np.linspace(0,9,10), preds['teacher'][i])\n",
    "ax[2].set_xticks(np.arange(0, 10, step=1))\n",
    "ax[2].set_ylim(top=0.7)\n",
    "ax[2].spines['top'].set_visible(False)\n",
    "ax[2].spines['right'].set_visible(False)\n",
    "ax[2].set_xlabel('Classes')\n",
    "ax[2].set_ylabel('Probabilities')\n",
    "ax[2].set_title('Regular Network (T=20)')\n",
    "plt.savefig('figures/mnsit_{}.pdf'.format(i))\n",
    "plt.show()\n",
    "\n",
    "#plt.savefig('foo.png')"
   ]
  },
  {
   "cell_type": "code",
   "execution_count": 71,
   "metadata": {},
   "outputs": [
    {
     "data": {
      "text/plain": [
       "54270"
      ]
     },
     "execution_count": 71,
     "metadata": {},
     "output_type": "execute_result"
    }
   ],
   "source": [
    "i"
   ]
  },
  {
   "cell_type": "code",
   "execution_count": null,
   "metadata": {},
   "outputs": [],
   "source": []
  },
  {
   "cell_type": "code",
   "execution_count": null,
   "metadata": {},
   "outputs": [],
   "source": [
    "from collections import Counter\n",
    "\n",
    "pairs = [(x[0], x[1]) for x in np.argsort(preds_st)]\n",
    "counts = Counter(pairs)\n",
    "counts.most_common(len(counts))"
   ]
  },
  {
   "cell_type": "code",
   "execution_count": 94,
   "metadata": {},
   "outputs": [
    {
     "data": {
      "text/plain": [
       "array([[  1,   3,   7,   9,  10,  66],\n",
       "       [  0,   2,   3,   4,   6, 100]], dtype=int32)"
      ]
     },
     "execution_count": 94,
     "metadata": {},
     "output_type": "execute_result"
    }
   ],
   "source": [
    "import tensorflow as tf\n",
    "a = [[1, 10, 7, 9, 3, 66], [6, 4, 3, 2, 100, 0]]\n",
    "b = tf.sort(a,axis=-1,direction='ASCENDING',name=None)\n",
    "c = tf.keras.backend.eval(b)\n",
    "c"
   ]
  }
 ],
 "metadata": {
  "kernelspec": {
   "display_name": "mask_rcnn",
   "language": "python",
   "name": "mask_rcnn"
  },
  "language_info": {
   "codemirror_mode": {
    "name": "ipython",
    "version": 3
   },
   "file_extension": ".py",
   "mimetype": "text/x-python",
   "name": "python",
   "nbconvert_exporter": "python",
   "pygments_lexer": "ipython3",
   "version": "3.6.8"
  }
 },
 "nbformat": 4,
 "nbformat_minor": 4
}
